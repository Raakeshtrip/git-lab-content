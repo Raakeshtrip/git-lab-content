{
 "cells": [
  {
   "cell_type": "code",
   "execution_count": 1,
   "metadata": {},
   "outputs": [],
   "source": [
    "# Define the Film class\n",
    "class Film():\n",
    "\n",
    "    # A required function to initialize the class object\n",
    "    def __init__(self, name, length, release_year, language):\n",
    "        self.name = name\n",
    "        self.length = length\n",
    "        self.release_year = release_year\n",
    "        self.language = language"
   ]
  },
  {
   "cell_type": "code",
   "execution_count": 2,
   "metadata": {},
   "outputs": [],
   "source": [
    "# An object belonging to the Film class\n",
    "star_wars = Film(\"Star Wars\", 121, 1977, \"English\")"
   ]
  },
  {
   "cell_type": "code",
   "execution_count": 3,
   "metadata": {},
   "outputs": [],
   "source": [
    "# Define the Expert class\n",
    "class Expert():\n",
    "    \n",
    "    # A required function to initialize the class object\n",
    "    def __init__(self, name):\n",
    "        self.name = name\n",
    "\n",
    "    # A method that takes another object as its argument\n",
    "    def boast(self, obj):\n",
    "\n",
    "        # Print out Expert object's name\n",
    "        print(\"Hi. My name is\", self.name)\n",
    "        \n",
    "        # Print out the name of the Film class object\n",
    "        print(\"I know a lot about\", obj.name)\n",
    "        print(\"It is\", obj.length, \"minutes long\")\n",
    "        print(\"It was released in\", obj.release_year)\n",
    "        print(\"It is in\", obj.language)"
   ]
  },
  {
   "cell_type": "code",
   "execution_count": 4,
   "metadata": {},
   "outputs": [],
   "source": [
    "# An object belonging to the Film class\n",
    "superfan = Expert(\"George Lucas\")"
   ]
  },
  {
   "cell_type": "code",
   "execution_count": 5,
   "metadata": {},
   "outputs": [
    {
     "name": "stdout",
     "output_type": "stream",
     "text": [
      "Hi. My name is George Lucas\n",
      "I know a lot about Star Wars\n",
      "It is 121 minutes long\n",
      "It was released in 1977\n",
      "It is in English\n"
     ]
    }
   ],
   "source": [
    "superfan.boast(star_wars)"
   ]
  }
 ],
 "metadata": {
  "kernelspec": {
   "display_name": "Python 3",
   "language": "python",
   "name": "python3"
  },
  "language_info": {
   "codemirror_mode": {
    "name": "ipython",
    "version": 3
   },
   "file_extension": ".py",
   "mimetype": "text/x-python",
   "name": "python",
   "nbconvert_exporter": "python",
   "pygments_lexer": "ipython3",
   "version": "3.6.5"
  },
  "varInspector": {
   "cols": {
    "lenName": 16,
    "lenType": 16,
    "lenVar": 40
   },
   "kernels_config": {
    "python": {
     "delete_cmd_postfix": "",
     "delete_cmd_prefix": "del ",
     "library": "var_list.py",
     "varRefreshCmd": "print(var_dic_list())"
    },
    "r": {
     "delete_cmd_postfix": ") ",
     "delete_cmd_prefix": "rm(",
     "library": "var_list.r",
     "varRefreshCmd": "cat(var_dic_list()) "
    }
   },
   "types_to_exclude": [
    "module",
    "function",
    "builtin_function_or_method",
    "instance",
    "_Feature"
   ],
   "window_display": false
  }
 },
 "nbformat": 4,
 "nbformat_minor": 2
}
