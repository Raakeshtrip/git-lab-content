{
 "cells": [
  {
   "cell_type": "code",
   "execution_count": 1,
   "metadata": {
    "collapsed": true
   },
   "outputs": [],
   "source": [
    "# Define the Surfer Class\n",
    "class Surfer():\n",
    "\n",
    "  # Initialize the Surfer constructor \n",
    "  def __init__(self, name, hometown, rank):\n",
    "      self.name = name + \" \" + \"Dude\"\n",
    "      self.hometown = hometown + \" \" + \"Waves\"\n",
    "      self.rank = rank"
   ]
  },
  {
   "cell_type": "code",
   "execution_count": 2,
   "metadata": {
    "collapsed": true
   },
   "outputs": [],
   "source": [
    "# Create an instance of the Surfer Class\n",
    "surfer = Surfer('Kelly Slater', 'Cocoa Beach', 1)"
   ]
  },
  {
   "cell_type": "code",
   "execution_count": 3,
   "metadata": {},
   "outputs": [
    {
     "name": "stdout",
     "output_type": "stream",
     "text": [
      "Kelly Slater Dude\n",
      "Cocoa Beach Waves\n",
      "1\n"
     ]
    }
   ],
   "source": [
    "# Print the object's attributes\n",
    "print(surfer.name)\n",
    "print(surfer.hometown)\n",
    "print(surfer.rank)"
   ]
  },
  {
   "cell_type": "code",
   "execution_count": 4,
   "metadata": {},
   "outputs": [
    {
     "name": "stdout",
     "output_type": "stream",
     "text": [
      "What is the surfer's name? Kelly Slater Dude\n",
      "What is the surfer's hometown? Cocoa Beach Waves\n",
      "What is the surfer's rank? 1\n",
      "Kelly Slater Dude Dude\n",
      "Cocoa Beach Waves Waves\n",
      "1\n",
      "Would you like to continue? (y/n) n\n"
     ]
    }
   ],
   "source": [
    "# ----BONUS----\n",
    "# Variable to keep track of changes to while loop\n",
    "go = True\n",
    "\n",
    "# While loop runs so long as go is True\n",
    "while go:\n",
    "\n",
    "  # Ask for user input and store answers within variables\n",
    "  name = input(\"What is the surfer's name? \")\n",
    "  hometown = input(\"What is the surfer's hometown? \")\n",
    "  rank = int(input(\"What is the surfer's rank? \"))\n",
    "  \n",
    "  # Create a new instance of the Surfer class using these values\n",
    "  surfer = Surfer(name, hometown, rank)\n",
    "\n",
    "  # Print the object's attributes\n",
    "  print(surfer.name)\n",
    "  print(surfer.hometown)\n",
    "  print(surfer.rank)\n",
    "\n",
    "  # Check to see if the user would like to continue\n",
    "  check = input(\"Would you like to continue? (y/n) \")\n",
    "  if(check.lower() == \"y\"):\n",
    "    go = True\n",
    "  else:\n",
    "    go = False"
   ]
  }
 ],
 "metadata": {
  "kernelspec": {
   "display_name": "Python [default]",
   "language": "python",
   "name": "python3"
  },
  "language_info": {
   "codemirror_mode": {
    "name": "ipython",
    "version": 3
   },
   "file_extension": ".py",
   "mimetype": "text/x-python",
   "name": "python",
   "nbconvert_exporter": "python",
   "pygments_lexer": "ipython3",
   "version": "3.6.5"
  },
  "varInspector": {
   "cols": {
    "lenName": 16,
    "lenType": 16,
    "lenVar": 40
   },
   "kernels_config": {
    "python": {
     "delete_cmd_postfix": "",
     "delete_cmd_prefix": "del ",
     "library": "var_list.py",
     "varRefreshCmd": "print(var_dic_list())"
    },
    "r": {
     "delete_cmd_postfix": ") ",
     "delete_cmd_prefix": "rm(",
     "library": "var_list.r",
     "varRefreshCmd": "cat(var_dic_list()) "
    }
   },
   "types_to_exclude": [
    "module",
    "function",
    "builtin_function_or_method",
    "instance",
    "_Feature"
   ],
   "window_display": false
  }
 },
 "nbformat": 4,
 "nbformat_minor": 2
}
