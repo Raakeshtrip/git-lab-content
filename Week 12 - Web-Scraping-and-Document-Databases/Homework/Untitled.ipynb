{
 "cells": [
  {
   "cell_type": "code",
   "execution_count": 30,
   "metadata": {},
   "outputs": [],
   "source": [
    "import pandas as pd\n",
    "from bs4 import BeautifulSoup\n",
    "import requests\n",
    "import pymongo\n",
    "from splinter import Browser\n",
    "import time"
   ]
  },
  {
   "cell_type": "code",
   "execution_count": 31,
   "metadata": {},
   "outputs": [],
   "source": [
    "def init_browser():\n",
    "    # @NOTE: Replace the path with your actual path to the chromedriver\n",
    "    executable_path = {\"executable_path\": \"chromedriver\"}\n",
    "    return Browser(\"chrome\", **executable_path, headless=False)"
   ]
  },
  {
   "cell_type": "code",
   "execution_count": 32,
   "metadata": {},
   "outputs": [
    {
     "name": "stdout",
     "output_type": "stream",
     "text": [
      "<!DOCTYPE html>\n",
      "<html xmlns=\"http://www.w3.org/1999/xhtml\"><head>\n",
      "<meta content=\"NOINDEX, NOFOLLOW\" name=\"ROBOTS\"/>\n",
      "<meta content=\"max-age=0\" http-equiv=\"cache-control\"/>\n",
      "<meta content=\"no-cache\" http-equiv=\"cache-control\"/>\n",
      "<meta content=\"0\" http-equiv=\"expires\"/>\n",
      "<meta content=\"Tue, 01 Jan 1980 1:00:00 GMT\" http-equiv=\"expires\"/>\n",
      "<meta content=\"no-cache\" http-equiv=\"pragma\"/>\n",
      "<meta content=\"10; url=/distil_r_captcha.html?requestId=3129bb4e-8bfb-4587-ae61-ddd33c9aec1a&amp;httpReferrer=%2Fmap\" http-equiv=\"refresh\"/>\n",
      "<script type=\"text/javascript\">\n",
      "\t(function(window){\n",
      "\t\ttry {\n",
      "\t\t\tif (typeof sessionStorage !== 'undefined'){\n",
      "\t\t\t\tsessionStorage.setItem('distil_referrer', document.referrer);\n",
      "\t\t\t}\n",
      "\t\t} catch (e){}\n",
      "\t})(window);\n",
      "</script>\n",
      "<script defer=\"\" src=\"/cndnrlsttdstl.js\" type=\"text/javascript\"></script><style type=\"text/css\">#d__fFH{position:absolute;top:-5000px;left:-5000px}#d__fF{font-family:serif;font-size:200px;visibility:hidden}#aexdcevzcutedyrqbe{display:none!important}</style></head>\n",
      "<body>\n",
      "<div id=\"distilIdentificationBlock\"> </div>\n",
      "<div id=\"d__fFH\" style=\"position: absolute !important; top: -5000px !important; left: -5000px !important;\"><object classid=\"clsid:3050f819-98b5-11cf-bb82-00aa00bdce0b\" height=\"0px\" id=\"d_dlg\" width=\"0px\"></object><span id=\"d__fF\" style=\"font-family: Courier, serif !important; font-size: 72px !important; visibility: hidden;\">The quick brown fox jumps over the lazy dog.</span></div></body></html>\n"
     ]
    }
   ],
   "source": [
    "url='https://www.realtor.ca/map#ZoomLevel=11&Center=43.677222%2C-79.531567&LatitudeMax=43.78142&LongitudeMax=-79.20747&L'\n",
    "browser=init_browser()\n",
    "browser.visit(url)\n",
    "html = browser.html\n",
    "soup = BeautifulSoup(html, 'html.parser')\n",
    "results = soup.find_all('div',class_='showOnResults stopOverScroll')\n",
    "print(soup)\n",
    "# nasa_title=results[0].find(class_='content_title').text\n",
    "# nasa_p=results[0].find(class_='article_teaser_body').text\n",
    "# for result in results:\n",
    "#     print(result.find(class_='SmallListingCardAddress'))\n",
    "    \n",
    "\n",
    " \n"
   ]
  },
  {
   "cell_type": "code",
   "execution_count": null,
   "metadata": {},
   "outputs": [],
   "source": []
  },
  {
   "cell_type": "code",
   "execution_count": null,
   "metadata": {},
   "outputs": [],
   "source": []
  },
  {
   "cell_type": "code",
   "execution_count": null,
   "metadata": {},
   "outputs": [],
   "source": []
  }
 ],
 "metadata": {
  "kernelspec": {
   "display_name": "Python 3",
   "language": "python",
   "name": "python3"
  },
  "language_info": {
   "codemirror_mode": {
    "name": "ipython",
    "version": 3
   },
   "file_extension": ".py",
   "mimetype": "text/x-python",
   "name": "python",
   "nbconvert_exporter": "python",
   "pygments_lexer": "ipython3",
   "version": "3.7.3"
  }
 },
 "nbformat": 4,
 "nbformat_minor": 2
}
