{
 "cells": [
  {
   "cell_type": "code",
   "execution_count": 1,
   "metadata": {},
   "outputs": [],
   "source": [
    "# Dependencies\n",
    "from bs4 import BeautifulSoup\n",
    "from splinter import Browser\n",
    "from pprint import pprint\n",
    "import pymongo\n",
    "import pandas as pd\n",
    "import requests\n"
   ]
  },
  {
   "cell_type": "code",
   "execution_count": 2,
   "metadata": {},
   "outputs": [],
   "source": [
    "#driver = webdriver.Chrome(\"/usr/lib/chromium-browser/chromedriver\")\n",
    "#driver = {'executable_path': 'chromedriver.exe'}\n",
    "\n",
    "executable_path = {'executable_path': 'chromedriver'}\n",
    "browser = Browser('chrome', **executable_path, headless=False)"
   ]
  },
  {
   "cell_type": "code",
   "execution_count": 3,
   "metadata": {},
   "outputs": [],
   "source": [
    "url = 'https://canada.michaels.com/on/demandware.store/Sites-MichaelsCanada-Site/en_CA/Search-Show?cgid=844963246'\n"
   ]
  },
  {
   "cell_type": "code",
   "execution_count": 4,
   "metadata": {},
   "outputs": [],
   "source": [
    "# Retrieve page with the requests module\n",
    "\n",
    "response = requests.get(url)\n"
   ]
  },
  {
   "cell_type": "code",
   "execution_count": 5,
   "metadata": {},
   "outputs": [],
   "source": [
    "# Create BeautifulSoup object; parse with 'lxml'\n",
    "soup = BeautifulSoup(response.text, 'lxml')"
   ]
  },
  {
   "cell_type": "code",
   "execution_count": 6,
   "metadata": {},
   "outputs": [
    {
     "name": "stdout",
     "output_type": "stream",
     "text": [
      "[<div class=\"cornercontainerdiv wraptocenter\"><span></span>\n",
      "<span></span><a href=\"https://canada.michaels.com/on/demandware.store/Sites-MichaelsCanada-Site/en_CA/Product-Show?pid=M10174791&amp;cgid=844963246\" title=\"Crafty Cuts® Cotton Fabric Mini Bolt\">\n",
      "<img alt=\"img\" src=\"https://imgs.michaels.com/MAM/assets/1/726D45CA1C364650A39CD1B336F03305/img/8F9A654FD7A04CFC941170A707E7F399/174791.jpg?fit=inside|220:220\" title=\"10411991.jpg\"/>\n",
      "</a>\n",
      "<a class=\"quick-view cboxElement\" href=\"https://canada.michaels.com/on/demandware.store/Sites-MichaelsCanada-Site/en_CA/Product-Show?pid=M10174791&amp;source=quickview\"><img alt=\"View\" src=\"https://canada.michaels.com/static/on/demandware.static/Sites-MichaelsCanada-Site/-/en_CA/v1566376675348/../images/quick-view.png\"/></a>\n",
      "</div>, <div class=\"cornercontainerdiv wraptocenter\"><span></span>\n",
      "<span></span><a href=\"https://canada.michaels.com/on/demandware.store/Sites-MichaelsCanada-Site/en_CA/Product-Show?pid=10475881&amp;cgid=844963246\" title=\"Yellow Dots Print Fabric By Loops &amp; Threads™\">\n",
      "<img alt=\"img\" src=\"https://imgs.michaels.com/MAM/assets/1/726D45CA1C364650A39CD1B336F03305/img/AEFC374AA8AF44039CD5E513EBBC220C/10475881.jpg?fit=inside|220:220\" title=\"10475881.jpg\"/>\n",
      "</a>\n",
      "<a class=\"quick-view cboxElement\" href=\"https://canada.michaels.com/on/demandware.store/Sites-MichaelsCanada-Site/en_CA/Product-Show?pid=10475881&amp;source=quickview\"><img alt=\"View\" src=\"https://canada.michaels.com/static/on/demandware.static/Sites-MichaelsCanada-Site/-/en_CA/v1566376675348/../images/quick-view.png\"/></a>\n",
      "</div>, <div class=\"cornercontainerdiv wraptocenter\"><span></span>\n",
      "<span></span><a href=\"https://canada.michaels.com/on/demandware.store/Sites-MichaelsCanada-Site/en_CA/Product-Show?pid=10475883&amp;cgid=844963246\" title=\"Coral Geometric Fabric By Loops &amp; Threads™\">\n",
      "<img alt=\"img\" src=\"https://imgs.michaels.com/MAM/assets/1/726D45CA1C364650A39CD1B336F03305/img/9D6D0566381F4CEA98BB55D50BD547B9/10475883.jpg?fit=inside|220:220\" title=\"10475883.jpg\"/>\n",
      "</a>\n",
      "<a class=\"quick-view cboxElement\" href=\"https://canada.michaels.com/on/demandware.store/Sites-MichaelsCanada-Site/en_CA/Product-Show?pid=10475883&amp;source=quickview\"><img alt=\"View\" src=\"https://canada.michaels.com/static/on/demandware.static/Sites-MichaelsCanada-Site/-/en_CA/v1566376675348/../images/quick-view.png\"/></a>\n",
      "</div>, <div class=\"cornercontainerdiv wraptocenter\"><span></span>\n",
      "<span></span><a href=\"https://canada.michaels.com/on/demandware.store/Sites-MichaelsCanada-Site/en_CA/Product-Show?pid=10475885&amp;cgid=844963246\" title=\"Coral Dots Print Fabric By Loops &amp; Threads™\">\n",
      "<img alt=\"img\" src=\"https://imgs.michaels.com/MAM/assets/1/726D45CA1C364650A39CD1B336F03305/img/122F44270292402E89C7288CFBC0A7ED/10475885.jpg?fit=inside|220:220\" title=\"10475885.jpg\"/>\n",
      "</a>\n",
      "<a class=\"quick-view cboxElement\" href=\"https://canada.michaels.com/on/demandware.store/Sites-MichaelsCanada-Site/en_CA/Product-Show?pid=10475885&amp;source=quickview\"><img alt=\"View\" src=\"https://canada.michaels.com/static/on/demandware.static/Sites-MichaelsCanada-Site/-/en_CA/v1566376675348/../images/quick-view.png\"/></a>\n",
      "</div>, <div class=\"cornercontainerdiv wraptocenter\"><span></span>\n",
      "<span></span><a href=\"https://canada.michaels.com/on/demandware.store/Sites-MichaelsCanada-Site/en_CA/Product-Show?pid=10509768&amp;cgid=844963246\" title=\"Fabric Scrap Value Pack By Loops &amp; Threads®\">\n",
      "<img alt=\"img\" src=\"https://imgs.michaels.com/MAM/assets/1/726D45CA1C364650A39CD1B336F03305/img/A0AB27F826DA4BFCA6842B1EED6D3A29/10509768.jpg?fit=inside|220:220\" title=\"10509768.jpg\"/>\n",
      "</a>\n",
      "<a class=\"quick-view cboxElement\" href=\"https://canada.michaels.com/on/demandware.store/Sites-MichaelsCanada-Site/en_CA/Product-Show?pid=10509768&amp;source=quickview\"><img alt=\"View\" src=\"https://canada.michaels.com/static/on/demandware.static/Sites-MichaelsCanada-Site/-/en_CA/v1566376675348/../images/quick-view.png\"/></a>\n",
      "</div>, <div class=\"cornercontainerdiv wraptocenter\"><span></span>\n",
      "<span></span><a href=\"https://canada.michaels.com/on/demandware.store/Sites-MichaelsCanada-Site/en_CA/Product-Show?pid=10475878&amp;cgid=844963246\" title=\"Gray Printed Fabric By Loops &amp; Threads™\">\n",
      "<img alt=\"img\" src=\"https://imgs.michaels.com/MAM/assets/1/726D45CA1C364650A39CD1B336F03305/img/9383AA7D741F461DAC6ECD25C8DE8E2B/10475878.jpg?fit=inside|220:220\" title=\"10475878.jpg\"/>\n",
      "</a>\n",
      "<a class=\"quick-view cboxElement\" href=\"https://canada.michaels.com/on/demandware.store/Sites-MichaelsCanada-Site/en_CA/Product-Show?pid=10475878&amp;source=quickview\"><img alt=\"View\" src=\"https://canada.michaels.com/static/on/demandware.static/Sites-MichaelsCanada-Site/-/en_CA/v1566376675348/../images/quick-view.png\"/></a>\n",
      "</div>, <div class=\"cornercontainerdiv wraptocenter\"><span></span>\n",
      "<span></span><a href=\"https://canada.michaels.com/on/demandware.store/Sites-MichaelsCanada-Site/en_CA/Product-Show?pid=10509550&amp;cgid=844963246\" title=\"Assorted Solid Fabric By Loops &amp; Threads™\">\n",
      "<img alt=\"img\" src=\"https://imgs.michaels.com/MAM/assets/1/726D45CA1C364650A39CD1B336F03305/img/53677814FD124BDB80A84525519C23DA/10509550.jpg?fit=inside|220:220\" title=\"10509550.jpg\"/>\n",
      "</a>\n",
      "<a class=\"quick-view cboxElement\" href=\"https://canada.michaels.com/on/demandware.store/Sites-MichaelsCanada-Site/en_CA/Product-Show?pid=10509550&amp;source=quickview\"><img alt=\"View\" src=\"https://canada.michaels.com/static/on/demandware.static/Sites-MichaelsCanada-Site/-/en_CA/v1566376675348/../images/quick-view.png\"/></a>\n",
      "</div>, <div class=\"cornercontainerdiv wraptocenter\"><span></span>\n",
      "<span></span><a href=\"https://canada.michaels.com/on/demandware.store/Sites-MichaelsCanada-Site/en_CA/Product-Show?pid=10475880&amp;cgid=844963246\" title=\"Yellow Chevron Fabric By Loops &amp; Threads™\">\n",
      "<img alt=\"img\" src=\"https://imgs.michaels.com/MAM/assets/1/726D45CA1C364650A39CD1B336F03305/img/AC5FA26D5A29425C8399C34F3710C85C/10475880.jpg?fit=inside|220:220\" title=\"10475880.jpg\"/>\n",
      "</a>\n",
      "<a class=\"quick-view cboxElement\" href=\"https://canada.michaels.com/on/demandware.store/Sites-MichaelsCanada-Site/en_CA/Product-Show?pid=10475880&amp;source=quickview\"><img alt=\"View\" src=\"https://canada.michaels.com/static/on/demandware.static/Sites-MichaelsCanada-Site/-/en_CA/v1566376675348/../images/quick-view.png\"/></a>\n",
      "</div>, <div class=\"cornercontainerdiv wraptocenter\"><span></span>\n",
      "<span></span><a href=\"https://canada.michaels.com/on/demandware.store/Sites-MichaelsCanada-Site/en_CA/Product-Show?pid=10475886&amp;cgid=844963246\" title=\"Coral Novelty Fabric By Loops &amp; Threads™\">\n",
      "<img alt=\"img\" src=\"https://imgs.michaels.com/MAM/assets/1/726D45CA1C364650A39CD1B336F03305/img/2E517FC0B5614E959B338EB708988006/10475886.jpg?fit=inside|220:220\" title=\"10475886.jpg\"/>\n",
      "</a>\n",
      "<a class=\"quick-view cboxElement\" href=\"https://canada.michaels.com/on/demandware.store/Sites-MichaelsCanada-Site/en_CA/Product-Show?pid=10475886&amp;source=quickview\"><img alt=\"View\" src=\"https://canada.michaels.com/static/on/demandware.static/Sites-MichaelsCanada-Site/-/en_CA/v1566376675348/../images/quick-view.png\"/></a>\n",
      "</div>, <div class=\"cornercontainerdiv wraptocenter\"><span></span>\n",
      "<span></span><a href=\"https://canada.michaels.com/on/demandware.store/Sites-MichaelsCanada-Site/en_CA/Product-Show?pid=10475879&amp;cgid=844963246\" title=\"Yellow Tonal Fabric By Loops &amp; Threads™\">\n",
      "<img alt=\"img\" src=\"https://imgs.michaels.com/MAM/assets/1/726D45CA1C364650A39CD1B336F03305/img/871D4437005440DE83E1E1EA1E1E4BC8/10475879.jpg?fit=inside|220:220\" title=\"10475879.jpg\"/>\n",
      "</a>\n",
      "<a class=\"quick-view cboxElement\" href=\"https://canada.michaels.com/on/demandware.store/Sites-MichaelsCanada-Site/en_CA/Product-Show?pid=10475879&amp;source=quickview\"><img alt=\"View\" src=\"https://canada.michaels.com/static/on/demandware.static/Sites-MichaelsCanada-Site/-/en_CA/v1566376675348/../images/quick-view.png\"/></a>\n",
      "</div>, <div class=\"cornercontainerdiv wraptocenter\"><span></span>\n",
      "<span></span><a href=\"https://canada.michaels.com/on/demandware.store/Sites-MichaelsCanada-Site/en_CA/Product-Show?pid=10475870&amp;cgid=844963246\" title=\"White &amp; Multicolored Chevron Fabric By Loops &amp; Threads™\">\n",
      "<img alt=\"img\" src=\"https://imgs.michaels.com/MAM/assets/1/726D45CA1C364650A39CD1B336F03305/img/EB59825E5CEA415BA5FBF9D5D196247B/10475870.jpg?fit=inside|220:220\" title=\"10475870.jpg\"/>\n",
      "</a>\n",
      "<a class=\"quick-view cboxElement\" href=\"https://canada.michaels.com/on/demandware.store/Sites-MichaelsCanada-Site/en_CA/Product-Show?pid=10475870&amp;source=quickview\"><img alt=\"View\" src=\"https://canada.michaels.com/static/on/demandware.static/Sites-MichaelsCanada-Site/-/en_CA/v1566376675348/../images/quick-view.png\"/></a>\n",
      "</div>, <div class=\"cornercontainerdiv wraptocenter\"><span></span>\n",
      "<span></span><a href=\"https://canada.michaels.com/on/demandware.store/Sites-MichaelsCanada-Site/en_CA/Product-Show?pid=10475872&amp;cgid=844963246\" title=\"Gray Tonal Fabric By Loops &amp; Threads™\">\n",
      "<img alt=\"img\" src=\"https://imgs.michaels.com/MAM/assets/1/726D45CA1C364650A39CD1B336F03305/img/CF33AD27961841A89D7A5F524C7F39F4/10475872.jpg?fit=inside|220:220\" title=\"10475872.jpg\"/>\n",
      "</a>\n",
      "<a class=\"quick-view cboxElement\" href=\"https://canada.michaels.com/on/demandware.store/Sites-MichaelsCanada-Site/en_CA/Product-Show?pid=10475872&amp;source=quickview\"><img alt=\"View\" src=\"https://canada.michaels.com/static/on/demandware.static/Sites-MichaelsCanada-Site/-/en_CA/v1566376675348/../images/quick-view.png\"/></a>\n",
      "</div>]\n"
     ]
    }
   ],
   "source": [
    "articles = soup.find_all('div',class_=\"cornercontainerdiv wraptocenter\")\n",
    "#articles = soup.find_all('a',class_=\"quick-view cboxElement\")\n",
    "print(articles)\n"
   ]
  },
  {
   "cell_type": "code",
   "execution_count": 8,
   "metadata": {},
   "outputs": [
    {
     "ename": "IndentationError",
     "evalue": "unindent does not match any outer indentation level (<tokenize>, line 24)",
     "output_type": "error",
     "traceback": [
      "\u001b[1;36m  File \u001b[1;32m\"<tokenize>\"\u001b[1;36m, line \u001b[1;32m24\u001b[0m\n\u001b[1;33m    print('http://books.toscrape.com/' + href)\u001b[0m\n\u001b[1;37m    ^\u001b[0m\n\u001b[1;31mIndentationError\u001b[0m\u001b[1;31m:\u001b[0m unindent does not match any outer indentation level\n"
     ]
    }
   ],
   "source": [
    "from splinter import Browser\n",
    "from bs4 import BeautifulSoup\n",
    "browser = Browser('chrome', **executable_path, headless=False)\n",
    "# Iterate through all pages\n",
    "for x in range(50):\n",
    "    # HTML object\n",
    "    browser.visit(url)\n",
    "    html = browser.html\n",
    "    # Parse HTML with Beautiful Soup\n",
    "    soup = BeautifulSoup(html, 'html.parser')\n",
    "    # Retrieve all elements that contain book information\n",
    "   # articles = soup.find_all('article', class_='product_pod')\n",
    "    articles = soup.find_all('div', class_=\"cornercontainerdiv wraptocenter\")\n",
    "\n",
    "    # Iterate through each book\n",
    "    for div in articles:\n",
    "        # Use Beautiful Soup's find() method to navigate and retrieve attributes\n",
    "        h3 = div.find('a')\n",
    "        link = h3.find('href')\n",
    "        href = link['href']\n",
    "        title = link['title']\n",
    "        print('-----------')\n",
    "        print(title)\n",
    "       print('http://books.toscrape.com/' + href)\n",
    "\n",
    "     Click the 'Next' button on each page\n",
    "    try:\n",
    "        browser.click_link_by_partial_text('next')\n",
    "          \n",
    "    except:\n",
    "        print(\"Scraping Complete\")"
   ]
  },
  {
   "cell_type": "code",
   "execution_count": null,
   "metadata": {},
   "outputs": [],
   "source": []
  }
 ],
 "metadata": {
  "kernelspec": {
   "display_name": "Python 3",
   "language": "python",
   "name": "python3"
  },
  "language_info": {
   "codemirror_mode": {
    "name": "ipython",
    "version": 3
   },
   "file_extension": ".py",
   "mimetype": "text/x-python",
   "name": "python",
   "nbconvert_exporter": "python",
   "pygments_lexer": "ipython3",
   "version": "3.7.3"
  }
 },
 "nbformat": 4,
 "nbformat_minor": 2
}
