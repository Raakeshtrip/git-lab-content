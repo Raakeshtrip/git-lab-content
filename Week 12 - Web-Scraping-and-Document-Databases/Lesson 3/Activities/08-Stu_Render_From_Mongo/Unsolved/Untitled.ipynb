{
 "cells": [
  {
   "cell_type": "code",
   "execution_count": 7,
   "metadata": {},
   "outputs": [],
   "source": [
    "from bs4 import BeautifulSoup\n",
    "import requests\n",
    "import pymongo"
   ]
  },
  {
   "cell_type": "code",
   "execution_count": 8,
   "metadata": {},
   "outputs": [],
   "source": [
    "# Define database and collection\n",
    "# Initialize PyMongo to work with MongoDBs\n",
    "conn = 'mongodb://localhost:27017'\n",
    "client = pymongo.MongoClient(conn)\n",
    "db = client.store_inventory\n",
    "collection = db.produce"
   ]
  },
  {
   "cell_type": "code",
   "execution_count": 9,
   "metadata": {},
   "outputs": [
    {
     "data": {
      "text/plain": [
       "<pymongo.results.InsertManyResult at 0x27a8ee05788>"
      ]
     },
     "execution_count": 9,
     "metadata": {},
     "output_type": "execute_result"
    }
   ],
   "source": [
    "db.produce.insert_many(\n",
    "    [\n",
    "         {\n",
    "      \"type\": \"apples\",\n",
    "      \"cost\": .23,\n",
    "      \"stock\": 333\n",
    "          },\n",
    "                 {\n",
    "      \"type\": \"oranges\",\n",
    "      \"cost\": .24,\n",
    "      \"stock\": 500\n",
    "          },\n",
    "        {\n",
    "      \"type\": \"pears\",\n",
    "      \"cost\": 1,\n",
    "      \"stock\": 100\n",
    "        },\n",
    "                 {\n",
    "      \"type\": \"pitch\",\n",
    "      \"cost\": 2.3,\n",
    "      \"stock\": 50\n",
    "        },\n",
    "         {\"type\": \"banana\",\n",
    "      \"cost\":.75,\n",
    "      \"stock\": 600\n",
    "           }\n",
    "        \n",
    "        \n",
    "    ]\n",
    ")"
   ]
  },
  {
   "cell_type": "code",
   "execution_count": null,
   "metadata": {},
   "outputs": [],
   "source": []
  }
 ],
 "metadata": {
  "kernelspec": {
   "display_name": "Python 3",
   "language": "python",
   "name": "python3"
  },
  "language_info": {
   "codemirror_mode": {
    "name": "ipython",
    "version": 3
   },
   "file_extension": ".py",
   "mimetype": "text/x-python",
   "name": "python",
   "nbconvert_exporter": "python",
   "pygments_lexer": "ipython3",
   "version": "3.7.3"
  }
 },
 "nbformat": 4,
 "nbformat_minor": 2
}
