{
 "cells": [
  {
   "cell_type": "code",
   "execution_count": 1,
   "metadata": {
    "collapsed": true
   },
   "outputs": [],
   "source": [
    "# Dependencies\n",
    "from bs4 import BeautifulSoup\n",
    "import requests\n",
    "import pymongo"
   ]
  },
  {
   "cell_type": "code",
   "execution_count": 2,
   "metadata": {
    "collapsed": true
   },
   "outputs": [],
   "source": [
    "# Initialize PyMongo to work with MongoDBs\n",
    "conn = 'mongodb://localhost:27017'\n",
    "client = pymongo.MongoClient(conn)"
   ]
  },
  {
   "cell_type": "code",
   "execution_count": 3,
   "metadata": {
    "collapsed": true
   },
   "outputs": [],
   "source": [
    "# Define database and collection\n",
    "db = client.nhl_db\n",
    "collection = db.articles"
   ]
  },
  {
   "cell_type": "code",
   "execution_count": 4,
   "metadata": {
    "collapsed": true
   },
   "outputs": [],
   "source": [
    "# URL of page to be scraped\n",
    "url = 'https://www.nhl.com/'\n",
    "\n",
    "# Retrieve page with the requests module\n",
    "response = requests.get(url)\n",
    "# Create BeautifulSoup object; parse with 'lxml'\n",
    "soup = BeautifulSoup(response.text, 'lxml')"
   ]
  },
  {
   "cell_type": "code",
   "execution_count": 5,
   "metadata": {},
   "outputs": [
    {
     "name": "stdout",
     "output_type": "stream",
     "text": [
      "-----------------\n",
      "Lady Byng Trophy finalists unveiled\n",
      "Barkov, O'Reilly, William Karlsson up for award given for combination of skill, gentlemanly play\n",
      "2018-04-20\n",
      "19:00pm\n",
      "-----------------\n",
      "Peters resigns as Hurricanes coach\n",
      "Went 137-138-53 in four seasons with Carolina\n",
      "2018-04-20\n",
      "12:00am\n",
      "-----------------\n",
      "Bergeron skates, could return for Bruins in Game 5 against Maple Leafs\n",
      "Boston one win from advancing to second round\n",
      "2018-04-20\n",
      "14:33pm\n",
      "-----------------\n",
      "Friday Four: Golden Knights continue fairy-tale season\n",
      "NHL Network analyst Weekes also discusses Sharks, Capitals-Blue Jackets series, Subban\n",
      "2018-04-20\n",
      "14:01pm\n",
      "-----------------\n",
      "Fantasy: Daily primer for 2018 Stanley Cup Playoffs\n",
      "Kadri back from suspension in Game 5; Bergeron could return; Wennberg skating\n",
      "2018-04-20\n",
      "19:05pm\n",
      "-----------------\n",
      "Sharks expect to stick with same lineup in second round\n",
      "Coach says he'd be 'idiot' to make changes from group that swept Ducks\n",
      "2018-04-20\n",
      "17:20pm\n",
      "-----------------\n",
      "Doughty open to signing extension with Kings\n",
      "Norris Trophy finalist can begin negotiations July 1, has one season remaining on contract\n",
      "2018-04-20\n",
      "13:27pm\n",
      "-----------------\n",
      "Lightning hope Callahan can play against Devils in Game 5\n",
      "Forward could return from upper-body injury; New Jersey might be without defenseman Vatanen\n",
      "2018-04-20\n",
      "15:09pm\n",
      "-----------------\n",
      "Matthews, others fail to boost Maple Leafs against Bruins in Game 4\n",
      "Toronto on brink of elimination after Nylander, Andersen also struggle\n",
      "2018-04-20\n",
      "00:54am\n",
      "-----------------\n",
      "Cole brings playoff experience to young Blue Jackets\n",
      "Two-time Cup winner provides championship pedigree for team that has never won postseason series\n",
      "2018-04-20\n",
      "16:35pm\n",
      "-----------------\n",
      "Matthews has top-selling NHL jersey this season\n",
      "Maple Leafs forward ahead of Crosby, McDavid\n",
      "2018-04-20\n",
      "10:00am\n",
      "-----------------\n",
      "Zajac aims to carry load, help Devils extend series against Lightning\n",
      "Veteran center will be relied upon again by New Jersey in Game 5\n",
      "2018-04-20\n",
      "11:35am\n",
      "-----------------\n",
      "Bruins step up without Bergeron against Maple Leafs in Game 4\n",
      "Marchand, Pastrnak combine for three points for Boston, which is one win from advancing\n",
      "2018-04-20\n",
      "01:18am\n",
      "-----------------\n",
      "Lamoureuxs enjoying Golden Knights playoff success\n",
      "Twins who won Olympic gold with U.S. women's hockey team keeping close eye on Stanley Cup Playoffs\n",
      "2018-04-20\n",
      "14:13pm\n",
      "-----------------\n",
      "Girl who got puck from Connolly to meet Capitals forward\n",
      "Keelan Moxley, family will be guests of Washington owner for Game 5 against Blue Jackets\n",
      "2018-04-19\n",
      "13:48pm\n",
      "-----------------\n",
      "Vatanen questionable for Devils in Game 5 against Lightning\n",
      "Defenseman has upper-body injury after hit by Kucherov\n",
      "2018-04-19\n",
      "13:33pm\n",
      "-----------------\n",
      "Quinn named U.S. coach at 2019 World Junior Championship\n",
      "Has led Boston University to four straight NCAA tournament appearances\n",
      "2018-04-20\n",
      "16:34pm\n",
      "-----------------\n",
      "Commissioner Bettman, Messier part of 9/11 exhibition\n",
      "Display at New York museum to explore role sports played after terrorist attacks\n",
      "2018-04-20\n",
      "10:00am\n",
      "-----------------\n",
      "Where to watch 2018 Stanley Cup Playoffs\n",
      "Viewer's guide for upcoming NHL postseason games\n",
      "2018-04-20\n",
      "12:38am\n",
      "-----------------\n",
      "Fantasy: Rankings for 2018 Stanley Cup Playoffs\n",
      "NHL.com lists most valuable forwards, defensemen, goaltenders for basic postseason pools\n",
      "2018-04-19\n",
      "11:00am\n",
      "-----------------\n",
      "Hockey 101 with Snoop\n",
      "Episode 2: Slang\n",
      "2018-04-18\n",
      "13:00pm\n",
      "-----------------\n",
      "Watch every overtime goal in Stanley Cup Playoffs\n",
      "Eller scores for Capitals in second OT of Game 3 against Blue Jackets\n",
      "2018-04-17\n",
      "23:38pm\n",
      "-----------------\n",
      "Stanley Cup Playoffs first-round schedule\n",
      "Penguins, Golden Knights eye history\n",
      "2018-04-18\n",
      "11:05am\n"
     ]
    }
   ],
   "source": [
    "# Retrieve the parent divs for all articles\n",
    "results = soup.find_all('li', class_='mixed-feed__item--article')\n",
    "\n",
    "# Loop through results to retrieve article title, header, and timestamp of article\n",
    "for result in results:\n",
    "    title = result.find('h4', class_='mixed-feed__header').text\n",
    "\n",
    "    lede = result.find('h5', class_='mixed-feed__subheader').text\n",
    "\n",
    "    # The time and date of article publication\n",
    "    date = result.find('time')['datetime']\n",
    "    # Slice the datetime string for the date\n",
    "    article_date = date[:10]\n",
    "    # Slice the datetime string for the time\n",
    "    time = date[11:16]\n",
    "    # Determine whether article was published in AM or PM\n",
    "    if (int(time[:2]) >= 13):\n",
    "        meridiem = 'pm'\n",
    "    else:\n",
    "        meridiem = 'am'\n",
    "\n",
    "    # Concatenate time string\n",
    "    time = time + meridiem\n",
    "    print('-----------------')\n",
    "    print(title)\n",
    "    print(lede)\n",
    "    print(article_date)\n",
    "    print(time)\n",
    "\n",
    "    # Dictionary to be inserted into MongoDB\n",
    "    post = {\n",
    "        'title': title,\n",
    "        'lede': lede,\n",
    "        'date': article_date,\n",
    "        'time published': time\n",
    "    }\n",
    "\n",
    "    # Insert dictionary into MongoDB as a document\n",
    "    collection.insert_one(post)"
   ]
  },
  {
   "cell_type": "code",
   "execution_count": 6,
   "metadata": {},
   "outputs": [
    {
     "name": "stdout",
     "output_type": "stream",
     "text": [
      "{'_id': ObjectId('5ada7a1bee61f93d3f7e3d07'), 'title': 'Lady Byng Trophy finalists unveiled', 'lede': \"Barkov, O'Reilly, William Karlsson up for award given for combination of skill, gentlemanly play\", 'date': '2018-04-20', 'time published': '19:00pm'}\n",
      "{'_id': ObjectId('5ada7a1bee61f93d3f7e3d08'), 'title': 'Peters resigns as Hurricanes coach', 'lede': 'Went 137-138-53 in four seasons with Carolina', 'date': '2018-04-20', 'time published': '12:00am'}\n",
      "{'_id': ObjectId('5ada7a1bee61f93d3f7e3d09'), 'title': 'Bergeron skates, could return for Bruins in Game 5 against Maple Leafs', 'lede': 'Boston one win from advancing to second round', 'date': '2018-04-20', 'time published': '14:33pm'}\n",
      "{'_id': ObjectId('5ada7a1bee61f93d3f7e3d0a'), 'title': 'Friday Four: Golden Knights continue fairy-tale season', 'lede': 'NHL Network analyst Weekes also discusses Sharks, Capitals-Blue Jackets series, Subban', 'date': '2018-04-20', 'time published': '14:01pm'}\n",
      "{'_id': ObjectId('5ada7a1bee61f93d3f7e3d0b'), 'title': 'Fantasy: Daily primer for 2018 Stanley Cup Playoffs', 'lede': 'Kadri back from suspension in Game 5; Bergeron could return; Wennberg skating', 'date': '2018-04-20', 'time published': '19:05pm'}\n",
      "{'_id': ObjectId('5ada7a1bee61f93d3f7e3d0c'), 'title': 'Sharks expect to stick with same lineup in second round', 'lede': \"Coach says he'd be 'idiot' to make changes from group that swept Ducks\", 'date': '2018-04-20', 'time published': '17:20pm'}\n",
      "{'_id': ObjectId('5ada7a1bee61f93d3f7e3d0d'), 'title': 'Doughty open to signing extension with Kings', 'lede': 'Norris Trophy finalist can begin negotiations July 1, has one season remaining on contract', 'date': '2018-04-20', 'time published': '13:27pm'}\n",
      "{'_id': ObjectId('5ada7a1bee61f93d3f7e3d0e'), 'title': 'Lightning hope Callahan can play against Devils in Game 5', 'lede': 'Forward could return from upper-body injury; New Jersey might be without defenseman Vatanen', 'date': '2018-04-20', 'time published': '15:09pm'}\n",
      "{'_id': ObjectId('5ada7a1bee61f93d3f7e3d0f'), 'title': 'Matthews, others fail to boost Maple Leafs against Bruins in Game 4', 'lede': 'Toronto on brink of elimination after Nylander, Andersen also struggle', 'date': '2018-04-20', 'time published': '00:54am'}\n",
      "{'_id': ObjectId('5ada7a1bee61f93d3f7e3d10'), 'title': 'Cole brings playoff experience to young Blue Jackets', 'lede': 'Two-time Cup winner provides championship pedigree for team that has never won postseason series', 'date': '2018-04-20', 'time published': '16:35pm'}\n",
      "{'_id': ObjectId('5ada7a1bee61f93d3f7e3d11'), 'title': 'Matthews has top-selling NHL jersey this season', 'lede': 'Maple Leafs forward ahead of Crosby, McDavid', 'date': '2018-04-20', 'time published': '10:00am'}\n",
      "{'_id': ObjectId('5ada7a1bee61f93d3f7e3d12'), 'title': 'Zajac aims to carry load, help Devils extend series against Lightning', 'lede': 'Veteran center will be relied upon again by New Jersey in Game 5', 'date': '2018-04-20', 'time published': '11:35am'}\n",
      "{'_id': ObjectId('5ada7a1bee61f93d3f7e3d13'), 'title': 'Bruins step up without Bergeron against Maple Leafs in Game 4', 'lede': 'Marchand, Pastrnak combine for three points for Boston, which is one win from advancing', 'date': '2018-04-20', 'time published': '01:18am'}\n",
      "{'_id': ObjectId('5ada7a1bee61f93d3f7e3d14'), 'title': 'Lamoureuxs enjoying Golden Knights playoff success', 'lede': \"Twins who won Olympic gold with U.S. women's hockey team keeping close eye on Stanley Cup Playoffs\", 'date': '2018-04-20', 'time published': '14:13pm'}\n",
      "{'_id': ObjectId('5ada7a1bee61f93d3f7e3d15'), 'title': 'Girl who got puck from Connolly to meet Capitals forward', 'lede': 'Keelan Moxley, family will be guests of Washington owner for Game 5 against Blue Jackets', 'date': '2018-04-19', 'time published': '13:48pm'}\n",
      "{'_id': ObjectId('5ada7a1bee61f93d3f7e3d16'), 'title': 'Vatanen questionable for Devils in Game 5 against Lightning', 'lede': 'Defenseman has upper-body injury after hit by Kucherov', 'date': '2018-04-19', 'time published': '13:33pm'}\n",
      "{'_id': ObjectId('5ada7a1bee61f93d3f7e3d17'), 'title': 'Quinn named U.S. coach at 2019 World Junior Championship', 'lede': 'Has led Boston University to four straight NCAA tournament appearances', 'date': '2018-04-20', 'time published': '16:34pm'}\n",
      "{'_id': ObjectId('5ada7a1bee61f93d3f7e3d18'), 'title': 'Commissioner Bettman, Messier part of 9/11 exhibition', 'lede': 'Display at New York museum to explore role sports played after terrorist attacks', 'date': '2018-04-20', 'time published': '10:00am'}\n",
      "{'_id': ObjectId('5ada7a1bee61f93d3f7e3d19'), 'title': 'Where to watch 2018 Stanley Cup Playoffs', 'lede': \"Viewer's guide for upcoming NHL postseason games\", 'date': '2018-04-20', 'time published': '12:38am'}\n",
      "{'_id': ObjectId('5ada7a1bee61f93d3f7e3d1a'), 'title': 'Fantasy: Rankings for 2018 Stanley Cup Playoffs', 'lede': 'NHL.com lists most valuable forwards, defensemen, goaltenders for basic postseason pools', 'date': '2018-04-19', 'time published': '11:00am'}\n",
      "{'_id': ObjectId('5ada7a1bee61f93d3f7e3d1b'), 'title': 'Hockey 101 with Snoop', 'lede': 'Episode 2: Slang', 'date': '2018-04-18', 'time published': '13:00pm'}\n",
      "{'_id': ObjectId('5ada7a1bee61f93d3f7e3d1c'), 'title': 'Watch every overtime goal in Stanley Cup Playoffs', 'lede': 'Eller scores for Capitals in second OT of Game 3 against Blue Jackets', 'date': '2018-04-17', 'time published': '23:38pm'}\n",
      "{'_id': ObjectId('5ada7a1bee61f93d3f7e3d1d'), 'title': 'Stanley Cup Playoffs first-round schedule', 'lede': 'Penguins, Golden Knights eye history', 'date': '2018-04-18', 'time published': '11:05am'}\n"
     ]
    }
   ],
   "source": [
    "# Display the MongoDB records created above\n",
    "articles = db.articles.find()\n",
    "for article in articles:\n",
    "    print(article)"
   ]
  }
 ],
 "metadata": {
  "kernelspec": {
   "display_name": "Python 3",
   "language": "python",
   "name": "python3"
  },
  "language_info": {
   "codemirror_mode": {
    "name": "ipython",
    "version": 3
   },
   "file_extension": ".py",
   "mimetype": "text/x-python",
   "name": "python",
   "nbconvert_exporter": "python",
   "pygments_lexer": "ipython3",
   "version": "3.7.3"
  },
  "varInspector": {
   "cols": {
    "lenName": 16,
    "lenType": 16,
    "lenVar": 40
   },
   "kernels_config": {
    "python": {
     "delete_cmd_postfix": "",
     "delete_cmd_prefix": "del ",
     "library": "var_list.py",
     "varRefreshCmd": "print(var_dic_list())"
    },
    "r": {
     "delete_cmd_postfix": ") ",
     "delete_cmd_prefix": "rm(",
     "library": "var_list.r",
     "varRefreshCmd": "cat(var_dic_list()) "
    }
   },
   "types_to_exclude": [
    "module",
    "function",
    "builtin_function_or_method",
    "instance",
    "_Feature"
   ],
   "window_display": false
  }
 },
 "nbformat": 4,
 "nbformat_minor": 2
}
