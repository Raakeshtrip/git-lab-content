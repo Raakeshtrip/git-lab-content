{
 "cells": [
  {
   "cell_type": "markdown",
   "metadata": {
    "slideshow": {
     "slide_type": "slide"
    }
   },
   "source": [
    "# Scraping with Pandas"
   ]
  },
  {
   "cell_type": "code",
   "execution_count": 1,
   "metadata": {
    "slideshow": {
     "slide_type": "slide"
    }
   },
   "outputs": [],
   "source": [
    "import pandas as pd\n",
    "from bs4 import BeautifulSoup\n",
    "import requests\n",
    "import pymongo"
   ]
  },
  {
   "cell_type": "markdown",
   "metadata": {
    "slideshow": {
     "slide_type": "subslide"
    }
   },
   "source": [
    "We can use the `read_html` function in Pandas to automatically scrape any tabular data from a page."
   ]
  },
  {
   "cell_type": "code",
   "execution_count": 2,
   "metadata": {
    "slideshow": {
     "slide_type": "fragment"
    }
   },
   "outputs": [],
   "source": [
    "url = 'https://en.wikipedia.org/wiki/List_of_capitals_in_the_United_States'"
   ]
  },
  {
   "cell_type": "code",
   "execution_count": null,
   "metadata": {
    "slideshow": {
     "slide_type": "fragment"
    }
   },
   "outputs": [],
   "source": []
  },
  {
   "cell_type": "markdown",
   "metadata": {
    "slideshow": {
     "slide_type": "subslide"
    }
   },
   "source": [
    "What we get in return is a list of dataframes for any tabular data that Pandas found."
   ]
  },
  {
   "cell_type": "code",
   "execution_count": 3,
   "metadata": {
    "slideshow": {
     "slide_type": "fragment"
    }
   },
   "outputs": [
    {
     "ename": "NameError",
     "evalue": "name 'tables' is not defined",
     "output_type": "error",
     "traceback": [
      "\u001b[1;31m---------------------------------------------------------------------------\u001b[0m",
      "\u001b[1;31mNameError\u001b[0m                                 Traceback (most recent call last)",
      "\u001b[1;32m<ipython-input-3-71ddf2d06899>\u001b[0m in \u001b[0;36m<module>\u001b[1;34m\u001b[0m\n\u001b[1;32m----> 1\u001b[1;33m \u001b[0mtype\u001b[0m\u001b[1;33m(\u001b[0m\u001b[0mtables\u001b[0m\u001b[1;33m)\u001b[0m\u001b[1;33m\u001b[0m\u001b[1;33m\u001b[0m\u001b[0m\n\u001b[0m",
      "\u001b[1;31mNameError\u001b[0m: name 'tables' is not defined"
     ]
    }
   ],
   "source": [
    "type(tables)"
   ]
  },
  {
   "cell_type": "markdown",
   "metadata": {
    "slideshow": {
     "slide_type": "subslide"
    }
   },
   "source": [
    "We can slice off any of those dataframes that we want using normal indexing."
   ]
  },
  {
   "cell_type": "code",
   "execution_count": 8,
   "metadata": {
    "slideshow": {
     "slide_type": "fragment"
    }
   },
   "outputs": [
    {
     "ename": "ValueError",
     "evalue": "Length mismatch: Expected axis has 11 elements, new values have 3 elements",
     "output_type": "error",
     "traceback": [
      "\u001b[1;31m---------------------------------------------------------------------------\u001b[0m",
      "\u001b[1;31mValueError\u001b[0m                                Traceback (most recent call last)",
      "\u001b[1;32m<ipython-input-8-530364574684>\u001b[0m in \u001b[0;36m<module>\u001b[1;34m\u001b[0m\n\u001b[0;32m      1\u001b[0m \u001b[0mdf\u001b[0m \u001b[1;33m=\u001b[0m \u001b[0mtables\u001b[0m\u001b[1;33m[\u001b[0m\u001b[1;36m0\u001b[0m\u001b[1;33m]\u001b[0m\u001b[1;33m\u001b[0m\u001b[1;33m\u001b[0m\u001b[0m\n\u001b[1;32m----> 2\u001b[1;33m \u001b[0mdf\u001b[0m\u001b[1;33m.\u001b[0m\u001b[0mcolumns\u001b[0m \u001b[1;33m=\u001b[0m \u001b[1;33m[\u001b[0m\u001b[1;34m'abb'\u001b[0m\u001b[1;33m,\u001b[0m\u001b[1;34m'full_name'\u001b[0m\u001b[1;33m,\u001b[0m\u001b[1;34m'other'\u001b[0m\u001b[1;33m]\u001b[0m\u001b[1;33m\u001b[0m\u001b[1;33m\u001b[0m\u001b[0m\n\u001b[0m\u001b[0;32m      3\u001b[0m \u001b[0mdf\u001b[0m\u001b[1;33m.\u001b[0m\u001b[0mhead\u001b[0m\u001b[1;33m(\u001b[0m\u001b[1;33m)\u001b[0m\u001b[1;33m\u001b[0m\u001b[1;33m\u001b[0m\u001b[0m\n",
      "\u001b[1;32m~\\Anaconda3\\lib\\site-packages\\pandas\\core\\generic.py\u001b[0m in \u001b[0;36m__setattr__\u001b[1;34m(self, name, value)\u001b[0m\n\u001b[0;32m   5078\u001b[0m         \u001b[1;32mtry\u001b[0m\u001b[1;33m:\u001b[0m\u001b[1;33m\u001b[0m\u001b[1;33m\u001b[0m\u001b[0m\n\u001b[0;32m   5079\u001b[0m             \u001b[0mobject\u001b[0m\u001b[1;33m.\u001b[0m\u001b[0m__getattribute__\u001b[0m\u001b[1;33m(\u001b[0m\u001b[0mself\u001b[0m\u001b[1;33m,\u001b[0m \u001b[0mname\u001b[0m\u001b[1;33m)\u001b[0m\u001b[1;33m\u001b[0m\u001b[1;33m\u001b[0m\u001b[0m\n\u001b[1;32m-> 5080\u001b[1;33m             \u001b[1;32mreturn\u001b[0m \u001b[0mobject\u001b[0m\u001b[1;33m.\u001b[0m\u001b[0m__setattr__\u001b[0m\u001b[1;33m(\u001b[0m\u001b[0mself\u001b[0m\u001b[1;33m,\u001b[0m \u001b[0mname\u001b[0m\u001b[1;33m,\u001b[0m \u001b[0mvalue\u001b[0m\u001b[1;33m)\u001b[0m\u001b[1;33m\u001b[0m\u001b[1;33m\u001b[0m\u001b[0m\n\u001b[0m\u001b[0;32m   5081\u001b[0m         \u001b[1;32mexcept\u001b[0m \u001b[0mAttributeError\u001b[0m\u001b[1;33m:\u001b[0m\u001b[1;33m\u001b[0m\u001b[1;33m\u001b[0m\u001b[0m\n\u001b[0;32m   5082\u001b[0m             \u001b[1;32mpass\u001b[0m\u001b[1;33m\u001b[0m\u001b[1;33m\u001b[0m\u001b[0m\n",
      "\u001b[1;32mpandas/_libs/properties.pyx\u001b[0m in \u001b[0;36mpandas._libs.properties.AxisProperty.__set__\u001b[1;34m()\u001b[0m\n",
      "\u001b[1;32m~\\Anaconda3\\lib\\site-packages\\pandas\\core\\generic.py\u001b[0m in \u001b[0;36m_set_axis\u001b[1;34m(self, axis, labels)\u001b[0m\n\u001b[0;32m    636\u001b[0m \u001b[1;33m\u001b[0m\u001b[0m\n\u001b[0;32m    637\u001b[0m     \u001b[1;32mdef\u001b[0m \u001b[0m_set_axis\u001b[0m\u001b[1;33m(\u001b[0m\u001b[0mself\u001b[0m\u001b[1;33m,\u001b[0m \u001b[0maxis\u001b[0m\u001b[1;33m,\u001b[0m \u001b[0mlabels\u001b[0m\u001b[1;33m)\u001b[0m\u001b[1;33m:\u001b[0m\u001b[1;33m\u001b[0m\u001b[1;33m\u001b[0m\u001b[0m\n\u001b[1;32m--> 638\u001b[1;33m         \u001b[0mself\u001b[0m\u001b[1;33m.\u001b[0m\u001b[0m_data\u001b[0m\u001b[1;33m.\u001b[0m\u001b[0mset_axis\u001b[0m\u001b[1;33m(\u001b[0m\u001b[0maxis\u001b[0m\u001b[1;33m,\u001b[0m \u001b[0mlabels\u001b[0m\u001b[1;33m)\u001b[0m\u001b[1;33m\u001b[0m\u001b[1;33m\u001b[0m\u001b[0m\n\u001b[0m\u001b[0;32m    639\u001b[0m         \u001b[0mself\u001b[0m\u001b[1;33m.\u001b[0m\u001b[0m_clear_item_cache\u001b[0m\u001b[1;33m(\u001b[0m\u001b[1;33m)\u001b[0m\u001b[1;33m\u001b[0m\u001b[1;33m\u001b[0m\u001b[0m\n\u001b[0;32m    640\u001b[0m \u001b[1;33m\u001b[0m\u001b[0m\n",
      "\u001b[1;32m~\\Anaconda3\\lib\\site-packages\\pandas\\core\\internals\\managers.py\u001b[0m in \u001b[0;36mset_axis\u001b[1;34m(self, axis, new_labels)\u001b[0m\n\u001b[0;32m    153\u001b[0m             raise ValueError(\n\u001b[0;32m    154\u001b[0m                 \u001b[1;34m'Length mismatch: Expected axis has {old} elements, new '\u001b[0m\u001b[1;33m\u001b[0m\u001b[1;33m\u001b[0m\u001b[0m\n\u001b[1;32m--> 155\u001b[1;33m                 'values have {new} elements'.format(old=old_len, new=new_len))\n\u001b[0m\u001b[0;32m    156\u001b[0m \u001b[1;33m\u001b[0m\u001b[0m\n\u001b[0;32m    157\u001b[0m         \u001b[0mself\u001b[0m\u001b[1;33m.\u001b[0m\u001b[0maxes\u001b[0m\u001b[1;33m[\u001b[0m\u001b[0maxis\u001b[0m\u001b[1;33m]\u001b[0m \u001b[1;33m=\u001b[0m \u001b[0mnew_labels\u001b[0m\u001b[1;33m\u001b[0m\u001b[1;33m\u001b[0m\u001b[0m\n",
      "\u001b[1;31mValueError\u001b[0m: Length mismatch: Expected axis has 11 elements, new values have 3 elements"
     ]
    }
   ],
   "source": [
    "df = tables[0]\n",
    "df.columns = ['abb','full_name','other']\n",
    "df.head()"
   ]
  },
  {
   "cell_type": "markdown",
   "metadata": {
    "slideshow": {
     "slide_type": "subslide"
    }
   },
   "source": [
    "Cleanup of extra rows"
   ]
  },
  {
   "cell_type": "code",
   "execution_count": 6,
   "metadata": {
    "slideshow": {
     "slide_type": "fragment"
    }
   },
   "outputs": [
    {
     "data": {
      "text/html": [
       "<div>\n",
       "<style scoped>\n",
       "    .dataframe tbody tr th:only-of-type {\n",
       "        vertical-align: middle;\n",
       "    }\n",
       "\n",
       "    .dataframe tbody tr th {\n",
       "        vertical-align: top;\n",
       "    }\n",
       "\n",
       "    .dataframe thead th {\n",
       "        text-align: right;\n",
       "    }\n",
       "</style>\n",
       "<table border=\"1\" class=\"dataframe\">\n",
       "  <thead>\n",
       "    <tr style=\"text-align: right;\">\n",
       "      <th></th>\n",
       "      <th>State</th>\n",
       "      <th>Abr.</th>\n",
       "      <th>State-hood Rank</th>\n",
       "      <th>Capital</th>\n",
       "      <th>Capital Since</th>\n",
       "      <th>Area (sq-mi)</th>\n",
       "      <th>Municipal Population</th>\n",
       "      <th>Metropolitan</th>\n",
       "      <th>Metropolitan Population</th>\n",
       "      <th>Population Rank</th>\n",
       "      <th>Notes</th>\n",
       "    </tr>\n",
       "  </thead>\n",
       "  <tbody>\n",
       "    <tr>\n",
       "      <th>2</th>\n",
       "      <td>Alabama</td>\n",
       "      <td>AL</td>\n",
       "      <td>1819</td>\n",
       "      <td>Montgomery</td>\n",
       "      <td>1846</td>\n",
       "      <td>155.4</td>\n",
       "      <td>205764</td>\n",
       "      <td>374536</td>\n",
       "      <td>2.0</td>\n",
       "      <td>102.0</td>\n",
       "      <td>Birmingham is the state's largest city.</td>\n",
       "    </tr>\n",
       "    <tr>\n",
       "      <th>3</th>\n",
       "      <td>Alaska</td>\n",
       "      <td>AK</td>\n",
       "      <td>1959</td>\n",
       "      <td>Juneau</td>\n",
       "      <td>1906</td>\n",
       "      <td>2716.7</td>\n",
       "      <td>31275</td>\n",
       "      <td>NaN</td>\n",
       "      <td>3.0</td>\n",
       "      <td>NaN</td>\n",
       "      <td>Largest capital by municipal land area.</td>\n",
       "    </tr>\n",
       "    <tr>\n",
       "      <th>4</th>\n",
       "      <td>Arizona</td>\n",
       "      <td>AZ</td>\n",
       "      <td>1912</td>\n",
       "      <td>Phoenix</td>\n",
       "      <td>1889</td>\n",
       "      <td>474.9</td>\n",
       "      <td>1445632</td>\n",
       "      <td>4192887</td>\n",
       "      <td>1.0</td>\n",
       "      <td>6.0</td>\n",
       "      <td>Phoenix is the most populous capital city in t...</td>\n",
       "    </tr>\n",
       "    <tr>\n",
       "      <th>5</th>\n",
       "      <td>Arkansas</td>\n",
       "      <td>AR</td>\n",
       "      <td>1836</td>\n",
       "      <td>Little Rock</td>\n",
       "      <td>1821</td>\n",
       "      <td>116.2</td>\n",
       "      <td>193524</td>\n",
       "      <td>699757</td>\n",
       "      <td>1.0</td>\n",
       "      <td>117.0</td>\n",
       "      <td>NaN</td>\n",
       "    </tr>\n",
       "    <tr>\n",
       "      <th>6</th>\n",
       "      <td>California</td>\n",
       "      <td>CA</td>\n",
       "      <td>1850</td>\n",
       "      <td>Sacramento</td>\n",
       "      <td>1854</td>\n",
       "      <td>97.2</td>\n",
       "      <td>466488</td>\n",
       "      <td>2149127</td>\n",
       "      <td>6.0</td>\n",
       "      <td>35.0</td>\n",
       "      <td>NaN</td>\n",
       "    </tr>\n",
       "  </tbody>\n",
       "</table>\n",
       "</div>"
      ],
      "text/plain": [
       "        State Abr. State-hood Rank      Capital Capital Since Area (sq-mi)  \\\n",
       "2     Alabama   AL            1819   Montgomery          1846        155.4   \n",
       "3      Alaska   AK            1959       Juneau          1906       2716.7   \n",
       "4     Arizona   AZ            1912      Phoenix          1889        474.9   \n",
       "5    Arkansas   AR            1836  Little Rock          1821        116.2   \n",
       "6  California   CA            1850   Sacramento          1854         97.2   \n",
       "\n",
       "  Municipal Population Metropolitan  Metropolitan Population  Population Rank  \\\n",
       "2               205764       374536                      2.0            102.0   \n",
       "3                31275          NaN                      3.0              NaN   \n",
       "4              1445632      4192887                      1.0              6.0   \n",
       "5               193524       699757                      1.0            117.0   \n",
       "6               466488      2149127                      6.0             35.0   \n",
       "\n",
       "                                               Notes  \n",
       "2            Birmingham is the state's largest city.  \n",
       "3            Largest capital by municipal land area.  \n",
       "4  Phoenix is the most populous capital city in t...  \n",
       "5                                                NaN  \n",
       "6                                                NaN  "
      ]
     },
     "execution_count": 6,
     "metadata": {},
     "output_type": "execute_result"
    }
   ],
   "source": [
    "df = df.iloc[2:]\n",
    "df.head()"
   ]
  },
  {
   "cell_type": "markdown",
   "metadata": {
    "slideshow": {
     "slide_type": "subslide"
    }
   },
   "source": [
    "Set the index to the `State` column"
   ]
  },
  {
   "cell_type": "code",
   "execution_count": 7,
   "metadata": {
    "slideshow": {
     "slide_type": "fragment"
    }
   },
   "outputs": [
    {
     "data": {
      "text/html": [
       "<div>\n",
       "<style scoped>\n",
       "    .dataframe tbody tr th:only-of-type {\n",
       "        vertical-align: middle;\n",
       "    }\n",
       "\n",
       "    .dataframe tbody tr th {\n",
       "        vertical-align: top;\n",
       "    }\n",
       "\n",
       "    .dataframe thead th {\n",
       "        text-align: right;\n",
       "    }\n",
       "</style>\n",
       "<table border=\"1\" class=\"dataframe\">\n",
       "  <thead>\n",
       "    <tr style=\"text-align: right;\">\n",
       "      <th></th>\n",
       "      <th>Abr.</th>\n",
       "      <th>State-hood Rank</th>\n",
       "      <th>Capital</th>\n",
       "      <th>Capital Since</th>\n",
       "      <th>Area (sq-mi)</th>\n",
       "      <th>Municipal Population</th>\n",
       "      <th>Metropolitan</th>\n",
       "      <th>Metropolitan Population</th>\n",
       "      <th>Population Rank</th>\n",
       "      <th>Notes</th>\n",
       "    </tr>\n",
       "    <tr>\n",
       "      <th>State</th>\n",
       "      <th></th>\n",
       "      <th></th>\n",
       "      <th></th>\n",
       "      <th></th>\n",
       "      <th></th>\n",
       "      <th></th>\n",
       "      <th></th>\n",
       "      <th></th>\n",
       "      <th></th>\n",
       "      <th></th>\n",
       "    </tr>\n",
       "  </thead>\n",
       "  <tbody>\n",
       "    <tr>\n",
       "      <th>Alabama</th>\n",
       "      <td>AL</td>\n",
       "      <td>1819</td>\n",
       "      <td>Montgomery</td>\n",
       "      <td>1846</td>\n",
       "      <td>155.4</td>\n",
       "      <td>205764</td>\n",
       "      <td>374536</td>\n",
       "      <td>2.0</td>\n",
       "      <td>102.0</td>\n",
       "      <td>Birmingham is the state's largest city.</td>\n",
       "    </tr>\n",
       "    <tr>\n",
       "      <th>Alaska</th>\n",
       "      <td>AK</td>\n",
       "      <td>1959</td>\n",
       "      <td>Juneau</td>\n",
       "      <td>1906</td>\n",
       "      <td>2716.7</td>\n",
       "      <td>31275</td>\n",
       "      <td>NaN</td>\n",
       "      <td>3.0</td>\n",
       "      <td>NaN</td>\n",
       "      <td>Largest capital by municipal land area.</td>\n",
       "    </tr>\n",
       "    <tr>\n",
       "      <th>Arizona</th>\n",
       "      <td>AZ</td>\n",
       "      <td>1912</td>\n",
       "      <td>Phoenix</td>\n",
       "      <td>1889</td>\n",
       "      <td>474.9</td>\n",
       "      <td>1445632</td>\n",
       "      <td>4192887</td>\n",
       "      <td>1.0</td>\n",
       "      <td>6.0</td>\n",
       "      <td>Phoenix is the most populous capital city in t...</td>\n",
       "    </tr>\n",
       "    <tr>\n",
       "      <th>Arkansas</th>\n",
       "      <td>AR</td>\n",
       "      <td>1836</td>\n",
       "      <td>Little Rock</td>\n",
       "      <td>1821</td>\n",
       "      <td>116.2</td>\n",
       "      <td>193524</td>\n",
       "      <td>699757</td>\n",
       "      <td>1.0</td>\n",
       "      <td>117.0</td>\n",
       "      <td>NaN</td>\n",
       "    </tr>\n",
       "    <tr>\n",
       "      <th>California</th>\n",
       "      <td>CA</td>\n",
       "      <td>1850</td>\n",
       "      <td>Sacramento</td>\n",
       "      <td>1854</td>\n",
       "      <td>97.2</td>\n",
       "      <td>466488</td>\n",
       "      <td>2149127</td>\n",
       "      <td>6.0</td>\n",
       "      <td>35.0</td>\n",
       "      <td>NaN</td>\n",
       "    </tr>\n",
       "  </tbody>\n",
       "</table>\n",
       "</div>"
      ],
      "text/plain": [
       "           Abr. State-hood Rank      Capital Capital Since Area (sq-mi)  \\\n",
       "State                                                                     \n",
       "Alabama      AL            1819   Montgomery          1846        155.4   \n",
       "Alaska       AK            1959       Juneau          1906       2716.7   \n",
       "Arizona      AZ            1912      Phoenix          1889        474.9   \n",
       "Arkansas     AR            1836  Little Rock          1821        116.2   \n",
       "California   CA            1850   Sacramento          1854         97.2   \n",
       "\n",
       "           Municipal Population Metropolitan  Metropolitan Population  \\\n",
       "State                                                                   \n",
       "Alabama                  205764       374536                      2.0   \n",
       "Alaska                    31275          NaN                      3.0   \n",
       "Arizona                 1445632      4192887                      1.0   \n",
       "Arkansas                 193524       699757                      1.0   \n",
       "California               466488      2149127                      6.0   \n",
       "\n",
       "            Population Rank                                              Notes  \n",
       "State                                                                           \n",
       "Alabama               102.0            Birmingham is the state's largest city.  \n",
       "Alaska                  NaN            Largest capital by municipal land area.  \n",
       "Arizona                 6.0  Phoenix is the most populous capital city in t...  \n",
       "Arkansas              117.0                                                NaN  \n",
       "California             35.0                                                NaN  "
      ]
     },
     "execution_count": 7,
     "metadata": {},
     "output_type": "execute_result"
    }
   ],
   "source": [
    "df.set_index('State', inplace=True)\n",
    "df.head()"
   ]
  },
  {
   "cell_type": "code",
   "execution_count": 8,
   "metadata": {
    "slideshow": {
     "slide_type": "subslide"
    }
   },
   "outputs": [
    {
     "data": {
      "text/plain": [
       "Abr.                                                            AL\n",
       "State-hood Rank                                               1819\n",
       "Capital                                                 Montgomery\n",
       "Capital Since                                                 1846\n",
       "Area (sq-mi)                                                 155.4\n",
       "Municipal Population                                        205764\n",
       "Metropolitan                                                374536\n",
       "Metropolitan Population                                          2\n",
       "Population Rank                                                102\n",
       "Notes                      Birmingham is the state's largest city.\n",
       "Name: Alabama, dtype: object"
      ]
     },
     "execution_count": 8,
     "metadata": {},
     "output_type": "execute_result"
    }
   ],
   "source": [
    "df.loc['Alabama']"
   ]
  },
  {
   "cell_type": "markdown",
   "metadata": {
    "slideshow": {
     "slide_type": "slide"
    }
   },
   "source": [
    "## DataFrames as HTML"
   ]
  },
  {
   "cell_type": "markdown",
   "metadata": {
    "slideshow": {
     "slide_type": "subslide"
    }
   },
   "source": [
    "Pandas also had a `to_html` method that we can use to generate HTML tables from DataFrames."
   ]
  },
  {
   "cell_type": "code",
   "execution_count": 9,
   "metadata": {
    "slideshow": {
     "slide_type": "fragment"
    }
   },
   "outputs": [
    {
     "data": {
      "text/plain": [
       "'<table border=\"1\" class=\"dataframe\">\\n  <thead>\\n    <tr style=\"text-align: right;\">\\n      <th></th>\\n      <th>Abr.</th>\\n      <th>State-hood Rank</th>\\n      <th>Capital</th>\\n      <th>Capital Since</th>\\n      <th>Area (sq-mi)</th>\\n      <th>Municipal Population</th>\\n      <th>Metropolitan</th>\\n      <th>Metropolitan Population</th>\\n      <th>Population Rank</th>\\n      <th>Notes</th>\\n    </tr>\\n    <tr>\\n      <th>State</th>\\n      <th></th>\\n      <th></th>\\n      <th></th>\\n      <th></th>\\n      <th></th>\\n      <th></th>\\n      <th></th>\\n      <th></th>\\n      <th></th>\\n      <th></th>\\n    </tr>\\n  </thead>\\n  <tbody>\\n    <tr>\\n      <th>Alabama</th>\\n      <td>AL</td>\\n      <td>1819</td>\\n      <td>Montgomery</td>\\n      <td>1846</td>\\n      <td>155.4</td>\\n      <td>205764</td>\\n      <td>374536</td>\\n      <td>2.0</td>\\n      <td>102.0</td>\\n      <td>Birmingham is the state\\'s largest city.</td>\\n    </tr>\\n    <tr>\\n      <th>Alaska</th>\\n      <td>AK</td>\\n      <td>1959</td>\\n      <td>Juneau</td>\\n      <td>1906</td>\\n      <td>2716.7</td>\\n      <td>31275</td>\\n      <td>NaN</td>\\n      <td>3.0</td>\\n      <td>NaN</td>\\n      <td>Largest capital by municipal land area.</td>\\n    </tr>\\n    <tr>\\n      <th>Arizona</th>\\n      <td>AZ</td>\\n      <td>1912</td>\\n      <td>Phoenix</td>\\n      <td>1889</td>\\n      <td>474.9</td>\\n      <td>1445632</td>\\n      <td>4192887</td>\\n      <td>1.0</td>\\n      <td>6.0</td>\\n      <td>Phoenix is the most populous capital city in t...</td>\\n    </tr>\\n    <tr>\\n      <th>Arkansas</th>\\n      <td>AR</td>\\n      <td>1836</td>\\n      <td>Little Rock</td>\\n      <td>1821</td>\\n      <td>116.2</td>\\n      <td>193524</td>\\n      <td>699757</td>\\n      <td>1.0</td>\\n      <td>117.0</td>\\n      <td>NaN</td>\\n    </tr>\\n    <tr>\\n      <th>California</th>\\n      <td>CA</td>\\n      <td>1850</td>\\n      <td>Sacramento</td>\\n      <td>1854</td>\\n      <td>97.2</td>\\n      <td>466488</td>\\n      <td>2149127</td>\\n      <td>6.0</td>\\n      <td>35.0</td>\\n      <td>NaN</td>\\n    </tr>\\n    <tr>\\n      <th>Colorado</th>\\n      <td>CO</td>\\n      <td>1876</td>\\n      <td>Denver</td>\\n      <td>1867</td>\\n      <td>153.4</td>\\n      <td>600158</td>\\n      <td>2543482</td>\\n      <td>1.0</td>\\n      <td>26.0</td>\\n      <td>Denver was called Denver City until 1882.</td>\\n    </tr>\\n    <tr>\\n      <th>Connecticut</th>\\n      <td>CT</td>\\n      <td>1788</td>\\n      <td>Hartford</td>\\n      <td>1875</td>\\n      <td>17.3</td>\\n      <td>124775</td>\\n      <td>1212381</td>\\n      <td>3.0</td>\\n      <td>199.0</td>\\n      <td>NaN</td>\\n    </tr>\\n    <tr>\\n      <th>Delaware</th>\\n      <td>DE</td>\\n      <td>1787</td>\\n      <td>Dover</td>\\n      <td>1777</td>\\n      <td>22.4</td>\\n      <td>36047</td>\\n      <td>162310</td>\\n      <td>2.0</td>\\n      <td>NaN</td>\\n      <td>Longest-serving capital in terms of statehood.</td>\\n    </tr>\\n    <tr>\\n      <th>Florida</th>\\n      <td>FL</td>\\n      <td>1845</td>\\n      <td>Tallahassee</td>\\n      <td>1824</td>\\n      <td>95.7</td>\\n      <td>181376</td>\\n      <td>367413</td>\\n      <td>7.0</td>\\n      <td>125.0</td>\\n      <td>NaN</td>\\n    </tr>\\n    <tr>\\n      <th>Georgia</th>\\n      <td>GA</td>\\n      <td>1788</td>\\n      <td>Atlanta</td>\\n      <td>1868</td>\\n      <td>131.7</td>\\n      <td>420003</td>\\n      <td>5286728</td>\\n      <td>1.0</td>\\n      <td>40.0</td>\\n      <td>Most populous metro area of any state capital.</td>\\n    </tr>\\n    <tr>\\n      <th>Hawaii</th>\\n      <td>HI</td>\\n      <td>1959</td>\\n      <td>Honolulu</td>\\n      <td>1845</td>\\n      <td>85.7</td>\\n      <td>337256</td>\\n      <td>953207</td>\\n      <td>1.0</td>\\n      <td>53.0</td>\\n      <td>NaN</td>\\n    </tr>\\n    <tr>\\n      <th>Idaho</th>\\n      <td>ID</td>\\n      <td>1890</td>\\n      <td>Boise</td>\\n      <td>1865</td>\\n      <td>63.8</td>\\n      <td>205671</td>\\n      <td>616561</td>\\n      <td>1.0</td>\\n      <td>103.0</td>\\n      <td>NaN</td>\\n    </tr>\\n    <tr>\\n      <th>Illinois</th>\\n      <td>IL</td>\\n      <td>1818</td>\\n      <td>Springfield</td>\\n      <td>1837</td>\\n      <td>54.0</td>\\n      <td>116250</td>\\n      <td>210170</td>\\n      <td>6.0</td>\\n      <td>221.0</td>\\n      <td>Springfield was once home to Abraham Lincoln.</td>\\n    </tr>\\n    <tr>\\n      <th>Indiana</th>\\n      <td>IN</td>\\n      <td>1816</td>\\n      <td>Indianapolis</td>\\n      <td>1825</td>\\n      <td>361.5</td>\\n      <td>820445</td>\\n      <td>1887877</td>\\n      <td>1.0</td>\\n      <td>16.0</td>\\n      <td>NaN</td>\\n    </tr>\\n    <tr>\\n      <th>Iowa</th>\\n      <td>IA</td>\\n      <td>1846</td>\\n      <td>Des Moines</td>\\n      <td>1857</td>\\n      <td>75.8</td>\\n      <td>203433</td>\\n      <td>569633</td>\\n      <td>1.0</td>\\n      <td>105.0</td>\\n      <td>NaN</td>\\n    </tr>\\n    <tr>\\n      <th>Kansas</th>\\n      <td>KS</td>\\n      <td>1861</td>\\n      <td>Topeka</td>\\n      <td>1856</td>\\n      <td>56.0</td>\\n      <td>127473</td>\\n      <td>230870</td>\\n      <td>4.0</td>\\n      <td>193.0</td>\\n      <td>NaN</td>\\n    </tr>\\n    <tr>\\n      <th>Kentucky</th>\\n      <td>KY</td>\\n      <td>1792</td>\\n      <td>Frankfort</td>\\n      <td>1792</td>\\n      <td>14.7</td>\\n      <td>25527</td>\\n      <td>70758</td>\\n      <td>14.0</td>\\n      <td>NaN</td>\\n      <td>NaN</td>\\n    </tr>\\n    <tr>\\n      <th>Louisiana</th>\\n      <td>LA</td>\\n      <td>1812</td>\\n      <td>Baton Rouge</td>\\n      <td>1880</td>\\n      <td>76.8</td>\\n      <td>229493</td>\\n      <td>802484</td>\\n      <td>2.0</td>\\n      <td>85.0</td>\\n      <td>Baton Rouge is located in the state\\'s most pop...</td>\\n    </tr>\\n    <tr>\\n      <th>Maine</th>\\n      <td>ME</td>\\n      <td>1820</td>\\n      <td>Augusta</td>\\n      <td>1832</td>\\n      <td>55.4</td>\\n      <td>19136</td>\\n      <td>117114</td>\\n      <td>8.0</td>\\n      <td>NaN</td>\\n      <td>Portland is a previous capital.</td>\\n    </tr>\\n    <tr>\\n      <th>Maryland</th>\\n      <td>MD</td>\\n      <td>1788</td>\\n      <td>Annapolis</td>\\n      <td>1694</td>\\n      <td>6.73</td>\\n      <td>38394</td>\\n      <td>NaN</td>\\n      <td>7.0</td>\\n      <td>NaN</td>\\n      <td>Smallest capital by land area. Capitol buildin...</td>\\n    </tr>\\n    <tr>\\n      <th>Massachusetts</th>\\n      <td>MA</td>\\n      <td>1788</td>\\n      <td>Boston</td>\\n      <td>1630</td>\\n      <td>48.4</td>\\n      <td>617594</td>\\n      <td>4552402</td>\\n      <td>1.0</td>\\n      <td>22.0</td>\\n      <td>Longest continuously serving capital in the U.S.</td>\\n    </tr>\\n    <tr>\\n      <th>Michigan</th>\\n      <td>MI</td>\\n      <td>1837</td>\\n      <td>Lansing</td>\\n      <td>1847</td>\\n      <td>35.0</td>\\n      <td>114297</td>\\n      <td>464036</td>\\n      <td>5.0</td>\\n      <td>226.0</td>\\n      <td>Only state capital that is not also its county...</td>\\n    </tr>\\n    <tr>\\n      <th>Minnesota</th>\\n      <td>MN</td>\\n      <td>1858</td>\\n      <td>Saint Paul</td>\\n      <td>1849</td>\\n      <td>52.8</td>\\n      <td>285068</td>\\n      <td>3348659</td>\\n      <td>2.0</td>\\n      <td>67.0</td>\\n      <td>NaN</td>\\n    </tr>\\n    <tr>\\n      <th>Mississippi</th>\\n      <td>MS</td>\\n      <td>1817</td>\\n      <td>Jackson</td>\\n      <td>1821</td>\\n      <td>104.9</td>\\n      <td>173514</td>\\n      <td>567122</td>\\n      <td>1.0</td>\\n      <td>134.0</td>\\n      <td>Only state capital that shares its status as c...</td>\\n    </tr>\\n    <tr>\\n      <th>Missouri</th>\\n      <td>MO</td>\\n      <td>1821</td>\\n      <td>Jefferson City</td>\\n      <td>1826</td>\\n      <td>27.3</td>\\n      <td>43079</td>\\n      <td>149807</td>\\n      <td>15.0</td>\\n      <td>NaN</td>\\n      <td>NaN</td>\\n    </tr>\\n    <tr>\\n      <th>Montana</th>\\n      <td>MT</td>\\n      <td>1889</td>\\n      <td>Helena</td>\\n      <td>1875</td>\\n      <td>14.0</td>\\n      <td>28190</td>\\n      <td>74801</td>\\n      <td>6.0</td>\\n      <td>NaN</td>\\n      <td>NaN</td>\\n    </tr>\\n    <tr>\\n      <th>Nebraska</th>\\n      <td>NE</td>\\n      <td>1867</td>\\n      <td>Lincoln</td>\\n      <td>1867</td>\\n      <td>74.6</td>\\n      <td>258379</td>\\n      <td>302157</td>\\n      <td>2.0</td>\\n      <td>72.0</td>\\n      <td>NaN</td>\\n    </tr>\\n    <tr>\\n      <th>Nevada</th>\\n      <td>NV</td>\\n      <td>1864</td>\\n      <td>Carson City</td>\\n      <td>1861</td>\\n      <td>143.4</td>\\n      <td>55274</td>\\n      <td>NaN</td>\\n      <td>6.0</td>\\n      <td>NaN</td>\\n      <td>One of two independent cities that serves as a...</td>\\n    </tr>\\n    <tr>\\n      <th>New Hampshire</th>\\n      <td>NH</td>\\n      <td>1788</td>\\n      <td>Concord</td>\\n      <td>1808</td>\\n      <td>64.3</td>\\n      <td>42695</td>\\n      <td>NaN</td>\\n      <td>3.0</td>\\n      <td>NaN</td>\\n      <td>NaN</td>\\n    </tr>\\n    <tr>\\n      <th>New Jersey</th>\\n      <td>NJ</td>\\n      <td>1787</td>\\n      <td>Trenton</td>\\n      <td>1784</td>\\n      <td>7.66</td>\\n      <td>84913</td>\\n      <td>366513</td>\\n      <td>10.0</td>\\n      <td>NaN</td>\\n      <td>Served as the U.S. capital for a short period ...</td>\\n    </tr>\\n    <tr>\\n      <th>New Mexico</th>\\n      <td>NM</td>\\n      <td>1912</td>\\n      <td>Santa Fe</td>\\n      <td>1610</td>\\n      <td>37.3</td>\\n      <td>75764</td>\\n      <td>183732</td>\\n      <td>4.0</td>\\n      <td>NaN</td>\\n      <td>Longest serving capital in the United States. ...</td>\\n    </tr>\\n    <tr>\\n      <th>New York</th>\\n      <td>NY</td>\\n      <td>1788</td>\\n      <td>Albany</td>\\n      <td>1797</td>\\n      <td>21.4</td>\\n      <td>97856</td>\\n      <td>857592</td>\\n      <td>6.0</td>\\n      <td>NaN</td>\\n      <td>NaN</td>\\n    </tr>\\n    <tr>\\n      <th>North Carolina</th>\\n      <td>NC</td>\\n      <td>1789</td>\\n      <td>Raleigh</td>\\n      <td>1792</td>\\n      <td>114.6</td>\\n      <td>403892</td>\\n      <td>1130490</td>\\n      <td>2.0</td>\\n      <td>43.0</td>\\n      <td>NaN</td>\\n    </tr>\\n    <tr>\\n      <th>North Dakota</th>\\n      <td>ND</td>\\n      <td>1889</td>\\n      <td>Bismarck</td>\\n      <td>1883</td>\\n      <td>26.9</td>\\n      <td>61272</td>\\n      <td>108779</td>\\n      <td>2.0</td>\\n      <td>NaN</td>\\n      <td>NaN</td>\\n    </tr>\\n    <tr>\\n      <th>Ohio</th>\\n      <td>OH</td>\\n      <td>1803</td>\\n      <td>Columbus</td>\\n      <td>1816</td>\\n      <td>210.3</td>\\n      <td>879170</td>\\n      <td>2078725</td>\\n      <td>1.0</td>\\n      <td>14.0</td>\\n      <td>Columbus is the largest city in Ohio, the seco...</td>\\n    </tr>\\n    <tr>\\n      <th>Oklahoma</th>\\n      <td>OK</td>\\n      <td>1907</td>\\n      <td>Oklahoma City</td>\\n      <td>1910</td>\\n      <td>607.0</td>\\n      <td>579999</td>\\n      <td>1252987</td>\\n      <td>1.0</td>\\n      <td>31.0</td>\\n      <td>Shortest serving current state capital.</td>\\n    </tr>\\n    <tr>\\n      <th>Oregon</th>\\n      <td>OR</td>\\n      <td>1859</td>\\n      <td>Salem</td>\\n      <td>1855</td>\\n      <td>45.7</td>\\n      <td>154637</td>\\n      <td>390738</td>\\n      <td>3.0</td>\\n      <td>149.0</td>\\n      <td>NaN</td>\\n    </tr>\\n    <tr>\\n      <th>Pennsylvania</th>\\n      <td>PA</td>\\n      <td>1787</td>\\n      <td>Harrisburg</td>\\n      <td>1812</td>\\n      <td>8.11</td>\\n      <td>49528</td>\\n      <td>647390</td>\\n      <td>9.0</td>\\n      <td>NaN</td>\\n      <td>NaN</td>\\n    </tr>\\n    <tr>\\n      <th>Rhode Island</th>\\n      <td>RI</td>\\n      <td>1790</td>\\n      <td>Providence</td>\\n      <td>1900</td>\\n      <td>18.5</td>\\n      <td>178042</td>\\n      <td>1600852</td>\\n      <td>1.0</td>\\n      <td>130.0</td>\\n      <td>Also served as the state\\'s capital 1636–1686 a...</td>\\n    </tr>\\n    <tr>\\n      <th>South Carolina</th>\\n      <td>SC</td>\\n      <td>1788</td>\\n      <td>Columbia</td>\\n      <td>1786</td>\\n      <td>125.2</td>\\n      <td>129272</td>\\n      <td>767598</td>\\n      <td>2.0</td>\\n      <td>191.0</td>\\n      <td>NaN</td>\\n    </tr>\\n    <tr>\\n      <th>South Dakota</th>\\n      <td>SD</td>\\n      <td>1889</td>\\n      <td>Pierre</td>\\n      <td>1889</td>\\n      <td>13.0</td>\\n      <td>13646</td>\\n      <td>NaN</td>\\n      <td>8.0</td>\\n      <td>NaN</td>\\n      <td>NaN</td>\\n    </tr>\\n    <tr>\\n      <th>Tennessee</th>\\n      <td>TN</td>\\n      <td>1796</td>\\n      <td>Nashville</td>\\n      <td>1826</td>\\n      <td>473.3</td>\\n      <td>601222</td>\\n      <td>1670890</td>\\n      <td>1.0</td>\\n      <td>25.0</td>\\n      <td>NaN</td>\\n    </tr>\\n    <tr>\\n      <th>Texas</th>\\n      <td>TX</td>\\n      <td>1845</td>\\n      <td>Austin</td>\\n      <td>1839</td>\\n      <td>251.5</td>\\n      <td>790390</td>\\n      <td>1716291</td>\\n      <td>4.0</td>\\n      <td>11.0</td>\\n      <td>Austin is the largest state capital that is no...</td>\\n    </tr>\\n    <tr>\\n      <th>Utah</th>\\n      <td>UT</td>\\n      <td>1896</td>\\n      <td>Salt Lake City</td>\\n      <td>1858</td>\\n      <td>109.1</td>\\n      <td>186440</td>\\n      <td>1087873</td>\\n      <td>1.0</td>\\n      <td>124.0</td>\\n      <td>NaN</td>\\n    </tr>\\n    <tr>\\n      <th>Vermont</th>\\n      <td>VT</td>\\n      <td>1791</td>\\n      <td>Montpelier</td>\\n      <td>1805</td>\\n      <td>10.2</td>\\n      <td>7855</td>\\n      <td>NaN</td>\\n      <td>6.0</td>\\n      <td>NaN</td>\\n      <td>Least populous U.S. state capital.</td>\\n    </tr>\\n    <tr>\\n      <th>Virginia</th>\\n      <td>VA</td>\\n      <td>1788</td>\\n      <td>Richmond</td>\\n      <td>1780</td>\\n      <td>60.1</td>\\n      <td>204214</td>\\n      <td>1208101</td>\\n      <td>4.0</td>\\n      <td>104.0</td>\\n      <td>Richmond is one of two independent cities that...</td>\\n    </tr>\\n    <tr>\\n      <th>Washington</th>\\n      <td>WA</td>\\n      <td>1889</td>\\n      <td>Olympia</td>\\n      <td>1853</td>\\n      <td>16.7</td>\\n      <td>46478</td>\\n      <td>234670</td>\\n      <td>24.0</td>\\n      <td>NaN</td>\\n      <td>NaN</td>\\n    </tr>\\n    <tr>\\n      <th>West Virginia</th>\\n      <td>WV</td>\\n      <td>1863</td>\\n      <td>Charleston</td>\\n      <td>1885</td>\\n      <td>31.6</td>\\n      <td>51400</td>\\n      <td>304214</td>\\n      <td>1.0</td>\\n      <td>NaN</td>\\n      <td>Charleston is the smallest capital city that i...</td>\\n    </tr>\\n    <tr>\\n      <th>Wisconsin</th>\\n      <td>WI</td>\\n      <td>1848</td>\\n      <td>Madison</td>\\n      <td>1838</td>\\n      <td>68.7</td>\\n      <td>233209</td>\\n      <td>605435</td>\\n      <td>2.0</td>\\n      <td>82.0</td>\\n      <td>NaN</td>\\n    </tr>\\n    <tr>\\n      <th>Wyoming</th>\\n      <td>WY</td>\\n      <td>1890</td>\\n      <td>Cheyenne</td>\\n      <td>1869</td>\\n      <td>21.1</td>\\n      <td>59466</td>\\n      <td>91738</td>\\n      <td>1.0</td>\\n      <td>NaN</td>\\n      <td>NaN</td>\\n    </tr>\\n  </tbody>\\n</table>'"
      ]
     },
     "execution_count": 9,
     "metadata": {},
     "output_type": "execute_result"
    }
   ],
   "source": [
    "html_table = df.to_html()\n",
    "html_table"
   ]
  },
  {
   "cell_type": "markdown",
   "metadata": {
    "slideshow": {
     "slide_type": "subslide"
    }
   },
   "source": [
    "You may have to strip unwanted newlines to clean up the table."
   ]
  },
  {
   "cell_type": "code",
   "execution_count": 10,
   "metadata": {
    "slideshow": {
     "slide_type": "fragment"
    }
   },
   "outputs": [
    {
     "data": {
      "text/plain": [
       "'<table border=\"1\" class=\"dataframe\">  <thead>    <tr style=\"text-align: right;\">      <th></th>      <th>Abr.</th>      <th>State-hood Rank</th>      <th>Capital</th>      <th>Capital Since</th>      <th>Area (sq-mi)</th>      <th>Municipal Population</th>      <th>Metropolitan</th>      <th>Metropolitan Population</th>      <th>Population Rank</th>      <th>Notes</th>    </tr>    <tr>      <th>State</th>      <th></th>      <th></th>      <th></th>      <th></th>      <th></th>      <th></th>      <th></th>      <th></th>      <th></th>      <th></th>    </tr>  </thead>  <tbody>    <tr>      <th>Alabama</th>      <td>AL</td>      <td>1819</td>      <td>Montgomery</td>      <td>1846</td>      <td>155.4</td>      <td>205764</td>      <td>374536</td>      <td>2.0</td>      <td>102.0</td>      <td>Birmingham is the state\\'s largest city.</td>    </tr>    <tr>      <th>Alaska</th>      <td>AK</td>      <td>1959</td>      <td>Juneau</td>      <td>1906</td>      <td>2716.7</td>      <td>31275</td>      <td>NaN</td>      <td>3.0</td>      <td>NaN</td>      <td>Largest capital by municipal land area.</td>    </tr>    <tr>      <th>Arizona</th>      <td>AZ</td>      <td>1912</td>      <td>Phoenix</td>      <td>1889</td>      <td>474.9</td>      <td>1445632</td>      <td>4192887</td>      <td>1.0</td>      <td>6.0</td>      <td>Phoenix is the most populous capital city in t...</td>    </tr>    <tr>      <th>Arkansas</th>      <td>AR</td>      <td>1836</td>      <td>Little Rock</td>      <td>1821</td>      <td>116.2</td>      <td>193524</td>      <td>699757</td>      <td>1.0</td>      <td>117.0</td>      <td>NaN</td>    </tr>    <tr>      <th>California</th>      <td>CA</td>      <td>1850</td>      <td>Sacramento</td>      <td>1854</td>      <td>97.2</td>      <td>466488</td>      <td>2149127</td>      <td>6.0</td>      <td>35.0</td>      <td>NaN</td>    </tr>    <tr>      <th>Colorado</th>      <td>CO</td>      <td>1876</td>      <td>Denver</td>      <td>1867</td>      <td>153.4</td>      <td>600158</td>      <td>2543482</td>      <td>1.0</td>      <td>26.0</td>      <td>Denver was called Denver City until 1882.</td>    </tr>    <tr>      <th>Connecticut</th>      <td>CT</td>      <td>1788</td>      <td>Hartford</td>      <td>1875</td>      <td>17.3</td>      <td>124775</td>      <td>1212381</td>      <td>3.0</td>      <td>199.0</td>      <td>NaN</td>    </tr>    <tr>      <th>Delaware</th>      <td>DE</td>      <td>1787</td>      <td>Dover</td>      <td>1777</td>      <td>22.4</td>      <td>36047</td>      <td>162310</td>      <td>2.0</td>      <td>NaN</td>      <td>Longest-serving capital in terms of statehood.</td>    </tr>    <tr>      <th>Florida</th>      <td>FL</td>      <td>1845</td>      <td>Tallahassee</td>      <td>1824</td>      <td>95.7</td>      <td>181376</td>      <td>367413</td>      <td>7.0</td>      <td>125.0</td>      <td>NaN</td>    </tr>    <tr>      <th>Georgia</th>      <td>GA</td>      <td>1788</td>      <td>Atlanta</td>      <td>1868</td>      <td>131.7</td>      <td>420003</td>      <td>5286728</td>      <td>1.0</td>      <td>40.0</td>      <td>Most populous metro area of any state capital.</td>    </tr>    <tr>      <th>Hawaii</th>      <td>HI</td>      <td>1959</td>      <td>Honolulu</td>      <td>1845</td>      <td>85.7</td>      <td>337256</td>      <td>953207</td>      <td>1.0</td>      <td>53.0</td>      <td>NaN</td>    </tr>    <tr>      <th>Idaho</th>      <td>ID</td>      <td>1890</td>      <td>Boise</td>      <td>1865</td>      <td>63.8</td>      <td>205671</td>      <td>616561</td>      <td>1.0</td>      <td>103.0</td>      <td>NaN</td>    </tr>    <tr>      <th>Illinois</th>      <td>IL</td>      <td>1818</td>      <td>Springfield</td>      <td>1837</td>      <td>54.0</td>      <td>116250</td>      <td>210170</td>      <td>6.0</td>      <td>221.0</td>      <td>Springfield was once home to Abraham Lincoln.</td>    </tr>    <tr>      <th>Indiana</th>      <td>IN</td>      <td>1816</td>      <td>Indianapolis</td>      <td>1825</td>      <td>361.5</td>      <td>820445</td>      <td>1887877</td>      <td>1.0</td>      <td>16.0</td>      <td>NaN</td>    </tr>    <tr>      <th>Iowa</th>      <td>IA</td>      <td>1846</td>      <td>Des Moines</td>      <td>1857</td>      <td>75.8</td>      <td>203433</td>      <td>569633</td>      <td>1.0</td>      <td>105.0</td>      <td>NaN</td>    </tr>    <tr>      <th>Kansas</th>      <td>KS</td>      <td>1861</td>      <td>Topeka</td>      <td>1856</td>      <td>56.0</td>      <td>127473</td>      <td>230870</td>      <td>4.0</td>      <td>193.0</td>      <td>NaN</td>    </tr>    <tr>      <th>Kentucky</th>      <td>KY</td>      <td>1792</td>      <td>Frankfort</td>      <td>1792</td>      <td>14.7</td>      <td>25527</td>      <td>70758</td>      <td>14.0</td>      <td>NaN</td>      <td>NaN</td>    </tr>    <tr>      <th>Louisiana</th>      <td>LA</td>      <td>1812</td>      <td>Baton Rouge</td>      <td>1880</td>      <td>76.8</td>      <td>229493</td>      <td>802484</td>      <td>2.0</td>      <td>85.0</td>      <td>Baton Rouge is located in the state\\'s most pop...</td>    </tr>    <tr>      <th>Maine</th>      <td>ME</td>      <td>1820</td>      <td>Augusta</td>      <td>1832</td>      <td>55.4</td>      <td>19136</td>      <td>117114</td>      <td>8.0</td>      <td>NaN</td>      <td>Portland is a previous capital.</td>    </tr>    <tr>      <th>Maryland</th>      <td>MD</td>      <td>1788</td>      <td>Annapolis</td>      <td>1694</td>      <td>6.73</td>      <td>38394</td>      <td>NaN</td>      <td>7.0</td>      <td>NaN</td>      <td>Smallest capital by land area. Capitol buildin...</td>    </tr>    <tr>      <th>Massachusetts</th>      <td>MA</td>      <td>1788</td>      <td>Boston</td>      <td>1630</td>      <td>48.4</td>      <td>617594</td>      <td>4552402</td>      <td>1.0</td>      <td>22.0</td>      <td>Longest continuously serving capital in the U.S.</td>    </tr>    <tr>      <th>Michigan</th>      <td>MI</td>      <td>1837</td>      <td>Lansing</td>      <td>1847</td>      <td>35.0</td>      <td>114297</td>      <td>464036</td>      <td>5.0</td>      <td>226.0</td>      <td>Only state capital that is not also its county...</td>    </tr>    <tr>      <th>Minnesota</th>      <td>MN</td>      <td>1858</td>      <td>Saint Paul</td>      <td>1849</td>      <td>52.8</td>      <td>285068</td>      <td>3348659</td>      <td>2.0</td>      <td>67.0</td>      <td>NaN</td>    </tr>    <tr>      <th>Mississippi</th>      <td>MS</td>      <td>1817</td>      <td>Jackson</td>      <td>1821</td>      <td>104.9</td>      <td>173514</td>      <td>567122</td>      <td>1.0</td>      <td>134.0</td>      <td>Only state capital that shares its status as c...</td>    </tr>    <tr>      <th>Missouri</th>      <td>MO</td>      <td>1821</td>      <td>Jefferson City</td>      <td>1826</td>      <td>27.3</td>      <td>43079</td>      <td>149807</td>      <td>15.0</td>      <td>NaN</td>      <td>NaN</td>    </tr>    <tr>      <th>Montana</th>      <td>MT</td>      <td>1889</td>      <td>Helena</td>      <td>1875</td>      <td>14.0</td>      <td>28190</td>      <td>74801</td>      <td>6.0</td>      <td>NaN</td>      <td>NaN</td>    </tr>    <tr>      <th>Nebraska</th>      <td>NE</td>      <td>1867</td>      <td>Lincoln</td>      <td>1867</td>      <td>74.6</td>      <td>258379</td>      <td>302157</td>      <td>2.0</td>      <td>72.0</td>      <td>NaN</td>    </tr>    <tr>      <th>Nevada</th>      <td>NV</td>      <td>1864</td>      <td>Carson City</td>      <td>1861</td>      <td>143.4</td>      <td>55274</td>      <td>NaN</td>      <td>6.0</td>      <td>NaN</td>      <td>One of two independent cities that serves as a...</td>    </tr>    <tr>      <th>New Hampshire</th>      <td>NH</td>      <td>1788</td>      <td>Concord</td>      <td>1808</td>      <td>64.3</td>      <td>42695</td>      <td>NaN</td>      <td>3.0</td>      <td>NaN</td>      <td>NaN</td>    </tr>    <tr>      <th>New Jersey</th>      <td>NJ</td>      <td>1787</td>      <td>Trenton</td>      <td>1784</td>      <td>7.66</td>      <td>84913</td>      <td>366513</td>      <td>10.0</td>      <td>NaN</td>      <td>Served as the U.S. capital for a short period ...</td>    </tr>    <tr>      <th>New Mexico</th>      <td>NM</td>      <td>1912</td>      <td>Santa Fe</td>      <td>1610</td>      <td>37.3</td>      <td>75764</td>      <td>183732</td>      <td>4.0</td>      <td>NaN</td>      <td>Longest serving capital in the United States. ...</td>    </tr>    <tr>      <th>New York</th>      <td>NY</td>      <td>1788</td>      <td>Albany</td>      <td>1797</td>      <td>21.4</td>      <td>97856</td>      <td>857592</td>      <td>6.0</td>      <td>NaN</td>      <td>NaN</td>    </tr>    <tr>      <th>North Carolina</th>      <td>NC</td>      <td>1789</td>      <td>Raleigh</td>      <td>1792</td>      <td>114.6</td>      <td>403892</td>      <td>1130490</td>      <td>2.0</td>      <td>43.0</td>      <td>NaN</td>    </tr>    <tr>      <th>North Dakota</th>      <td>ND</td>      <td>1889</td>      <td>Bismarck</td>      <td>1883</td>      <td>26.9</td>      <td>61272</td>      <td>108779</td>      <td>2.0</td>      <td>NaN</td>      <td>NaN</td>    </tr>    <tr>      <th>Ohio</th>      <td>OH</td>      <td>1803</td>      <td>Columbus</td>      <td>1816</td>      <td>210.3</td>      <td>879170</td>      <td>2078725</td>      <td>1.0</td>      <td>14.0</td>      <td>Columbus is the largest city in Ohio, the seco...</td>    </tr>    <tr>      <th>Oklahoma</th>      <td>OK</td>      <td>1907</td>      <td>Oklahoma City</td>      <td>1910</td>      <td>607.0</td>      <td>579999</td>      <td>1252987</td>      <td>1.0</td>      <td>31.0</td>      <td>Shortest serving current state capital.</td>    </tr>    <tr>      <th>Oregon</th>      <td>OR</td>      <td>1859</td>      <td>Salem</td>      <td>1855</td>      <td>45.7</td>      <td>154637</td>      <td>390738</td>      <td>3.0</td>      <td>149.0</td>      <td>NaN</td>    </tr>    <tr>      <th>Pennsylvania</th>      <td>PA</td>      <td>1787</td>      <td>Harrisburg</td>      <td>1812</td>      <td>8.11</td>      <td>49528</td>      <td>647390</td>      <td>9.0</td>      <td>NaN</td>      <td>NaN</td>    </tr>    <tr>      <th>Rhode Island</th>      <td>RI</td>      <td>1790</td>      <td>Providence</td>      <td>1900</td>      <td>18.5</td>      <td>178042</td>      <td>1600852</td>      <td>1.0</td>      <td>130.0</td>      <td>Also served as the state\\'s capital 1636–1686 a...</td>    </tr>    <tr>      <th>South Carolina</th>      <td>SC</td>      <td>1788</td>      <td>Columbia</td>      <td>1786</td>      <td>125.2</td>      <td>129272</td>      <td>767598</td>      <td>2.0</td>      <td>191.0</td>      <td>NaN</td>    </tr>    <tr>      <th>South Dakota</th>      <td>SD</td>      <td>1889</td>      <td>Pierre</td>      <td>1889</td>      <td>13.0</td>      <td>13646</td>      <td>NaN</td>      <td>8.0</td>      <td>NaN</td>      <td>NaN</td>    </tr>    <tr>      <th>Tennessee</th>      <td>TN</td>      <td>1796</td>      <td>Nashville</td>      <td>1826</td>      <td>473.3</td>      <td>601222</td>      <td>1670890</td>      <td>1.0</td>      <td>25.0</td>      <td>NaN</td>    </tr>    <tr>      <th>Texas</th>      <td>TX</td>      <td>1845</td>      <td>Austin</td>      <td>1839</td>      <td>251.5</td>      <td>790390</td>      <td>1716291</td>      <td>4.0</td>      <td>11.0</td>      <td>Austin is the largest state capital that is no...</td>    </tr>    <tr>      <th>Utah</th>      <td>UT</td>      <td>1896</td>      <td>Salt Lake City</td>      <td>1858</td>      <td>109.1</td>      <td>186440</td>      <td>1087873</td>      <td>1.0</td>      <td>124.0</td>      <td>NaN</td>    </tr>    <tr>      <th>Vermont</th>      <td>VT</td>      <td>1791</td>      <td>Montpelier</td>      <td>1805</td>      <td>10.2</td>      <td>7855</td>      <td>NaN</td>      <td>6.0</td>      <td>NaN</td>      <td>Least populous U.S. state capital.</td>    </tr>    <tr>      <th>Virginia</th>      <td>VA</td>      <td>1788</td>      <td>Richmond</td>      <td>1780</td>      <td>60.1</td>      <td>204214</td>      <td>1208101</td>      <td>4.0</td>      <td>104.0</td>      <td>Richmond is one of two independent cities that...</td>    </tr>    <tr>      <th>Washington</th>      <td>WA</td>      <td>1889</td>      <td>Olympia</td>      <td>1853</td>      <td>16.7</td>      <td>46478</td>      <td>234670</td>      <td>24.0</td>      <td>NaN</td>      <td>NaN</td>    </tr>    <tr>      <th>West Virginia</th>      <td>WV</td>      <td>1863</td>      <td>Charleston</td>      <td>1885</td>      <td>31.6</td>      <td>51400</td>      <td>304214</td>      <td>1.0</td>      <td>NaN</td>      <td>Charleston is the smallest capital city that i...</td>    </tr>    <tr>      <th>Wisconsin</th>      <td>WI</td>      <td>1848</td>      <td>Madison</td>      <td>1838</td>      <td>68.7</td>      <td>233209</td>      <td>605435</td>      <td>2.0</td>      <td>82.0</td>      <td>NaN</td>    </tr>    <tr>      <th>Wyoming</th>      <td>WY</td>      <td>1890</td>      <td>Cheyenne</td>      <td>1869</td>      <td>21.1</td>      <td>59466</td>      <td>91738</td>      <td>1.0</td>      <td>NaN</td>      <td>NaN</td>    </tr>  </tbody></table>'"
      ]
     },
     "execution_count": 10,
     "metadata": {},
     "output_type": "execute_result"
    }
   ],
   "source": [
    "html_table.replace('\\n', '')"
   ]
  },
  {
   "cell_type": "markdown",
   "metadata": {
    "slideshow": {
     "slide_type": "subslide"
    }
   },
   "source": [
    "You can also save the table directly to a file."
   ]
  },
  {
   "cell_type": "code",
   "execution_count": 11,
   "metadata": {
    "slideshow": {
     "slide_type": "fragment"
    }
   },
   "outputs": [],
   "source": [
    "df.to_html('table.html')"
   ]
  },
  {
   "cell_type": "code",
   "execution_count": 12,
   "metadata": {
    "slideshow": {
     "slide_type": "fragment"
    }
   },
   "outputs": [],
   "source": [
    "# OSX Users can run this to open the file in a browser, \n",
    "# or you can manually find the file and open it in the browser\n",
    "!open table.html"
   ]
  }
 ],
 "metadata": {
  "kernelspec": {
   "display_name": "Python 3",
   "language": "python",
   "name": "python3"
  },
  "language_info": {
   "codemirror_mode": {
    "name": "ipython",
    "version": 3
   },
   "file_extension": ".py",
   "mimetype": "text/x-python",
   "name": "python",
   "nbconvert_exporter": "python",
   "pygments_lexer": "ipython3",
   "version": "3.7.3"
  },
  "varInspector": {
   "cols": {
    "lenName": 16,
    "lenType": 16,
    "lenVar": 40
   },
   "kernels_config": {
    "python": {
     "delete_cmd_postfix": "",
     "delete_cmd_prefix": "del ",
     "library": "var_list.py",
     "varRefreshCmd": "print(var_dic_list())"
    },
    "r": {
     "delete_cmd_postfix": ") ",
     "delete_cmd_prefix": "rm(",
     "library": "var_list.r",
     "varRefreshCmd": "cat(var_dic_list()) "
    }
   },
   "types_to_exclude": [
    "module",
    "function",
    "builtin_function_or_method",
    "instance",
    "_Feature"
   ],
   "window_display": false
  }
 },
 "nbformat": 4,
 "nbformat_minor": 2
}
