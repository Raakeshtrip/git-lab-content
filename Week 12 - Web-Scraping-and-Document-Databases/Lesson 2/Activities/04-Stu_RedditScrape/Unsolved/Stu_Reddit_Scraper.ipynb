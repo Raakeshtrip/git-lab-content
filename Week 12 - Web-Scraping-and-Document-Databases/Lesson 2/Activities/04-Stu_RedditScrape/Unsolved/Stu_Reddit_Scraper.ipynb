{
 "cells": [
  {
   "cell_type": "code",
   "execution_count": 1,
   "metadata": {},
   "outputs": [],
   "source": [
    "# Dependencies\n",
    "from bs4 import BeautifulSoup\n",
    "import requests\n",
    "import os"
   ]
  },
  {
   "cell_type": "code",
   "execution_count": 2,
   "metadata": {},
   "outputs": [],
   "source": [
    "# URL of Python reddit\n",
    "# url = 'https://www.reddit.com/r/Python/'\n",
    "# url = 'https://www.reddit.com/r/ProgrammingHumor/'"
   ]
  },
  {
   "cell_type": "code",
   "execution_count": 3,
   "metadata": {},
   "outputs": [],
   "source": [
    "# Retrieve page with the requests module\n",
    "# html = requests.get(url)"
   ]
  },
  {
   "cell_type": "code",
   "execution_count": 4,
   "metadata": {},
   "outputs": [],
   "source": [
    "filepath = os.path.join(\"Programmer-Humor.html\")\n",
    "with open(filepath, encoding='utf-8') as file:\n",
    "    html = file.read()"
   ]
  },
  {
   "cell_type": "code",
   "execution_count": 5,
   "metadata": {},
   "outputs": [],
   "source": [
    "# Create BeautifulSoup object; parse with 'html.parser'\n",
    "soup = BeautifulSoup(html, 'html.parser')"
   ]
  },
  {
   "cell_type": "code",
   "execution_count": 16,
   "metadata": {},
   "outputs": [
    {
     "name": "stdout",
     "output_type": "stream",
     "text": [
      "422,381\n"
     ]
    }
   ],
   "source": [
    "# Find the number of subscribers\n",
    "#print(soup.prettify())\n",
    "\n",
    "number_subscribers=soup.find('span',class_='subscribers').find('span',class_='number').text\n",
    "print(number_subscribers)\n",
    "\n",
    "#print(result.find('span', class_=\"subscribers\").text())"
   ]
  },
  {
   "cell_type": "code",
   "execution_count": null,
   "metadata": {},
   "outputs": [],
   "source": [
    "# Examine the results, then determine element that contains sought info\n",
    "# results are returned as an iterable list\n",
    "results=soup.find_all('div',)\n"
   ]
  },
  {
   "cell_type": "code",
   "execution_count": null,
   "metadata": {},
   "outputs": [],
   "source": [
    "# Loop through returned results\n",
    "    \n",
    "    # Retrieve the thread title\n",
    "    \n",
    "    \n",
    "    # Access the thread's text content\n",
    "\n",
    "    try:\n",
    "        # Access the thread with CSS selectors\n",
    "\n",
    "        # The number of comments made in the thread\n",
    "\n",
    "        # Parse string, e.g. '47 comments' for possible numeric manipulation\n",
    "\n",
    "        # Access the href attribute with bracket notation\n",
    "\n",
    "        # Run if the thread has comments\n",
    "        if (comments_num):\n",
    "            print('\\n-----------------\\n')\n",
    "            print(title_text)\n",
    "            print('Comments:', comments_num)\n",
    "            print(link)\n",
    "    except AttributeError as e:\n",
    "        print(e)"
   ]
  }
 ],
 "metadata": {
  "kernelspec": {
   "display_name": "Python 3",
   "language": "python",
   "name": "python3"
  },
  "language_info": {
   "codemirror_mode": {
    "name": "ipython",
    "version": 3
   },
   "file_extension": ".py",
   "mimetype": "text/x-python",
   "name": "python",
   "nbconvert_exporter": "python",
   "pygments_lexer": "ipython3",
   "version": "3.7.3"
  },
  "varInspector": {
   "cols": {
    "lenName": 16,
    "lenType": 16,
    "lenVar": 40
   },
   "kernels_config": {
    "python": {
     "delete_cmd_postfix": "",
     "delete_cmd_prefix": "del ",
     "library": "var_list.py",
     "varRefreshCmd": "print(var_dic_list())"
    },
    "r": {
     "delete_cmd_postfix": ") ",
     "delete_cmd_prefix": "rm(",
     "library": "var_list.r",
     "varRefreshCmd": "cat(var_dic_list()) "
    }
   },
   "types_to_exclude": [
    "module",
    "function",
    "builtin_function_or_method",
    "instance",
    "_Feature"
   ],
   "window_display": false
  }
 },
 "nbformat": 4,
 "nbformat_minor": 2
}
