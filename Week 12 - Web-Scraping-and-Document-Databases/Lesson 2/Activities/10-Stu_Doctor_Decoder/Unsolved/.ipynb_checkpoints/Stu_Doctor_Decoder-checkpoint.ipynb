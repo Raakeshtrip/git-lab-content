{
 "cells": [
  {
   "cell_type": "markdown",
   "metadata": {
    "deletable": false,
    "editable": false,
    "nbgrader": {
     "checksum": "80deef871f3dd9885af08c6806d209e7",
     "grade": false,
     "grade_id": "cell-dd2ddeba9033880b",
     "locked": true,
     "schema_version": 1,
     "solution": false
    },
    "slideshow": {
     "slide_type": "slide"
    }
   },
   "source": [
    "# Doctor Decoder\n",
    "\n",
    "Use Pandas scraping to help decode the medical abbreviations that a doctor might use."
   ]
  },
  {
   "cell_type": "code",
   "execution_count": 3,
   "metadata": {
    "deletable": false,
    "editable": false,
    "nbgrader": {
     "checksum": "80494e593aea05796f290c7a6a12b613",
     "grade": false,
     "grade_id": "cell-6c50ad7ad28aba2e",
     "locked": true,
     "schema_version": 1,
     "solution": false
    },
    "slideshow": {
     "slide_type": "slide"
    }
   },
   "outputs": [],
   "source": [
    "import pandas as pd"
   ]
  },
  {
   "cell_type": "markdown",
   "metadata": {
    "deletable": false,
    "editable": false,
    "nbgrader": {
     "checksum": "269bf4982930f5d7043b0551d640e23f",
     "grade": false,
     "grade_id": "cell-cb7d2e5f8ff89b71",
     "locked": true,
     "schema_version": 1,
     "solution": false
    }
   },
   "source": [
    "Use Pandas to scrape the following site and decode the medical abbreviations in the list"
   ]
  },
  {
   "cell_type": "code",
   "execution_count": 4,
   "metadata": {
    "deletable": false,
    "editable": false,
    "nbgrader": {
     "checksum": "a5c7c51eb9a3c045985f064031976fdf",
     "grade": false,
     "grade_id": "cell-f4f4e6cacd73a092",
     "locked": true,
     "schema_version": 1,
     "solution": false
    },
    "slideshow": {
     "slide_type": "fragment"
    }
   },
   "outputs": [],
   "source": [
    "url = 'https://en.wikipedia.org/wiki/List_of_medical_abbreviations'\n",
    "med_abbreviations = ['BMR', 'BP', 'ECG', 'MRI', 'qid', 'WBC']"
   ]
  },
  {
   "cell_type": "code",
   "execution_count": 5,
   "metadata": {
    "deletable": false,
    "nbgrader": {
     "checksum": "61b3b006177ac9242698f1ffacfd23b5",
     "grade": false,
     "grade_id": "cell-a71ede958957992c",
     "locked": false,
     "schema_version": 1,
     "solution": true
    },
    "slideshow": {
     "slide_type": "fragment"
    }
   },
   "outputs": [
    {
     "data": {
      "text/plain": [
       "[    0                                                  1\n",
       " 0 NaN  This article includes a list of references, re...,\n",
       "                             vteMedical abbreviations  \\\n",
       " 0  0–9 A B C D E F G H I J K L M N O P Q R S T U ...   \n",
       " 1  Latin abbreviations Prescription abbreviations...   \n",
       " \n",
       "                           vteMedical abbreviations.1  \n",
       " 0  0–9 A B C D E F G H I J K L M N O P Q R S T U ...  \n",
       " 1  Latin abbreviations Prescription abbreviations...  ,\n",
       "           0                                       1  \\\n",
       " 0    EG abb                            EG full name   \n",
       " 1       ABG                      arterial blood gas   \n",
       " 2       ACE           angiotensin-converting enzyme   \n",
       " 3      ACTH             adrenocorticotropic hormone   \n",
       " 4       ADH                    antidiuretic hormone   \n",
       " 5       AED        automated external defibrillator   \n",
       " 6      AIDS      acquired immunodeficiency syndrome   \n",
       " 7       ALP                    alkaline phosphatase   \n",
       " 8       ALT                alanine aminotransferase   \n",
       " 9       ASA                    acetylsalicylic acid   \n",
       " 10      AST              aspartate aminotransferase   \n",
       " 11      ATP                  adenosine triphosphate   \n",
       " 12      BCG                 bacille Calmette-Guérin   \n",
       " 13      bid                           2 times a day   \n",
       " 14    BIBPD                    brought in by police   \n",
       " 15      BLS                      basic life support   \n",
       " 16      BMR                    basal metabolic rate   \n",
       " 17       BP                          blood pressure   \n",
       " 18      BSA                       body surface area   \n",
       " 19      BUN                     blood urea nitrogen   \n",
       " 20       BR                          bedside rounds   \n",
       " 21      BPD         borderline personality disorder   \n",
       " 22        C         Celsius; centigrade; complement   \n",
       " 23       Ca                                 calcium   \n",
       " 24     CAMP          cyclic adenosine monophosphate   \n",
       " 25      CBC                    complete blood count   \n",
       " 26      cGy                               centigray   \n",
       " 27       Ci                                   curie   \n",
       " 28       CK                         creatine kinase   \n",
       " 29       Cl                      chloride; chlorine   \n",
       " ..      ...                                     ...   \n",
       " 147     SBE         subacute bacterial endocarditis   \n",
       " 148      sc                        subcutaneous(ly)   \n",
       " 149      SI           International System of Units   \n",
       " 150    SIDS            sudden infant death syndrome   \n",
       " 151     SLE            systemic lupus erythematosus   \n",
       " 152    soln                                solution   \n",
       " 153      sp                                 species   \n",
       " 154     spp                                 species   \n",
       " 155   sp gr                        specific gravity   \n",
       " 156      sq                                  square   \n",
       " 157    SSRI  selective serotonin reuptake inhibitor   \n",
       " 158     STS          serologic test(s) for syphilis   \n",
       " 159     T&A         tonsillectomy and adenoidectomy   \n",
       " 160      TB                            tuberculosis   \n",
       " 161    TIBC             total iron-binding capacity   \n",
       " 162     tid                           3 times a day   \n",
       " 163     TPN              total parenteral nutrition   \n",
       " 164     URI             upper respiratory infection   \n",
       " 165     UTI                 urinary tract infection   \n",
       " 166     WBC                        white blood cell   \n",
       " 167     WHO               World Health Organization   \n",
       " 168      wt                                  weight   \n",
       " 169       μ                          micro-; micron   \n",
       " 170     μCi                              microcurie   \n",
       " 171      μg                               microgram   \n",
       " 172      μL                              microliter   \n",
       " 173      μm                              micrometer   \n",
       " 174    μmol                               micromole   \n",
       " 175    μOsm                            micro-osmole   \n",
       " 176      mμ                             millimicron   \n",
       " \n",
       "                                           2  \n",
       " 0    Other(ver change, need to know...etc.)  \n",
       " 1                                       NaN  \n",
       " 2                                       NaN  \n",
       " 3                                       NaN  \n",
       " 4                                       NaN  \n",
       " 5                                       NaN  \n",
       " 6                                       NaN  \n",
       " 7                                       NaN  \n",
       " 8                       old version is SGPT  \n",
       " 9                                   aspirin  \n",
       " 10                      old version is SGOT  \n",
       " 11                                      NaN  \n",
       " 12                                      NaN  \n",
       " 13                                      NaN  \n",
       " 14                                      NaN  \n",
       " 15                                      NaN  \n",
       " 16                                      NaN  \n",
       " 17                                      NaN  \n",
       " 18                                      NaN  \n",
       " 19                                      NaN  \n",
       " 20                                      NaN  \n",
       " 21                                      NaN  \n",
       " 22                                      NaN  \n",
       " 23                                      NaN  \n",
       " 24                                      NaN  \n",
       " 25                                      NaN  \n",
       " 26                                      NaN  \n",
       " 27                                      NaN  \n",
       " 28                                      NaN  \n",
       " 29                                      NaN  \n",
       " ..                                      ...  \n",
       " 147                                     NaN  \n",
       " 148                                     NaN  \n",
       " 149                                     NaN  \n",
       " 150                                     NaN  \n",
       " 151                                     NaN  \n",
       " 152                                     NaN  \n",
       " 153                                singular  \n",
       " 154                                  plural  \n",
       " 155                                     NaN  \n",
       " 156                                     NaN  \n",
       " 157                                     NaN  \n",
       " 158                                     NaN  \n",
       " 159                                     NaN  \n",
       " 160                                     NaN  \n",
       " 161                                     NaN  \n",
       " 162                                     NaN  \n",
       " 163                                     NaN  \n",
       " 164                                     NaN  \n",
       " 165                                     NaN  \n",
       " 166                                     NaN  \n",
       " 167                                     NaN  \n",
       " 168                                     NaN  \n",
       " 169                                     NaN  \n",
       " 170                                     NaN  \n",
       " 171                                     NaN  \n",
       " 172                                     NaN  \n",
       " 173                        also name micron  \n",
       " 174                                     NaN  \n",
       " 175                                     NaN  \n",
       " 176                     also name nanometer  \n",
       " \n",
       " [177 rows x 3 columns],\n",
       "                             vteMedical abbreviations  \\\n",
       " 0  0–9 A B C D E F G H I J K L M N O P Q R S T U ...   \n",
       " 1  Latin abbreviations Prescription abbreviations...   \n",
       " \n",
       "                           vteMedical abbreviations.1  \n",
       " 0  0–9 A B C D E F G H I J K L M N O P Q R S T U ...  \n",
       " 1  Latin abbreviations Prescription abbreviations...  ,\n",
       "   vteBasic medical terms used to describe disease conditions  \\\n",
       " 0  Medical signSymptomSyndrome Medical diagnosisD...           \n",
       " 1                                                NaN           \n",
       " \n",
       "   vteBasic medical terms used to describe disease conditions.1  \\\n",
       " 0  Medical signSymptomSyndrome Medical diagnosisD...             \n",
       " 1                        Medical signSymptomSyndrome             \n",
       " \n",
       "                                          Unnamed: 2  \\\n",
       " 0                                               NaN   \n",
       " 1  Medical diagnosisDifferential diagnosisPrognosis   \n",
       " \n",
       "                    Unnamed: 3                                       Unnamed: 4  \n",
       " 0                         NaN                                              NaN  \n",
       " 1  AcuteChronicCure/Remission  DiseaseEponymous diseaseAcronym or abbreviation  ,\n",
       "     0                            1  \\\n",
       " 0 NaN  Medical signSymptomSyndrome   \n",
       " \n",
       "                                                   2  \\\n",
       " 0  Medical diagnosisDifferential diagnosisPrognosis   \n",
       " \n",
       "                             3                                                4  \n",
       " 0  AcuteChronicCure/Remission  DiseaseEponymous diseaseAcronym or abbreviation  ]"
      ]
     },
     "execution_count": 5,
     "metadata": {},
     "output_type": "execute_result"
    }
   ],
   "source": [
    "# Use Panda's `read_html` to parse the url\n",
    "# YOUR CODE HERE\n",
    "tables = pd.read_html(url)\n",
    "tables\n"
   ]
  },
  {
   "cell_type": "code",
   "execution_count": null,
   "metadata": {
    "deletable": false,
    "nbgrader": {
     "checksum": "47c040e92f3f18a76bb024054b967f44",
     "grade": false,
     "grade_id": "cell-316da8cb3354a1e2",
     "locked": false,
     "schema_version": 1,
     "solution": true
    },
    "slideshow": {
     "slide_type": "fragment"
    }
   },
   "outputs": [],
   "source": [
    "# Find the medical abbreviations DataFrame in the list of DataFrames as assign it to `df`\n",
    "# Assign the columns `['abb', 'full_name', 'other']`\n",
    "# YOUR CODE HERE\n",
    "\n",
    "df = tables[0]\n",
    "df.columns = ['State', 'Abr.', 'State-hood Rank', 'Capital', \n",
    "              'Capital Since', 'Area (sq-mi)', 'Municipal Population', 'Metropolitan', \n",
    "              'Metropolitan Population', 'Population Rank', 'Notes']\n",
    "df.head()"
   ]
  },
  {
   "cell_type": "markdown",
   "metadata": {
    "deletable": false,
    "editable": false,
    "nbgrader": {
     "checksum": "6b0c3ac2d9beb595fbe40a6ed6f0caf8",
     "grade": false,
     "grade_id": "cell-20d93171b74375bb",
     "locked": true,
     "schema_version": 1,
     "solution": false
    },
    "slideshow": {
     "slide_type": "subslide"
    }
   },
   "source": [
    "Cleanup of extra row"
   ]
  },
  {
   "cell_type": "code",
   "execution_count": null,
   "metadata": {
    "deletable": false,
    "nbgrader": {
     "checksum": "99dc744627d5133d4bb8a1636f19c738",
     "grade": false,
     "grade_id": "cell-cde33910996decbd",
     "locked": false,
     "schema_version": 1,
     "solution": true
    }
   },
   "outputs": [],
   "source": [
    "# drop the `other` column\n",
    "# YOUR CODE HERE\n"
   ]
  },
  {
   "cell_type": "code",
   "execution_count": null,
   "metadata": {
    "deletable": false,
    "nbgrader": {
     "checksum": "663c0bc4bb208a815c81b13fae7821b0",
     "grade": false,
     "grade_id": "cell-1df09a2e03a3b973",
     "locked": false,
     "schema_version": 1,
     "solution": true
    },
    "slideshow": {
     "slide_type": "fragment"
    }
   },
   "outputs": [],
   "source": [
    "# Drop the first row and set the index to the `abb` column\n",
    "# YOUR CODE HERE\n"
   ]
  },
  {
   "cell_type": "code",
   "execution_count": null,
   "metadata": {
    "deletable": false,
    "nbgrader": {
     "checksum": "4002e5e60e1810a494081a36e7aa9060",
     "grade": false,
     "grade_id": "cell-3e6a547da7c5f934",
     "locked": false,
     "schema_version": 1,
     "solution": true
    }
   },
   "outputs": [],
   "source": [
    "# Loop through the list of medical abbreviations and print the abbreviation\n",
    "# along with the full description.\n",
    "# Use the DataFrame to perform the lookup.\n",
    "# YOUR CODE HERE\n"
   ]
  }
 ],
 "metadata": {
  "kernelspec": {
   "display_name": "Python 3",
   "language": "python",
   "name": "python3"
  },
  "language_info": {
   "codemirror_mode": {
    "name": "ipython",
    "version": 3
   },
   "file_extension": ".py",
   "mimetype": "text/x-python",
   "name": "python",
   "nbconvert_exporter": "python",
   "pygments_lexer": "ipython3",
   "version": "3.7.3"
  }
 },
 "nbformat": 4,
 "nbformat_minor": 2
}
