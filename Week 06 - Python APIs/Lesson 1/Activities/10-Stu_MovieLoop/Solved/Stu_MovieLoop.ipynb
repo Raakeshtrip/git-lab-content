{
 "cells": [
  {
   "cell_type": "markdown",
   "metadata": {},
   "source": [
    "# Instructions\n",
    "\n",
    "Consider the following list of movie titles.\n",
    "\n",
    "```python\n",
    "movies = [\"Aliens\", \"Sing\", \"Moana\"]\n",
    "```\n",
    "\n",
    "Make a request to the OMDb API for each movie in the list. Then:\n",
    "\n",
    "1. Print the director of each movie\n",
    "\n",
    "2. Save the responses in another list"
   ]
  },
  {
   "cell_type": "code",
   "execution_count": 2,
   "metadata": {},
   "outputs": [
    {
     "name": "stdout",
     "output_type": "stream",
     "text": [
      "The director of Aliens is James Cameron\n",
      "The director of Sing is Garth Jennings, Christophe Lourdelet(co-director)\n",
      "The director of Moana is Ron Clements, John Musker, Don Hall(co-director), Chris Williams(co-director)\n"
     ]
    }
   ],
   "source": [
    "# Dependencies\n",
    "import requests\n",
    "\n",
    "url = \"http://www.omdbapi.com/?apikey=trilogy&t=\"\n",
    "\n",
    "movies = [\"Aliens\", \"Sing\", \"Moana\"]\n",
    "\n",
    "responses = [];\n",
    "\n",
    "for movie in movies:\n",
    "    movie_data = requests.get(url + movie).json()\n",
    "    responses.append(movie_data)\n",
    "    print(f'The director of {movie} is {movie_data[\"Director\"]}')"
   ]
  },
  {
   "cell_type": "code",
   "execution_count": 2,
   "metadata": {},
   "outputs": [
    {
     "data": {
      "text/plain": [
       "[{'Actors': 'Sigourney Weaver, Carrie Henn, Michael Biehn, Paul Reiser',\n",
       "  'Awards': 'Won 2 Oscars. Another 18 wins & 22 nominations.',\n",
       "  'BoxOffice': 'N/A',\n",
       "  'Country': 'USA',\n",
       "  'DVD': '01 Jun 1999',\n",
       "  'Director': 'James Cameron',\n",
       "  'Genre': 'Action, Adventure, Sci-Fi',\n",
       "  'Language': 'English',\n",
       "  'Metascore': '86',\n",
       "  'Plot': 'Ellen Ripley is rescued by a deep salvage team after being hypersleep for 57 years. The moon that the Nostromo visited has been colonized, but contact is lost. This time, colonial marines have impressive firepower, but will that be enough?',\n",
       "  'Poster': 'https://images-na.ssl-images-amazon.com/images/M/MV5BYzVlMWViZGEtYjEyYy00YWZmLThmZGEtYmM4MDZlN2Q5MmRmXkEyXkFqcGdeQXVyMTQxNzMzNDI@._V1_SX300.jpg',\n",
       "  'Production': '20th Century Fox Film Corporat',\n",
       "  'Rated': 'R',\n",
       "  'Ratings': [{'Source': 'Internet Movie Database', 'Value': '8.4/10'},\n",
       "   {'Source': 'Rotten Tomatoes', 'Value': '98%'},\n",
       "   {'Source': 'Metacritic', 'Value': '86/100'}],\n",
       "  'Released': '18 Jul 1986',\n",
       "  'Response': 'True',\n",
       "  'Runtime': '137 min',\n",
       "  'Title': 'Aliens',\n",
       "  'Type': 'movie',\n",
       "  'Website': 'N/A',\n",
       "  'Writer': \"James Cameron (story by), David Giler (story by), Walter Hill (story by), Dan O'Bannon (based on characters created by), Ronald Shusett (based on characters created by), James Cameron (screenplay by)\",\n",
       "  'Year': '1986',\n",
       "  'imdbID': 'tt0090605',\n",
       "  'imdbRating': '8.4',\n",
       "  'imdbVotes': '553,577'},\n",
       " {'Actors': 'Matthew McConaughey, Reese Witherspoon, Seth MacFarlane, Scarlett Johansson',\n",
       "  'Awards': 'Nominated for 2 Golden Globes. Another 2 wins & 20 nominations.',\n",
       "  'BoxOffice': '$270,322,940',\n",
       "  'Country': 'Japan, USA',\n",
       "  'DVD': '21 Mar 2017',\n",
       "  'Director': 'Garth Jennings, Christophe Lourdelet(co-director)',\n",
       "  'Genre': 'Animation, Comedy, Family',\n",
       "  'Language': 'English, Japanese, Ukrainian',\n",
       "  'Metascore': '59',\n",
       "  'Plot': \"In a city of humanoid animals, a hustling theater impresario's attempt to save his theater with a singing competition becomes grander than he anticipates even as its finalists' find that their lives will never be the same.\",\n",
       "  'Poster': 'https://images-na.ssl-images-amazon.com/images/M/MV5BMTYzODYzODU2Ml5BMl5BanBnXkFtZTgwNTc1MTA2NzE@._V1_SX300.jpg',\n",
       "  'Production': 'Illumination Entertainment',\n",
       "  'Rated': 'PG',\n",
       "  'Ratings': [{'Source': 'Internet Movie Database', 'Value': '7.1/10'},\n",
       "   {'Source': 'Rotten Tomatoes', 'Value': '73%'},\n",
       "   {'Source': 'Metacritic', 'Value': '59/100'}],\n",
       "  'Released': '21 Dec 2016',\n",
       "  'Response': 'True',\n",
       "  'Runtime': '108 min',\n",
       "  'Title': 'Sing',\n",
       "  'Type': 'movie',\n",
       "  'Website': 'http://www.singmovie.com/',\n",
       "  'Writer': 'Garth Jennings',\n",
       "  'Year': '2016',\n",
       "  'imdbID': 'tt3470600',\n",
       "  'imdbRating': '7.1',\n",
       "  'imdbVotes': '92,410'},\n",
       " {'Actors': \"Auli'i Cravalho, Dwayne Johnson, Rachel House, Temuera Morrison\",\n",
       "  'Awards': 'Nominated for 2 Oscars. Another 18 wins & 82 nominations.',\n",
       "  'BoxOffice': '$248,752,120',\n",
       "  'Country': 'USA',\n",
       "  'DVD': '07 Mar 2017',\n",
       "  'Director': 'Ron Clements, John Musker, Don Hall(co-director), Chris Williams(co-director)',\n",
       "  'Genre': 'Animation, Adventure, Comedy',\n",
       "  'Language': 'English',\n",
       "  'Metascore': '81',\n",
       "  'Plot': \"In Ancient Polynesia, when a terrible curse incurred by the Demigod Maui reaches Moana's island, she answers the Ocean's call to seek out the Demigod to set things right.\",\n",
       "  'Poster': 'https://images-na.ssl-images-amazon.com/images/M/MV5BMjI4MzU5NTExNF5BMl5BanBnXkFtZTgwNzY1MTEwMDI@._V1_SX300.jpg',\n",
       "  'Production': 'Walt Disney Pictures',\n",
       "  'Rated': 'PG',\n",
       "  'Ratings': [{'Source': 'Internet Movie Database', 'Value': '7.6/10'},\n",
       "   {'Source': 'Rotten Tomatoes', 'Value': '96%'},\n",
       "   {'Source': 'Metacritic', 'Value': '81/100'}],\n",
       "  'Released': '23 Nov 2016',\n",
       "  'Response': 'True',\n",
       "  'Runtime': '107 min',\n",
       "  'Title': 'Moana',\n",
       "  'Type': 'movie',\n",
       "  'Website': 'http://movies.disney.com/moana',\n",
       "  'Writer': 'Jared Bush (screenplay by), Ron Clements (story by), John Musker (story by), Chris Williams (story by), Don Hall (story by), Pamela Ribon (story by), Aaron Kandell (story by), Jordan Kandell (story by)',\n",
       "  'Year': '2016',\n",
       "  'imdbID': 'tt3521164',\n",
       "  'imdbRating': '7.6',\n",
       "  'imdbVotes': '176,671'}]"
      ]
     },
     "execution_count": 2,
     "metadata": {},
     "output_type": "execute_result"
    }
   ],
   "source": [
    "responses"
   ]
  },
  {
   "cell_type": "code",
   "execution_count": null,
   "metadata": {
    "collapsed": true
   },
   "outputs": [],
   "source": []
  }
 ],
 "metadata": {
  "kernelspec": {
   "display_name": "Python 3",
   "language": "python",
   "name": "python3"
  },
  "language_info": {
   "codemirror_mode": {
    "name": "ipython",
    "version": 3
   },
   "file_extension": ".py",
   "mimetype": "text/x-python",
   "name": "python",
   "nbconvert_exporter": "python",
   "pygments_lexer": "ipython3",
   "version": "3.7.3"
  },
  "varInspector": {
   "cols": {
    "lenName": 16,
    "lenType": 16,
    "lenVar": 40
   },
   "kernels_config": {
    "python": {
     "delete_cmd_postfix": "",
     "delete_cmd_prefix": "del ",
     "library": "var_list.py",
     "varRefreshCmd": "print(var_dic_list())"
    },
    "r": {
     "delete_cmd_postfix": ") ",
     "delete_cmd_prefix": "rm(",
     "library": "var_list.r",
     "varRefreshCmd": "cat(var_dic_list()) "
    }
   },
   "types_to_exclude": [
    "module",
    "function",
    "builtin_function_or_method",
    "instance",
    "_Feature"
   ],
   "window_display": false
  }
 },
 "nbformat": 4,
 "nbformat_minor": 2
}
