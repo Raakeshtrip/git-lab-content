{
 "cells": [
  {
   "cell_type": "code",
   "execution_count": 1,
   "metadata": {},
   "outputs": [
    {
     "name": "stdout",
     "output_type": "stream",
     "text": [
      "Woops. Can't do that.\n",
      "Oh, I forgot to define 'name'. D'oh.\n",
      "Drat. 'Gabriel' isn't a number?\n",
      "I made it through the gauntlet. The message survived!\n"
     ]
    }
   ],
   "source": [
    "# Your assignment is to get the last line to print without changing any\n",
    "# of the code below. Instead, wrap each line that throws an error in a\n",
    "# try/exept block.\n",
    "\n",
    "try:\n",
    "    print(\"Infinity looks like + \" + str(10 / 0) + \".\")\n",
    "except ZeroDivisionError:\n",
    "    print(\"Woops. Can't do that.\")\n",
    "\n",
    "try:\n",
    "    print(\"I think her name was + \" + name + \"?\")\n",
    "except NameError:\n",
    "    print(\"Oh, I forgot to define 'name'. D'oh.\")\n",
    "\n",
    "try:\n",
    "    print(\"Your name is a nonsense number. Look: \" + int(\"Gabriel\"))\n",
    "except ValueError:\n",
    "    print(\"Drat. 'Gabriel' isn't a number?\")\n",
    "\n",
    "print(\"I made it through the gauntlet. The message survived!\")"
   ]
  }
 ],
 "metadata": {
  "kernelspec": {
   "display_name": "Python [conda env:PythonData]",
   "language": "python",
   "name": "conda-env-PythonData-py"
  },
  "language_info": {
   "codemirror_mode": {
    "name": "ipython",
    "version": 3
   },
   "file_extension": ".py",
   "mimetype": "text/x-python",
   "name": "python",
   "nbconvert_exporter": "python",
   "pygments_lexer": "ipython3",
   "version": "3.6.1"
  }
 },
 "nbformat": 4,
 "nbformat_minor": 2
}
