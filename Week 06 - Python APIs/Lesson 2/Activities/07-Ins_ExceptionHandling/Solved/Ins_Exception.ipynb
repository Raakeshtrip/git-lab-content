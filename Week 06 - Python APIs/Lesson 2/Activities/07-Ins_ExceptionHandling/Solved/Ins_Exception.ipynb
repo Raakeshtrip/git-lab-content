{
 "cells": [
  {
   "cell_type": "code",
   "execution_count": 2,
   "metadata": {},
   "outputs": [
    {
     "name": "stdout",
     "output_type": "stream",
     "text": [
      "Ooops, this key doesnt exist.\n"
     ]
    }
   ],
   "source": [
    "students = {\n",
    "    # Name  : Age\n",
    "    \"James\": 27,\n",
    "    \"Sarah\": 19,\n",
    "    \"Jocelyn\": 28\n",
    "}\n",
    "\n",
    "try:\n",
    "    print(students[\"Jezebel\"])\n",
    "except KeyError:\n",
    "    print(\"Ooops, this key doesnt exist.\")\n",
    "\n",
    "# print(\"This line will never print.\")"
   ]
  },
  {
   "cell_type": "code",
   "execution_count": 10,
   "metadata": {},
   "outputs": [
    {
     "name": "stdout",
     "output_type": "stream",
     "text": [
      "Oh no, can't divide today\n",
      "Got the following error unsupported operand type(s) for /: 'int' and 'list'\n"
     ]
    }
   ],
   "source": [
    "numerator = 3\n",
    "denomiator = [\"cat\"]\n",
    "\n",
    "try: \n",
    "    print(numerator/denomiator)\n",
    "except ZeroDivisionError:\n",
    "    print(\"No dummy, can't divide by 0\")\n",
    "except Exception as e:\n",
    "    print(\"Oh no, can't divide today\")\n",
    "    print(f\"Got the following error {e}\")"
   ]
  },
  {
   "cell_type": "code",
   "execution_count": null,
   "metadata": {},
   "outputs": [],
   "source": []
  }
 ],
 "metadata": {
  "kernelspec": {
   "display_name": "Python 3",
   "language": "python",
   "name": "python3"
  },
  "language_info": {
   "codemirror_mode": {
    "name": "ipython",
    "version": 3
   },
   "file_extension": ".py",
   "mimetype": "text/x-python",
   "name": "python",
   "nbconvert_exporter": "python",
   "pygments_lexer": "ipython3",
   "version": "3.7.3"
  }
 },
 "nbformat": 4,
 "nbformat_minor": 2
}
