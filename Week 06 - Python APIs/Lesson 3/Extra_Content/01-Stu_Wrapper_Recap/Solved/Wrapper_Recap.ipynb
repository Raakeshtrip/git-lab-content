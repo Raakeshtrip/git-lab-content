{
 "cells": [
  {
   "cell_type": "code",
   "execution_count": 1,
   "metadata": {
    "collapsed": true
   },
   "outputs": [],
   "source": [
    "# Dependencies\n",
    "import openweathermapy.core as owm\n",
    "\n",
    "#import api_key\n",
    "from config import api_key"
   ]
  },
  {
   "cell_type": "code",
   "execution_count": 2,
   "metadata": {
    "collapsed": true
   },
   "outputs": [],
   "source": [
    "# Create settings parameters\n",
    "settings = {\"units\": \"imperial\", \"APPID\": api_key}"
   ]
  },
  {
   "cell_type": "code",
   "execution_count": 3,
   "metadata": {},
   "outputs": [
    {
     "name": "stdout",
     "output_type": "stream",
     "text": [
      "2018-02-22 15:00:00 | 34.74 F\n",
      "2018-02-22 18:00:00 | 52.09 F\n",
      "2018-02-22 21:00:00 | 57.15 F\n",
      "2018-02-23 00:00:00 | 55.45 F\n",
      "2018-02-23 03:00:00 | 43.78 F\n",
      "2018-02-23 06:00:00 | 35.78 F\n",
      "2018-02-23 09:00:00 | 34.6 F\n",
      "2018-02-23 12:00:00 | 38.17 F\n",
      "2018-02-23 15:00:00 | 40.13 F\n",
      "2018-02-23 18:00:00 | 51.34 F\n",
      "2018-02-23 21:00:00 | 53.56 F\n",
      "2018-02-24 00:00:00 | 48.99 F\n",
      "2018-02-24 03:00:00 | 44.44 F\n",
      "2018-02-24 06:00:00 | 37.89 F\n",
      "2018-02-24 09:00:00 | 31.94 F\n",
      "2018-02-24 12:00:00 | 26.97 F\n",
      "2018-02-24 15:00:00 | 26.64 F\n",
      "2018-02-24 18:00:00 | 44.71 F\n",
      "2018-02-24 21:00:00 | 51.47 F\n",
      "2018-02-25 00:00:00 | 51.59 F\n",
      "2018-02-25 03:00:00 | 38.84 F\n",
      "2018-02-25 06:00:00 | 31.67 F\n",
      "2018-02-25 09:00:00 | 28.44 F\n",
      "2018-02-25 12:00:00 | 27.39 F\n",
      "2018-02-25 15:00:00 | 29.36 F\n",
      "2018-02-25 18:00:00 | 49.6 F\n",
      "2018-02-25 21:00:00 | 55.45 F\n",
      "2018-02-26 00:00:00 | 55.94 F\n",
      "2018-02-26 03:00:00 | 41.2 F\n",
      "2018-02-26 06:00:00 | 34.63 F\n",
      "2018-02-26 09:00:00 | 32.11 F\n",
      "2018-02-26 12:00:00 | 30.27 F\n",
      "2018-02-26 15:00:00 | 29.65 F\n",
      "2018-02-26 18:00:00 | 49.02 F\n",
      "2018-02-26 21:00:00 | 57.9 F\n",
      "2018-02-27 00:00:00 | 57.79 F\n",
      "2018-02-27 03:00:00 | 43.7 F\n",
      "2018-02-27 06:00:00 | 38.9 F\n",
      "2018-02-27 09:00:00 | 37.11 F\n",
      "2018-02-27 12:00:00 | 32.88 F\n"
     ]
    }
   ],
   "source": [
    "# make the API call using owm's get_fourcast_hourly method\n",
    "forecast = owm.get_forecast_hourly(\"Phoenix, US\", **settings)\n",
    "\n",
    "# extract the date in text format and the temperature from each record\n",
    "# and save them in a list\n",
    "summary = [\"dt_txt\", \"main.temp\"]\n",
    "data = [hourly_forecast(*summary) for hourly_forecast in forecast]\n",
    "\n",
    "# format the printing of each record\n",
    "for hourly_forecast in data:\n",
    "    print(f\"{hourly_forecast[0]} | {hourly_forecast[1]} F\")"
   ]
  },
  {
   "cell_type": "code",
   "execution_count": 4,
   "metadata": {},
   "outputs": [
    {
     "name": "stdout",
     "output_type": "stream",
     "text": [
      "2018-02-22 15:00:00 | 34.74 F\n",
      "2018-02-22 18:00:00 | 52.09 F\n",
      "2018-02-22 21:00:00 | 57.15 F\n",
      "2018-02-23 00:00:00 | 55.45 F\n",
      "2018-02-23 03:00:00 | 43.78 F\n",
      "2018-02-23 06:00:00 | 35.78 F\n",
      "2018-02-23 09:00:00 | 34.6 F\n",
      "2018-02-23 12:00:00 | 38.17 F\n",
      "2018-02-23 15:00:00 | 40.13 F\n",
      "2018-02-23 18:00:00 | 51.34 F\n",
      "2018-02-23 21:00:00 | 53.56 F\n",
      "2018-02-24 00:00:00 | 48.99 F\n",
      "2018-02-24 03:00:00 | 44.44 F\n",
      "2018-02-24 06:00:00 | 37.89 F\n",
      "2018-02-24 09:00:00 | 31.94 F\n",
      "2018-02-24 12:00:00 | 26.97 F\n",
      "2018-02-24 15:00:00 | 26.64 F\n",
      "2018-02-24 18:00:00 | 44.71 F\n",
      "2018-02-24 21:00:00 | 51.47 F\n",
      "2018-02-25 00:00:00 | 51.59 F\n",
      "2018-02-25 03:00:00 | 38.84 F\n",
      "2018-02-25 06:00:00 | 31.67 F\n",
      "2018-02-25 09:00:00 | 28.44 F\n",
      "2018-02-25 12:00:00 | 27.39 F\n",
      "2018-02-25 15:00:00 | 29.36 F\n",
      "2018-02-25 18:00:00 | 49.6 F\n",
      "2018-02-25 21:00:00 | 55.45 F\n",
      "2018-02-26 00:00:00 | 55.94 F\n",
      "2018-02-26 03:00:00 | 41.2 F\n",
      "2018-02-26 06:00:00 | 34.63 F\n",
      "2018-02-26 09:00:00 | 32.11 F\n",
      "2018-02-26 12:00:00 | 30.27 F\n",
      "2018-02-26 15:00:00 | 29.65 F\n",
      "2018-02-26 18:00:00 | 49.02 F\n",
      "2018-02-26 21:00:00 | 57.9 F\n",
      "2018-02-27 00:00:00 | 57.79 F\n",
      "2018-02-27 03:00:00 | 43.7 F\n",
      "2018-02-27 06:00:00 | 38.9 F\n",
      "2018-02-27 09:00:00 | 37.11 F\n",
      "2018-02-27 12:00:00 | 32.88 F\n"
     ]
    }
   ],
   "source": [
    "# BONUS 1\n",
    "# use owm's select method to select the desired data from\n",
    "# each record in the response\n",
    "\n",
    "selection = [\"dt_txt\", \"main.temp\"]\n",
    "data = forecast.select(selection)\n",
    "\n",
    "# print formatted results\n",
    "for hourly_forecast in data:\n",
    "    print(f\"{hourly_forecast[0]} | {hourly_forecast[1]} F\")"
   ]
  },
  {
   "cell_type": "code",
   "execution_count": 5,
   "metadata": {},
   "outputs": [
    {
     "data": {
      "image/png": "[encoded data removed]",
      "text/plain": [
       "<matplotlib.figure.Figure at 0x10e6279e8>"
      ]
     },
     "metadata": {},
     "output_type": "display_data"
    }
   ],
   "source": [
    "# BONUS 2\n",
    "import datetime\n",
    "import matplotlib.pyplot as plt\n",
    "from matplotlib.dates import DateFormatter\n",
    "\n",
    "# List for holding temperatures\n",
    "temps = []\n",
    "times = []\n",
    "\n",
    "# Display the weather with dates\n",
    "for record in data:\n",
    "    temps.append(record[1])\n",
    "    weather_date = datetime.datetime.strptime(\n",
    "        record[0], \"%Y-%m-%d %H:%M:%S\")\n",
    "    times.append(weather_date)\n",
    "\n",
    "\n",
    "# Plot the temperatures over time\n",
    "plt.plot(times, temps)\n",
    "formatter = DateFormatter('%Y-%m-%d %H:%M:%S')\n",
    "plt.gcf().axes[0].xaxis.set_major_formatter(formatter)\n",
    "plt.gcf().autofmt_xdate()\n",
    "plt.show()"
   ]
  }
 ],
 "metadata": {
  "kernelspec": {
   "display_name": "Python [conda env:PythonData]",
   "language": "python",
   "name": "conda-env-PythonData-py"
  },
  "language_info": {
   "codemirror_mode": {
    "name": "ipython",
    "version": 3
   },
   "file_extension": ".py",
   "mimetype": "text/x-python",
   "name": "python",
   "nbconvert_exporter": "python",
   "pygments_lexer": "ipython3",
   "version": "3.6.1"
  }
 },
 "nbformat": 4,
 "nbformat_minor": 2
}
