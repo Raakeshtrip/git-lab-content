{
 "cells": [
  {
   "cell_type": "code",
   "execution_count": 1,
   "metadata": {
    "collapsed": true
   },
   "outputs": [],
   "source": [
    "# Dependencies\n",
    "import numpy as np\n",
    "import pandas as pd\n",
    "import matplotlib.pyplot as plt\n",
    "import requests\n",
    "from census import Census\n",
    "\n",
    "# Census API Key\n",
    "from config import api_key\n",
    "c = Census(api_key, year=2013)"
   ]
  },
  {
   "cell_type": "code",
   "execution_count": 2,
   "metadata": {},
   "outputs": [
    {
     "name": "stdout",
     "output_type": "stream",
     "text": [
      "33120\n"
     ]
    },
    {
     "data": {
      "text/html": [
       "<div>\n",
       "<style>\n",
       "    .dataframe thead tr:only-child th {\n",
       "        text-align: right;\n",
       "    }\n",
       "\n",
       "    .dataframe thead th {\n",
       "        text-align: left;\n",
       "    }\n",
       "\n",
       "    .dataframe tbody tr th {\n",
       "        vertical-align: top;\n",
       "    }\n",
       "</style>\n",
       "<table border=\"1\" class=\"dataframe\">\n",
       "  <thead>\n",
       "    <tr style=\"text-align: right;\">\n",
       "      <th></th>\n",
       "      <th>Zipcode</th>\n",
       "      <th>Population</th>\n",
       "      <th>Median Age</th>\n",
       "      <th>Household Income</th>\n",
       "      <th>Per Capita Income</th>\n",
       "      <th>Poverty Count</th>\n",
       "      <th>Poverty Rate</th>\n",
       "    </tr>\n",
       "  </thead>\n",
       "  <tbody>\n",
       "    <tr>\n",
       "      <th>0</th>\n",
       "      <td>00601</td>\n",
       "      <td>18450.0</td>\n",
       "      <td>36.6</td>\n",
       "      <td>12041.0</td>\n",
       "      <td>7380.0</td>\n",
       "      <td>10816.0</td>\n",
       "      <td>58.623306</td>\n",
       "    </tr>\n",
       "    <tr>\n",
       "      <th>1</th>\n",
       "      <td>00602</td>\n",
       "      <td>41302.0</td>\n",
       "      <td>38.6</td>\n",
       "      <td>15663.0</td>\n",
       "      <td>8463.0</td>\n",
       "      <td>22409.0</td>\n",
       "      <td>54.256452</td>\n",
       "    </tr>\n",
       "    <tr>\n",
       "      <th>2</th>\n",
       "      <td>00603</td>\n",
       "      <td>53683.0</td>\n",
       "      <td>38.9</td>\n",
       "      <td>15485.0</td>\n",
       "      <td>9176.0</td>\n",
       "      <td>26220.0</td>\n",
       "      <td>48.842278</td>\n",
       "    </tr>\n",
       "    <tr>\n",
       "      <th>3</th>\n",
       "      <td>00606</td>\n",
       "      <td>6591.0</td>\n",
       "      <td>37.3</td>\n",
       "      <td>15019.0</td>\n",
       "      <td>6383.0</td>\n",
       "      <td>3721.0</td>\n",
       "      <td>56.455773</td>\n",
       "    </tr>\n",
       "    <tr>\n",
       "      <th>4</th>\n",
       "      <td>00610</td>\n",
       "      <td>28963.0</td>\n",
       "      <td>39.2</td>\n",
       "      <td>16707.0</td>\n",
       "      <td>7892.0</td>\n",
       "      <td>14569.0</td>\n",
       "      <td>50.302110</td>\n",
       "    </tr>\n",
       "  </tbody>\n",
       "</table>\n",
       "</div>"
      ],
      "text/plain": [
       "  Zipcode  Population  Median Age  Household Income  Per Capita Income  \\\n",
       "0   00601     18450.0        36.6           12041.0             7380.0   \n",
       "1   00602     41302.0        38.6           15663.0             8463.0   \n",
       "2   00603     53683.0        38.9           15485.0             9176.0   \n",
       "3   00606      6591.0        37.3           15019.0             6383.0   \n",
       "4   00610     28963.0        39.2           16707.0             7892.0   \n",
       "\n",
       "   Poverty Count  Poverty Rate  \n",
       "0        10816.0     58.623306  \n",
       "1        22409.0     54.256452  \n",
       "2        26220.0     48.842278  \n",
       "3         3721.0     56.455773  \n",
       "4        14569.0     50.302110  "
      ]
     },
     "execution_count": 2,
     "metadata": {},
     "output_type": "execute_result"
    }
   ],
   "source": [
    "# Run Census Search to retrieve data on all zip codes (2013 ACS5 Census)\n",
    "# See: https://github.com/CommerceDataService/census-wrapper for library documentation\n",
    "# See: https://gist.github.com/afhaque/60558290d6efd892351c4b64e5c01e9b for labels"
   ]
  },
  {
   "cell_type": "code",
   "execution_count": 3,
   "metadata": {
    "collapsed": true
   },
   "outputs": [],
   "source": []
  }
 ],
 "metadata": {
  "anaconda-cloud": {},
  "kernelspec": {
   "display_name": "Python [conda env:PythonData]",
   "language": "python",
   "name": "conda-env-PythonData-py"
  },
  "language_info": {
   "codemirror_mode": {
    "name": "ipython",
    "version": 3
   },
   "file_extension": ".py",
   "mimetype": "text/x-python",
   "name": "python",
   "nbconvert_exporter": "python",
   "pygments_lexer": "ipython3",
   "version": "3.6.1"
  }
 },
 "nbformat": 4,
 "nbformat_minor": 1
}
