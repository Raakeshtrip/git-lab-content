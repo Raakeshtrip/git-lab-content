{
 "cells": [
  {
   "cell_type": "code",
   "execution_count": 1,
   "metadata": {},
   "outputs": [],
   "source": [
    "# Set the seed value for the notebook so the results are reproducible\n",
    "from numpy.random import seed\n",
    "seed(1)"
   ]
  },
  {
   "cell_type": "code",
   "execution_count": 2,
   "metadata": {},
   "outputs": [],
   "source": [
    "%matplotlib inline\n",
    "import matplotlib.pyplot as plt\n",
    "import numpy as np\n",
    "import sklearn\n",
    "import sklearn.datasets"
   ]
  },
  {
   "cell_type": "code",
   "execution_count": 3,
   "metadata": {},
   "outputs": [],
   "source": [
    "# Create Data\n",
    "X, y = sklearn.datasets.make_circles(noise=0.05, factor=.2, random_state=1)"
   ]
  },
  {
   "cell_type": "code",
   "execution_count": 4,
   "metadata": {},
   "outputs": [
    {
     "data": {
      "text/plain": [
       "<matplotlib.collections.PathCollection at 0x1a1a3fc390>"
      ]
     },
     "execution_count": 4,
     "metadata": {},
     "output_type": "execute_result"
    },
    {
     "data": {
      "image/png": "[encoded data removed]",
      "text/plain": [
       "<Figure size 432x288 with 1 Axes>"
      ]
     },
     "metadata": {},
     "output_type": "display_data"
    }
   ],
   "source": [
    "# Visualize Data\n",
    "plt.scatter(X[:, 0], X[:, 1], c=y)"
   ]
  },
  {
   "cell_type": "code",
   "execution_count": 5,
   "metadata": {
    "nbgrader": {
     "grade": false,
     "grade_id": "cell-25fb99ba413a3271",
     "locked": false,
     "schema_version": 1,
     "solution": true
    }
   },
   "outputs": [],
   "source": [
    "# Use train_test_split to create training and testing data\n",
    "from sklearn.model_selection import train_test_split\n",
    "\n",
    "X_train, X_test, y_train, y_test = train_test_split(X, y, random_state=1)"
   ]
  },
  {
   "cell_type": "code",
   "execution_count": 6,
   "metadata": {
    "nbgrader": {
     "grade": false,
     "grade_id": "cell-7e1de5d9b7942f68",
     "locked": false,
     "schema_version": 1,
     "solution": true
    }
   },
   "outputs": [],
   "source": [
    "from sklearn.preprocessing import StandardScaler\n",
    "\n",
    "# Create a StandardScater model and fit it to the training data\n",
    "X_scaler = StandardScaler().fit(X_train)"
   ]
  },
  {
   "cell_type": "code",
   "execution_count": 7,
   "metadata": {
    "nbgrader": {
     "grade": false,
     "grade_id": "cell-9532e12246e485d5",
     "locked": false,
     "schema_version": 1,
     "solution": true
    }
   },
   "outputs": [],
   "source": [
    "# Transform the training and testing data using the X_scaler\n",
    "\n",
    "X_train_scaled = X_scaler.transform(X_train)\n",
    "X_test_scaled = X_scaler.transform(X_test)"
   ]
  },
  {
   "cell_type": "code",
   "execution_count": null,
   "metadata": {},
   "outputs": [],
   "source": [
    "from tensorflow.keras.utils import to_categorical"
   ]
  },
  {
   "cell_type": "code",
   "execution_count": 9,
   "metadata": {},
   "outputs": [],
   "source": [
    "# One-hot encoding\n",
    "y_train_categorical = to_categorical(y_train)\n",
    "y_test_categorical = to_categorical(y_test)"
   ]
  },
  {
   "cell_type": "code",
   "execution_count": 10,
   "metadata": {
    "nbgrader": {
     "grade": false,
     "grade_id": "cell-ec399a95e133cb58",
     "locked": false,
     "schema_version": 1,
     "solution": true
    }
   },
   "outputs": [],
   "source": [
    "# first, create a normal neural network with 2 inputs, 6 hidden nodes, and 2 outputs\n",
    "from tensorflow.keras.models import Sequential\n",
    "from tensorflow.keras.layers import Dense\n",
    "\n",
    "model = Sequential()\n",
    "model.add(Dense(units=6, activation='relu', input_dim=2))\n",
    "model.add(Dense(units=2, activation='softmax'))"
   ]
  },
  {
   "cell_type": "code",
   "execution_count": 11,
   "metadata": {},
   "outputs": [
    {
     "name": "stdout",
     "output_type": "stream",
     "text": [
      "_________________________________________________________________\n",
      "Layer (type)                 Output Shape              Param #   \n",
      "=================================================================\n",
      "dense (Dense)                (None, 6)                 18        \n",
      "_________________________________________________________________\n",
      "dense_1 (Dense)              (None, 2)                 14        \n",
      "=================================================================\n",
      "Total params: 32\n",
      "Trainable params: 32\n",
      "Non-trainable params: 0\n",
      "_________________________________________________________________\n"
     ]
    }
   ],
   "source": [
    "model.summary()"
   ]
  },
  {
   "cell_type": "code",
   "execution_count": 12,
   "metadata": {},
   "outputs": [],
   "source": [
    "# Compile the model\n",
    "model.compile(optimizer='adam',\n",
    "              loss='categorical_crossentropy',\n",
    "              metrics=['accuracy'])"
   ]
  },
  {
   "cell_type": "code",
   "execution_count": 13,
   "metadata": {
    "nbgrader": {
     "grade": false,
     "grade_id": "cell-5cf2fbdbea0ed50b",
     "locked": false,
     "schema_version": 1,
     "solution": true
    }
   },
   "outputs": [
    {
     "name": "stdout",
     "output_type": "stream",
     "text": [
      "Epoch 1/100\n",
      " - 1s - loss: 0.7352 - acc: 0.5067\n",
      "Epoch 2/100\n",
      " - 0s - loss: 0.7294 - acc: 0.5067\n",
      "Epoch 3/100\n",
      " - 0s - loss: 0.7242 - acc: 0.5200\n",
      "Epoch 4/100\n",
      " - 0s - loss: 0.7194 - acc: 0.5200\n",
      "Epoch 5/100\n",
      " - 0s - loss: 0.7148 - acc: 0.5200\n",
      "Epoch 6/100\n",
      " - 0s - loss: 0.7100 - acc: 0.5200\n",
      "Epoch 7/100\n",
      " - 0s - loss: 0.7060 - acc: 0.4933\n",
      "Epoch 8/100\n",
      " - 0s - loss: 0.7015 - acc: 0.4933\n",
      "Epoch 9/100\n",
      " - 0s - loss: 0.6973 - acc: 0.4933\n",
      "Epoch 10/100\n",
      " - 0s - loss: 0.6932 - acc: 0.4933\n",
      "Epoch 11/100\n",
      " - 0s - loss: 0.6896 - acc: 0.4933\n",
      "Epoch 12/100\n",
      " - 0s - loss: 0.6855 - acc: 0.4933\n",
      "Epoch 13/100\n",
      " - 0s - loss: 0.6818 - acc: 0.4800\n",
      "Epoch 14/100\n",
      " - 0s - loss: 0.6779 - acc: 0.4800\n",
      "Epoch 15/100\n",
      " - 0s - loss: 0.6744 - acc: 0.4933\n",
      "Epoch 16/100\n",
      " - 0s - loss: 0.6708 - acc: 0.4933\n",
      "Epoch 17/100\n",
      " - 0s - loss: 0.6674 - acc: 0.4933\n",
      "Epoch 18/100\n",
      " - 0s - loss: 0.6639 - acc: 0.5067\n",
      "Epoch 19/100\n",
      " - 0s - loss: 0.6604 - acc: 0.5067\n",
      "Epoch 20/100\n",
      " - 0s - loss: 0.6572 - acc: 0.5067\n",
      "Epoch 21/100\n",
      " - 0s - loss: 0.6539 - acc: 0.5067\n",
      "Epoch 22/100\n",
      " - 0s - loss: 0.6505 - acc: 0.5067\n",
      "Epoch 23/100\n",
      " - 0s - loss: 0.6475 - acc: 0.5067\n",
      "Epoch 24/100\n",
      " - 0s - loss: 0.6443 - acc: 0.5200\n",
      "Epoch 25/100\n",
      " - 0s - loss: 0.6414 - acc: 0.5200\n",
      "Epoch 26/100\n",
      " - 0s - loss: 0.6383 - acc: 0.5200\n",
      "Epoch 27/100\n",
      " - 0s - loss: 0.6355 - acc: 0.5333\n",
      "Epoch 28/100\n",
      " - 0s - loss: 0.6327 - acc: 0.5467\n",
      "Epoch 29/100\n",
      " - 0s - loss: 0.6297 - acc: 0.5467\n",
      "Epoch 30/100\n",
      " - 0s - loss: 0.6268 - acc: 0.5467\n",
      "Epoch 31/100\n",
      " - 0s - loss: 0.6241 - acc: 0.5600\n",
      "Epoch 32/100\n",
      " - 0s - loss: 0.6211 - acc: 0.5600\n",
      "Epoch 33/100\n",
      " - 0s - loss: 0.6186 - acc: 0.5600\n",
      "Epoch 34/100\n",
      " - 0s - loss: 0.6157 - acc: 0.5600\n",
      "Epoch 35/100\n",
      " - 0s - loss: 0.6130 - acc: 0.5600\n",
      "Epoch 36/100\n",
      " - 0s - loss: 0.6105 - acc: 0.5867\n",
      "Epoch 37/100\n",
      " - 0s - loss: 0.6079 - acc: 0.5867\n",
      "Epoch 38/100\n",
      " - 0s - loss: 0.6052 - acc: 0.5867\n",
      "Epoch 39/100\n",
      " - 0s - loss: 0.6027 - acc: 0.5867\n",
      "Epoch 40/100\n",
      " - 0s - loss: 0.6002 - acc: 0.6000\n",
      "Epoch 41/100\n",
      " - 0s - loss: 0.5976 - acc: 0.6000\n",
      "Epoch 42/100\n",
      " - 0s - loss: 0.5951 - acc: 0.6267\n",
      "Epoch 43/100\n",
      " - 0s - loss: 0.5927 - acc: 0.6267\n",
      "Epoch 44/100\n",
      " - 0s - loss: 0.5903 - acc: 0.6267\n",
      "Epoch 45/100\n",
      " - 0s - loss: 0.5878 - acc: 0.6267\n",
      "Epoch 46/100\n",
      " - 0s - loss: 0.5854 - acc: 0.6267\n",
      "Epoch 47/100\n",
      " - 0s - loss: 0.5831 - acc: 0.6400\n",
      "Epoch 48/100\n",
      " - 0s - loss: 0.5808 - acc: 0.6400\n",
      "Epoch 49/100\n",
      " - 0s - loss: 0.5786 - acc: 0.6400\n",
      "Epoch 50/100\n",
      " - 0s - loss: 0.5762 - acc: 0.6533\n",
      "Epoch 51/100\n",
      " - 0s - loss: 0.5741 - acc: 0.6800\n",
      "Epoch 52/100\n",
      " - 0s - loss: 0.5718 - acc: 0.6800\n",
      "Epoch 53/100\n",
      " - 0s - loss: 0.5696 - acc: 0.6933\n",
      "Epoch 54/100\n",
      " - 0s - loss: 0.5674 - acc: 0.6933\n",
      "Epoch 55/100\n",
      " - 0s - loss: 0.5653 - acc: 0.6933\n",
      "Epoch 56/100\n",
      " - 0s - loss: 0.5631 - acc: 0.6933\n",
      "Epoch 57/100\n",
      " - 0s - loss: 0.5610 - acc: 0.7067\n",
      "Epoch 58/100\n",
      " - 0s - loss: 0.5588 - acc: 0.7067\n",
      "Epoch 59/100\n",
      " - 0s - loss: 0.5566 - acc: 0.7067\n",
      "Epoch 60/100\n",
      " - 0s - loss: 0.5545 - acc: 0.7067\n",
      "Epoch 61/100\n",
      " - 0s - loss: 0.5524 - acc: 0.7067\n",
      "Epoch 62/100\n",
      " - 0s - loss: 0.5503 - acc: 0.7067\n",
      "Epoch 63/100\n",
      " - 0s - loss: 0.5480 - acc: 0.7067\n",
      "Epoch 64/100\n",
      " - 0s - loss: 0.5459 - acc: 0.7067\n",
      "Epoch 65/100\n",
      " - 0s - loss: 0.5439 - acc: 0.7067\n",
      "Epoch 66/100\n",
      " - 0s - loss: 0.5416 - acc: 0.7067\n",
      "Epoch 67/100\n",
      " - 0s - loss: 0.5396 - acc: 0.7067\n",
      "Epoch 68/100\n",
      " - 0s - loss: 0.5375 - acc: 0.7067\n",
      "Epoch 69/100\n",
      " - 0s - loss: 0.5355 - acc: 0.7200\n",
      "Epoch 70/100\n",
      " - 0s - loss: 0.5335 - acc: 0.7467\n",
      "Epoch 71/100\n",
      " - 0s - loss: 0.5314 - acc: 0.7467\n",
      "Epoch 72/100\n",
      " - 0s - loss: 0.5294 - acc: 0.7467\n",
      "Epoch 73/100\n",
      " - 0s - loss: 0.5275 - acc: 0.7467\n",
      "Epoch 74/100\n",
      " - 0s - loss: 0.5255 - acc: 0.7467\n",
      "Epoch 75/100\n",
      " - 0s - loss: 0.5236 - acc: 0.7600\n",
      "Epoch 76/100\n",
      " - 0s - loss: 0.5216 - acc: 0.7733\n",
      "Epoch 77/100\n",
      " - 0s - loss: 0.5196 - acc: 0.7867\n",
      "Epoch 78/100\n",
      " - 0s - loss: 0.5177 - acc: 0.7867\n",
      "Epoch 79/100\n",
      " - 0s - loss: 0.5157 - acc: 0.7867\n",
      "Epoch 80/100\n",
      " - 0s - loss: 0.5138 - acc: 0.7867\n",
      "Epoch 81/100\n",
      " - 0s - loss: 0.5118 - acc: 0.8000\n",
      "Epoch 82/100\n",
      " - 0s - loss: 0.5098 - acc: 0.8000\n",
      "Epoch 83/100\n",
      " - 0s - loss: 0.5078 - acc: 0.8000\n",
      "Epoch 84/100\n",
      " - 0s - loss: 0.5058 - acc: 0.8000\n",
      "Epoch 85/100\n",
      " - 0s - loss: 0.5039 - acc: 0.8000\n",
      "Epoch 86/100\n",
      " - 0s - loss: 0.5019 - acc: 0.8133\n",
      "Epoch 87/100\n",
      " - 0s - loss: 0.4998 - acc: 0.8133\n",
      "Epoch 88/100\n",
      " - 0s - loss: 0.4978 - acc: 0.8133\n",
      "Epoch 89/100\n",
      " - 0s - loss: 0.4958 - acc: 0.8133\n",
      "Epoch 90/100\n",
      " - 0s - loss: 0.4938 - acc: 0.8133\n",
      "Epoch 91/100\n",
      " - 0s - loss: 0.4918 - acc: 0.8267\n",
      "Epoch 92/100\n",
      " - 0s - loss: 0.4897 - acc: 0.8267\n",
      "Epoch 93/100\n",
      " - 0s - loss: 0.4878 - acc: 0.8267\n",
      "Epoch 94/100\n",
      " - 0s - loss: 0.4857 - acc: 0.8267\n",
      "Epoch 95/100\n",
      " - 0s - loss: 0.4837 - acc: 0.8267\n",
      "Epoch 96/100\n",
      " - 0s - loss: 0.4817 - acc: 0.8267\n",
      "Epoch 97/100\n",
      " - 0s - loss: 0.4798 - acc: 0.8533\n",
      "Epoch 98/100\n",
      " - 0s - loss: 0.4779 - acc: 0.8533\n",
      "Epoch 99/100\n",
      " - 0s - loss: 0.4758 - acc: 0.8533\n",
      "Epoch 100/100\n",
      " - 0s - loss: 0.4740 - acc: 0.8667\n"
     ]
    },
    {
     "data": {
      "text/plain": [
       "<tensorflow.python.keras.callbacks.History at 0x1a3881e5c0>"
      ]
     },
     "execution_count": 13,
     "metadata": {},
     "output_type": "execute_result"
    }
   ],
   "source": [
    "# Fit the model to the training data\n",
    "model.fit(\n",
    "    X_train_scaled,\n",
    "    y_train_categorical,\n",
    "    epochs=100,\n",
    "    shuffle=True,\n",
    "    verbose=2\n",
    ")"
   ]
  },
  {
   "cell_type": "markdown",
   "metadata": {},
   "source": [
    "# Deep Learning\n",
    "For this network, we simply add an additional hidden layer of 6 nodes"
   ]
  },
  {
   "cell_type": "code",
   "execution_count": 14,
   "metadata": {},
   "outputs": [],
   "source": [
    "deep_model = Sequential()\n",
    "deep_model.add(Dense(units=6, activation='relu', input_dim=2))\n",
    "deep_model.add(Dense(units=6, activation='relu'))\n",
    "deep_model.add(Dense(units=2, activation='softmax'))"
   ]
  },
  {
   "cell_type": "code",
   "execution_count": 15,
   "metadata": {},
   "outputs": [
    {
     "name": "stdout",
     "output_type": "stream",
     "text": [
      "_________________________________________________________________\n",
      "Layer (type)                 Output Shape              Param #   \n",
      "=================================================================\n",
      "dense_2 (Dense)              (None, 6)                 18        \n",
      "_________________________________________________________________\n",
      "dense_3 (Dense)              (None, 6)                 42        \n",
      "_________________________________________________________________\n",
      "dense_4 (Dense)              (None, 2)                 14        \n",
      "=================================================================\n",
      "Total params: 74\n",
      "Trainable params: 74\n",
      "Non-trainable params: 0\n",
      "_________________________________________________________________\n"
     ]
    }
   ],
   "source": [
    "deep_model.summary()"
   ]
  },
  {
   "cell_type": "code",
   "execution_count": 16,
   "metadata": {},
   "outputs": [
    {
     "name": "stdout",
     "output_type": "stream",
     "text": [
      "Epoch 1/100\n",
      " - 1s - loss: 0.7233 - acc: 0.4533\n",
      "Epoch 2/100\n",
      " - 0s - loss: 0.7177 - acc: 0.4667\n",
      "Epoch 3/100\n",
      " - 0s - loss: 0.7121 - acc: 0.4400\n",
      "Epoch 4/100\n",
      " - 0s - loss: 0.7073 - acc: 0.3733\n",
      "Epoch 5/100\n",
      " - 0s - loss: 0.7019 - acc: 0.4000\n",
      "Epoch 6/100\n",
      " - 0s - loss: 0.6968 - acc: 0.4133\n",
      "Epoch 7/100\n",
      " - 0s - loss: 0.6921 - acc: 0.4000\n",
      "Epoch 8/100\n",
      " - 0s - loss: 0.6878 - acc: 0.3867\n",
      "Epoch 9/100\n",
      " - 0s - loss: 0.6835 - acc: 0.3867\n",
      "Epoch 10/100\n",
      " - 0s - loss: 0.6794 - acc: 0.4000\n",
      "Epoch 11/100\n",
      " - 0s - loss: 0.6753 - acc: 0.4000\n",
      "Epoch 12/100\n",
      " - 0s - loss: 0.6716 - acc: 0.3867\n",
      "Epoch 13/100\n",
      " - 0s - loss: 0.6677 - acc: 0.3733\n",
      "Epoch 14/100\n",
      " - 0s - loss: 0.6637 - acc: 0.4000\n",
      "Epoch 15/100\n",
      " - 0s - loss: 0.6596 - acc: 0.4000\n",
      "Epoch 16/100\n",
      " - 0s - loss: 0.6562 - acc: 0.4267\n",
      "Epoch 17/100\n",
      " - 0s - loss: 0.6527 - acc: 0.4533\n",
      "Epoch 18/100\n",
      " - 0s - loss: 0.6491 - acc: 0.4533\n",
      "Epoch 19/100\n",
      " - 0s - loss: 0.6457 - acc: 0.4533\n",
      "Epoch 20/100\n",
      " - 0s - loss: 0.6422 - acc: 0.4667\n",
      "Epoch 21/100\n",
      " - 0s - loss: 0.6386 - acc: 0.4667\n",
      "Epoch 22/100\n",
      " - 0s - loss: 0.6350 - acc: 0.4667\n",
      "Epoch 23/100\n",
      " - 0s - loss: 0.6314 - acc: 0.4667\n",
      "Epoch 24/100\n",
      " - 0s - loss: 0.6280 - acc: 0.4667\n",
      "Epoch 25/100\n",
      " - 0s - loss: 0.6245 - acc: 0.4667\n",
      "Epoch 26/100\n",
      " - 0s - loss: 0.6210 - acc: 0.4933\n",
      "Epoch 27/100\n",
      " - 0s - loss: 0.6178 - acc: 0.5333\n",
      "Epoch 28/100\n",
      " - 0s - loss: 0.6145 - acc: 0.5467\n",
      "Epoch 29/100\n",
      " - 0s - loss: 0.6113 - acc: 0.5467\n",
      "Epoch 30/100\n",
      " - 0s - loss: 0.6077 - acc: 0.5600\n",
      "Epoch 31/100\n",
      " - 0s - loss: 0.6048 - acc: 0.5600\n",
      "Epoch 32/100\n",
      " - 0s - loss: 0.6018 - acc: 0.5600\n",
      "Epoch 33/100\n",
      " - 0s - loss: 0.5986 - acc: 0.5600\n",
      "Epoch 34/100\n",
      " - 0s - loss: 0.5957 - acc: 0.5600\n",
      "Epoch 35/100\n",
      " - 0s - loss: 0.5931 - acc: 0.5733\n",
      "Epoch 36/100\n",
      " - 0s - loss: 0.5905 - acc: 0.5733\n",
      "Epoch 37/100\n",
      " - 0s - loss: 0.5876 - acc: 0.5733\n",
      "Epoch 38/100\n",
      " - 0s - loss: 0.5848 - acc: 0.5867\n",
      "Epoch 39/100\n",
      " - 0s - loss: 0.5819 - acc: 0.5867\n",
      "Epoch 40/100\n",
      " - 0s - loss: 0.5792 - acc: 0.5867\n",
      "Epoch 41/100\n",
      " - 0s - loss: 0.5762 - acc: 0.5733\n",
      "Epoch 42/100\n",
      " - 0s - loss: 0.5732 - acc: 0.5733\n",
      "Epoch 43/100\n",
      " - 0s - loss: 0.5701 - acc: 0.5867\n",
      "Epoch 44/100\n",
      " - 0s - loss: 0.5667 - acc: 0.5867\n",
      "Epoch 45/100\n",
      " - 0s - loss: 0.5636 - acc: 0.6267\n",
      "Epoch 46/100\n",
      " - 0s - loss: 0.5602 - acc: 0.6267\n",
      "Epoch 47/100\n",
      " - 0s - loss: 0.5571 - acc: 0.6400\n",
      "Epoch 48/100\n",
      " - 0s - loss: 0.5536 - acc: 0.6533\n",
      "Epoch 49/100\n",
      " - 0s - loss: 0.5503 - acc: 0.6800\n",
      "Epoch 50/100\n",
      " - 0s - loss: 0.5470 - acc: 0.6800\n",
      "Epoch 51/100\n",
      " - 0s - loss: 0.5437 - acc: 0.6800\n",
      "Epoch 52/100\n",
      " - 0s - loss: 0.5405 - acc: 0.6800\n",
      "Epoch 53/100\n",
      " - 0s - loss: 0.5373 - acc: 0.6933\n",
      "Epoch 54/100\n",
      " - 0s - loss: 0.5339 - acc: 0.7067\n",
      "Epoch 55/100\n",
      " - 0s - loss: 0.5306 - acc: 0.7067\n",
      "Epoch 56/100\n",
      " - 0s - loss: 0.5274 - acc: 0.7200\n",
      "Epoch 57/100\n",
      " - 0s - loss: 0.5237 - acc: 0.7200\n",
      "Epoch 58/100\n",
      " - 0s - loss: 0.5201 - acc: 0.7200\n",
      "Epoch 59/100\n",
      " - 0s - loss: 0.5164 - acc: 0.7333\n",
      "Epoch 60/100\n",
      " - 0s - loss: 0.5126 - acc: 0.7333\n",
      "Epoch 61/100\n",
      " - 0s - loss: 0.5085 - acc: 0.7333\n",
      "Epoch 62/100\n",
      " - 0s - loss: 0.5046 - acc: 0.7600\n",
      "Epoch 63/100\n",
      " - 0s - loss: 0.5005 - acc: 0.7733\n",
      "Epoch 64/100\n",
      " - 0s - loss: 0.4963 - acc: 0.8133\n",
      "Epoch 65/100\n",
      " - 0s - loss: 0.4919 - acc: 0.8267\n",
      "Epoch 66/100\n",
      " - 0s - loss: 0.4877 - acc: 0.8400\n",
      "Epoch 67/100\n",
      " - 0s - loss: 0.4833 - acc: 0.8800\n",
      "Epoch 68/100\n",
      " - 0s - loss: 0.4790 - acc: 0.8933\n",
      "Epoch 69/100\n",
      " - 0s - loss: 0.4746 - acc: 0.9067\n",
      "Epoch 70/100\n",
      " - 0s - loss: 0.4704 - acc: 0.9067\n",
      "Epoch 71/100\n",
      " - 0s - loss: 0.4662 - acc: 0.9067\n",
      "Epoch 72/100\n",
      " - 0s - loss: 0.4616 - acc: 0.9067\n",
      "Epoch 73/100\n",
      " - 0s - loss: 0.4572 - acc: 0.9200\n",
      "Epoch 74/100\n",
      " - 0s - loss: 0.4526 - acc: 0.9200\n",
      "Epoch 75/100\n",
      " - 0s - loss: 0.4481 - acc: 0.9200\n",
      "Epoch 76/100\n",
      " - 0s - loss: 0.4431 - acc: 0.9200\n",
      "Epoch 77/100\n",
      " - 0s - loss: 0.4378 - acc: 0.9333\n",
      "Epoch 78/100\n",
      " - 0s - loss: 0.4319 - acc: 0.9333\n",
      "Epoch 79/100\n",
      " - 0s - loss: 0.4263 - acc: 0.9600\n",
      "Epoch 80/100\n",
      " - 0s - loss: 0.4202 - acc: 0.9600\n",
      "Epoch 81/100\n",
      " - 0s - loss: 0.4145 - acc: 0.9600\n",
      "Epoch 82/100\n",
      " - 0s - loss: 0.4089 - acc: 0.9733\n",
      "Epoch 83/100\n",
      " - 0s - loss: 0.4030 - acc: 0.9867\n",
      "Epoch 84/100\n",
      " - 0s - loss: 0.3976 - acc: 0.9867\n",
      "Epoch 85/100\n",
      " - 0s - loss: 0.3922 - acc: 0.9867\n",
      "Epoch 86/100\n",
      " - 0s - loss: 0.3868 - acc: 0.9867\n",
      "Epoch 87/100\n",
      " - 0s - loss: 0.3811 - acc: 0.9867\n",
      "Epoch 88/100\n",
      " - 0s - loss: 0.3755 - acc: 0.9867\n",
      "Epoch 89/100\n",
      " - 0s - loss: 0.3697 - acc: 0.9867\n",
      "Epoch 90/100\n",
      " - 0s - loss: 0.3640 - acc: 0.9867\n",
      "Epoch 91/100\n",
      " - 0s - loss: 0.3584 - acc: 0.9867\n",
      "Epoch 92/100\n",
      " - 0s - loss: 0.3529 - acc: 0.9867\n",
      "Epoch 93/100\n",
      " - 0s - loss: 0.3476 - acc: 0.9867\n",
      "Epoch 94/100\n",
      " - 0s - loss: 0.3419 - acc: 0.9867\n",
      "Epoch 95/100\n",
      " - 0s - loss: 0.3362 - acc: 1.0000\n",
      "Epoch 96/100\n",
      " - 0s - loss: 0.3306 - acc: 1.0000\n",
      "Epoch 97/100\n",
      " - 0s - loss: 0.3251 - acc: 1.0000\n",
      "Epoch 98/100\n",
      " - 0s - loss: 0.3195 - acc: 1.0000\n",
      "Epoch 99/100\n",
      " - 0s - loss: 0.3137 - acc: 1.0000\n",
      "Epoch 100/100\n",
      " - 0s - loss: 0.3087 - acc: 1.0000\n"
     ]
    },
    {
     "data": {
      "text/plain": [
       "<tensorflow.python.keras.callbacks.History at 0x1a1a5bda90>"
      ]
     },
     "execution_count": 16,
     "metadata": {},
     "output_type": "execute_result"
    }
   ],
   "source": [
    "deep_model.compile(optimizer='adam',\n",
    "                   loss='categorical_crossentropy',\n",
    "                   metrics=['accuracy'])\n",
    "\n",
    "deep_model.fit(\n",
    "    X_train_scaled,\n",
    "    y_train_categorical,\n",
    "    epochs=100,\n",
    "    shuffle=True,\n",
    "    verbose=2\n",
    ")"
   ]
  },
  {
   "cell_type": "markdown",
   "metadata": {},
   "source": [
    "# Compare the models below"
   ]
  },
  {
   "cell_type": "code",
   "execution_count": 17,
   "metadata": {},
   "outputs": [
    {
     "name": "stdout",
     "output_type": "stream",
     "text": [
      "Normal Neural Network - Loss: 0.5559890270233154, Accuracy: 0.6800000071525574\n"
     ]
    }
   ],
   "source": [
    "model_loss, model_accuracy = model.evaluate(\n",
    "    X_test_scaled, y_test_categorical, verbose=2)\n",
    "print(\n",
    "    f\"Normal Neural Network - Loss: {model_loss}, Accuracy: {model_accuracy}\")"
   ]
  },
  {
   "cell_type": "code",
   "execution_count": 18,
   "metadata": {},
   "outputs": [
    {
     "name": "stdout",
     "output_type": "stream",
     "text": [
      "Deep Neural Network - Loss: 0.3478691577911377, Accuracy: 1.0\n"
     ]
    }
   ],
   "source": [
    "model_loss, model_accuracy = deep_model.evaluate(\n",
    "    X_test_scaled, y_test_categorical, verbose=2)\n",
    "print(f\"Deep Neural Network - Loss: {model_loss}, Accuracy: {model_accuracy}\")"
   ]
  },
  {
   "cell_type": "markdown",
   "metadata": {},
   "source": [
    "# In a nutshell..."
   ]
  },
  {
   "cell_type": "markdown",
   "metadata": {},
   "source": [
    "![stack more layers](../Images/stack-more-layers.jpg)"
   ]
  }
 ],
 "metadata": {
  "anaconda-cloud": {},
  "kernelspec": {
   "display_name": "dev",
   "language": "python",
   "name": "dev"
  },
  "language_info": {
   "codemirror_mode": {
    "name": "ipython",
    "version": 3
   },
   "file_extension": ".py",
   "mimetype": "text/x-python",
   "name": "python",
   "nbconvert_exporter": "python",
   "pygments_lexer": "ipython3",
   "version": "3.6.5"
  },
  "varInspector": {
   "cols": {
    "lenName": 16,
    "lenType": 16,
    "lenVar": 40
   },
   "kernels_config": {
    "python": {
     "delete_cmd_postfix": "",
     "delete_cmd_prefix": "del ",
     "library": "var_list.py",
     "varRefreshCmd": "print(var_dic_list())"
    },
    "r": {
     "delete_cmd_postfix": ") ",
     "delete_cmd_prefix": "rm(",
     "library": "var_list.r",
     "varRefreshCmd": "cat(var_dic_list()) "
    }
   },
   "types_to_exclude": [
    "module",
    "function",
    "builtin_function_or_method",
    "instance",
    "_Feature"
   ],
   "window_display": false
  }
 },
 "nbformat": 4,
 "nbformat_minor": 2
}
