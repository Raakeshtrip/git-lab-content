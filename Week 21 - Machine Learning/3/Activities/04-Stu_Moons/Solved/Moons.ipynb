{
 "cells": [
  {
   "cell_type": "code",
   "execution_count": 1,
   "metadata": {},
   "outputs": [],
   "source": [
    "# Set the seed value for the notebook so the results are reproducible\n",
    "from numpy.random import seed\n",
    "seed(1)"
   ]
  },
  {
   "cell_type": "code",
   "execution_count": 2,
   "metadata": {},
   "outputs": [],
   "source": [
    "%matplotlib inline\n",
    "import matplotlib.pyplot as plt\n",
    "import numpy as np\n",
    "import sklearn\n",
    "import sklearn.datasets"
   ]
  },
  {
   "cell_type": "code",
   "execution_count": 3,
   "metadata": {},
   "outputs": [],
   "source": [
    "X, y = sklearn.datasets.make_moons(200, noise=0.05)"
   ]
  },
  {
   "cell_type": "code",
   "execution_count": 4,
   "metadata": {},
   "outputs": [
    {
     "data": {
      "text/plain": [
       "<matplotlib.collections.PathCollection at 0x1a1cf0d358>"
      ]
     },
     "execution_count": 4,
     "metadata": {},
     "output_type": "execute_result"
    },
    {
     "data": {
      "image/png": "[encoded data removed]",
      "text/plain": [
       "<Figure size 432x288 with 1 Axes>"
      ]
     },
     "metadata": {},
     "output_type": "display_data"
    }
   ],
   "source": [
    "plt.scatter(X[:, 0], X[:, 1], c=y)"
   ]
  },
  {
   "cell_type": "code",
   "execution_count": 5,
   "metadata": {
    "nbgrader": {
     "grade": false,
     "grade_id": "cell-25fb99ba413a3271",
     "locked": false,
     "schema_version": 1,
     "solution": true
    }
   },
   "outputs": [],
   "source": [
    "# Use train_test_split to create training and testing data\n",
    "from sklearn.model_selection import train_test_split\n",
    "\n",
    "X_train, X_test, y_train, y_test = train_test_split(X, y, random_state=1)"
   ]
  },
  {
   "cell_type": "code",
   "execution_count": 6,
   "metadata": {
    "nbgrader": {
     "grade": false,
     "grade_id": "cell-7e1de5d9b7942f68",
     "locked": false,
     "schema_version": 1,
     "solution": true
    }
   },
   "outputs": [],
   "source": [
    "from sklearn.preprocessing import StandardScaler\n",
    "\n",
    "# Create a StandardScater model and fit it to the training data\n",
    "X_scaler = StandardScaler().fit(X_train)"
   ]
  },
  {
   "cell_type": "code",
   "execution_count": 7,
   "metadata": {
    "nbgrader": {
     "grade": false,
     "grade_id": "cell-9532e12246e485d5",
     "locked": false,
     "schema_version": 1,
     "solution": true
    }
   },
   "outputs": [],
   "source": [
    "# Transform the training and testing data using the X_scaler\n",
    "\n",
    "X_train_scaled = X_scaler.transform(X_train)\n",
    "X_test_scaled = X_scaler.transform(X_test)"
   ]
  },
  {
   "cell_type": "code",
   "execution_count": null,
   "metadata": {},
   "outputs": [],
   "source": [
    "from tensorflow.keras.utils import to_categorical"
   ]
  },
  {
   "cell_type": "code",
   "execution_count": 9,
   "metadata": {},
   "outputs": [],
   "source": [
    "# One-hot encoding\n",
    "y_train_categorical = to_categorical(y_train)\n",
    "y_test_categorical = to_categorical(y_test)"
   ]
  },
  {
   "cell_type": "code",
   "execution_count": 10,
   "metadata": {
    "nbgrader": {
     "grade": false,
     "grade_id": "cell-ec399a95e133cb58",
     "locked": false,
     "schema_version": 1,
     "solution": true
    }
   },
   "outputs": [],
   "source": [
    "# first, create a normal neural network with 2 inputs, 6 hidden nodes, and 2 outputs\n",
    "from tensorflow.keras.models import Sequential\n",
    "from tensorflow.keras.layers import Dense\n",
    "\n",
    "model = Sequential()\n",
    "model.add(Dense(units=6, activation='relu', input_dim=2))\n",
    "model.add(Dense(units=2, activation='softmax'))"
   ]
  },
  {
   "cell_type": "code",
   "execution_count": 11,
   "metadata": {},
   "outputs": [
    {
     "name": "stdout",
     "output_type": "stream",
     "text": [
      "_________________________________________________________________\n",
      "Layer (type)                 Output Shape              Param #   \n",
      "=================================================================\n",
      "dense (Dense)                (None, 6)                 18        \n",
      "_________________________________________________________________\n",
      "dense_1 (Dense)              (None, 2)                 14        \n",
      "=================================================================\n",
      "Total params: 32\n",
      "Trainable params: 32\n",
      "Non-trainable params: 0\n",
      "_________________________________________________________________\n"
     ]
    }
   ],
   "source": [
    "model.summary()"
   ]
  },
  {
   "cell_type": "code",
   "execution_count": 12,
   "metadata": {},
   "outputs": [],
   "source": [
    "# Compile the model\n",
    "model.compile(optimizer='adam',\n",
    "              loss='categorical_crossentropy',\n",
    "              metrics=['accuracy'])"
   ]
  },
  {
   "cell_type": "code",
   "execution_count": 13,
   "metadata": {
    "nbgrader": {
     "grade": false,
     "grade_id": "cell-5cf2fbdbea0ed50b",
     "locked": false,
     "schema_version": 1,
     "solution": true
    }
   },
   "outputs": [
    {
     "name": "stdout",
     "output_type": "stream",
     "text": [
      "Epoch 1/100\n",
      " - 1s - loss: 0.7941 - acc: 0.2600\n",
      "Epoch 2/100\n",
      " - 0s - loss: 0.7779 - acc: 0.3533\n",
      "Epoch 3/100\n",
      " - 0s - loss: 0.7620 - acc: 0.4600\n",
      "Epoch 4/100\n",
      " - 0s - loss: 0.7469 - acc: 0.5200\n",
      "Epoch 5/100\n",
      " - 0s - loss: 0.7318 - acc: 0.5533\n",
      "Epoch 6/100\n",
      " - 0s - loss: 0.7185 - acc: 0.5133\n",
      "Epoch 7/100\n",
      " - 0s - loss: 0.7055 - acc: 0.5600\n",
      "Epoch 8/100\n",
      " - 0s - loss: 0.6925 - acc: 0.5600\n",
      "Epoch 9/100\n",
      " - 0s - loss: 0.6807 - acc: 0.5667\n",
      "Epoch 10/100\n",
      " - 0s - loss: 0.6690 - acc: 0.5733\n",
      "Epoch 11/100\n",
      " - 0s - loss: 0.6580 - acc: 0.5800\n",
      "Epoch 12/100\n",
      " - 0s - loss: 0.6477 - acc: 0.5933\n",
      "Epoch 13/100\n",
      " - 0s - loss: 0.6375 - acc: 0.5933\n",
      "Epoch 14/100\n",
      " - 0s - loss: 0.6278 - acc: 0.5933\n",
      "Epoch 15/100\n",
      " - 0s - loss: 0.6184 - acc: 0.6067\n",
      "Epoch 16/100\n",
      " - 0s - loss: 0.6097 - acc: 0.6067\n",
      "Epoch 17/100\n",
      " - 0s - loss: 0.6013 - acc: 0.6133\n",
      "Epoch 18/100\n",
      " - 0s - loss: 0.5929 - acc: 0.6200\n",
      "Epoch 19/100\n",
      " - 0s - loss: 0.5850 - acc: 0.6200\n",
      "Epoch 20/100\n",
      " - 0s - loss: 0.5777 - acc: 0.6333\n",
      "Epoch 21/100\n",
      " - 0s - loss: 0.5705 - acc: 0.6267\n",
      "Epoch 22/100\n",
      " - 0s - loss: 0.5634 - acc: 0.6400\n",
      "Epoch 23/100\n",
      " - 0s - loss: 0.5568 - acc: 0.6533\n",
      "Epoch 24/100\n",
      " - 0s - loss: 0.5505 - acc: 0.6600\n",
      "Epoch 25/100\n",
      " - 0s - loss: 0.5442 - acc: 0.6933\n",
      "Epoch 26/100\n",
      " - 0s - loss: 0.5385 - acc: 0.7067\n",
      "Epoch 27/100\n",
      " - 0s - loss: 0.5328 - acc: 0.7333\n",
      "Epoch 28/100\n",
      " - 0s - loss: 0.5272 - acc: 0.8000\n",
      "Epoch 29/100\n",
      " - 0s - loss: 0.5220 - acc: 0.8600\n",
      "Epoch 30/100\n",
      " - 0s - loss: 0.5169 - acc: 0.8800\n",
      "Epoch 31/100\n",
      " - 0s - loss: 0.5120 - acc: 0.8800\n",
      "Epoch 32/100\n",
      " - 0s - loss: 0.5073 - acc: 0.8733\n",
      "Epoch 33/100\n",
      " - 0s - loss: 0.5026 - acc: 0.8733\n",
      "Epoch 34/100\n",
      " - 0s - loss: 0.4985 - acc: 0.8733\n",
      "Epoch 35/100\n",
      " - 0s - loss: 0.4940 - acc: 0.8800\n",
      "Epoch 36/100\n",
      " - 0s - loss: 0.4896 - acc: 0.8800\n",
      "Epoch 37/100\n",
      " - 0s - loss: 0.4858 - acc: 0.8800\n",
      "Epoch 38/100\n",
      " - 0s - loss: 0.4818 - acc: 0.8800\n",
      "Epoch 39/100\n",
      " - 0s - loss: 0.4778 - acc: 0.8800\n",
      "Epoch 40/100\n",
      " - 0s - loss: 0.4741 - acc: 0.8800\n",
      "Epoch 41/100\n",
      " - 0s - loss: 0.4702 - acc: 0.8800\n",
      "Epoch 42/100\n",
      " - 0s - loss: 0.4667 - acc: 0.8800\n",
      "Epoch 43/100\n",
      " - 0s - loss: 0.4632 - acc: 0.8800\n",
      "Epoch 44/100\n",
      " - 0s - loss: 0.4597 - acc: 0.8800\n",
      "Epoch 45/100\n",
      " - 0s - loss: 0.4565 - acc: 0.8800\n",
      "Epoch 46/100\n",
      " - 0s - loss: 0.4532 - acc: 0.8800\n",
      "Epoch 47/100\n",
      " - 0s - loss: 0.4500 - acc: 0.8800\n",
      "Epoch 48/100\n",
      " - 0s - loss: 0.4467 - acc: 0.8800\n",
      "Epoch 49/100\n",
      " - 0s - loss: 0.4438 - acc: 0.8800\n",
      "Epoch 50/100\n",
      " - 0s - loss: 0.4407 - acc: 0.8800\n",
      "Epoch 51/100\n",
      " - 0s - loss: 0.4378 - acc: 0.8800\n",
      "Epoch 52/100\n",
      " - 0s - loss: 0.4348 - acc: 0.8800\n",
      "Epoch 53/100\n",
      " - 0s - loss: 0.4321 - acc: 0.8800\n",
      "Epoch 54/100\n",
      " - 0s - loss: 0.4292 - acc: 0.8800\n",
      "Epoch 55/100\n",
      " - 0s - loss: 0.4265 - acc: 0.8800\n",
      "Epoch 56/100\n",
      " - 0s - loss: 0.4237 - acc: 0.8800\n",
      "Epoch 57/100\n",
      " - 0s - loss: 0.4211 - acc: 0.8800\n",
      "Epoch 58/100\n",
      " - 0s - loss: 0.4186 - acc: 0.8800\n",
      "Epoch 59/100\n",
      " - 0s - loss: 0.4160 - acc: 0.8800\n",
      "Epoch 60/100\n",
      " - 0s - loss: 0.4135 - acc: 0.8800\n",
      "Epoch 61/100\n",
      " - 0s - loss: 0.4110 - acc: 0.8800\n",
      "Epoch 62/100\n",
      " - 0s - loss: 0.4087 - acc: 0.8800\n",
      "Epoch 63/100\n",
      " - 0s - loss: 0.4063 - acc: 0.8800\n",
      "Epoch 64/100\n",
      " - 0s - loss: 0.4038 - acc: 0.8800\n",
      "Epoch 65/100\n",
      " - 0s - loss: 0.4017 - acc: 0.8800\n",
      "Epoch 66/100\n",
      " - 0s - loss: 0.3993 - acc: 0.8800\n",
      "Epoch 67/100\n",
      " - 0s - loss: 0.3970 - acc: 0.8800\n",
      "Epoch 68/100\n",
      " - 0s - loss: 0.3949 - acc: 0.8800\n",
      "Epoch 69/100\n",
      " - 0s - loss: 0.3927 - acc: 0.8800\n",
      "Epoch 70/100\n",
      " - 0s - loss: 0.3904 - acc: 0.8800\n",
      "Epoch 71/100\n",
      " - 0s - loss: 0.3884 - acc: 0.8800\n",
      "Epoch 72/100\n",
      " - 0s - loss: 0.3861 - acc: 0.8800\n",
      "Epoch 73/100\n",
      " - 0s - loss: 0.3839 - acc: 0.8800\n",
      "Epoch 74/100\n",
      " - 0s - loss: 0.3818 - acc: 0.8800\n",
      "Epoch 75/100\n",
      " - 0s - loss: 0.3797 - acc: 0.8867\n",
      "Epoch 76/100\n",
      " - 0s - loss: 0.3776 - acc: 0.8867\n",
      "Epoch 77/100\n",
      " - 0s - loss: 0.3755 - acc: 0.8867\n",
      "Epoch 78/100\n",
      " - 0s - loss: 0.3734 - acc: 0.8867\n",
      "Epoch 79/100\n",
      " - 0s - loss: 0.3714 - acc: 0.8867\n",
      "Epoch 80/100\n",
      " - 0s - loss: 0.3694 - acc: 0.8867\n",
      "Epoch 81/100\n",
      " - 0s - loss: 0.3673 - acc: 0.8867\n",
      "Epoch 82/100\n",
      " - 0s - loss: 0.3654 - acc: 0.8933\n",
      "Epoch 83/100\n",
      " - 0s - loss: 0.3632 - acc: 0.8933\n",
      "Epoch 84/100\n",
      " - 0s - loss: 0.3613 - acc: 0.8933\n",
      "Epoch 85/100\n",
      " - 0s - loss: 0.3593 - acc: 0.8933\n",
      "Epoch 86/100\n",
      " - 0s - loss: 0.3575 - acc: 0.8933\n",
      "Epoch 87/100\n",
      " - 0s - loss: 0.3555 - acc: 0.8933\n",
      "Epoch 88/100\n",
      " - 0s - loss: 0.3536 - acc: 0.8933\n",
      "Epoch 89/100\n",
      " - 0s - loss: 0.3516 - acc: 0.8933\n",
      "Epoch 90/100\n",
      " - 0s - loss: 0.3498 - acc: 0.8933\n",
      "Epoch 91/100\n",
      " - 0s - loss: 0.3478 - acc: 0.8933\n",
      "Epoch 92/100\n",
      " - 0s - loss: 0.3461 - acc: 0.8933\n",
      "Epoch 93/100\n",
      " - 0s - loss: 0.3441 - acc: 0.9000\n",
      "Epoch 94/100\n",
      " - 0s - loss: 0.3422 - acc: 0.9000\n",
      "Epoch 95/100\n",
      " - 0s - loss: 0.3404 - acc: 0.9000\n",
      "Epoch 96/100\n",
      " - 0s - loss: 0.3385 - acc: 0.9000\n",
      "Epoch 97/100\n",
      " - 0s - loss: 0.3368 - acc: 0.9000\n",
      "Epoch 98/100\n",
      " - 0s - loss: 0.3350 - acc: 0.9000\n",
      "Epoch 99/100\n",
      " - 0s - loss: 0.3331 - acc: 0.9000\n",
      "Epoch 100/100\n",
      " - 0s - loss: 0.3314 - acc: 0.9000\n"
     ]
    },
    {
     "data": {
      "text/plain": [
       "<tensorflow.python.keras.callbacks.History at 0x1a3b368940>"
      ]
     },
     "execution_count": 13,
     "metadata": {},
     "output_type": "execute_result"
    }
   ],
   "source": [
    "# Fit the model to the training data\n",
    "model.fit(\n",
    "    X_train_scaled,\n",
    "    y_train_categorical,\n",
    "    epochs=100,\n",
    "    shuffle=True,\n",
    "    verbose=2\n",
    ")"
   ]
  },
  {
   "cell_type": "markdown",
   "metadata": {},
   "source": [
    "# Deep Learning\n",
    "For this network, we simply add an additional hidden layer of 6 nodes"
   ]
  },
  {
   "cell_type": "code",
   "execution_count": 14,
   "metadata": {},
   "outputs": [],
   "source": [
    "deep_model = Sequential()\n",
    "deep_model.add(Dense(units=6, activation='relu', input_dim=2))\n",
    "deep_model.add(Dense(units=6, activation='relu'))\n",
    "deep_model.add(Dense(units=2, activation='softmax'))"
   ]
  },
  {
   "cell_type": "code",
   "execution_count": 15,
   "metadata": {},
   "outputs": [
    {
     "name": "stdout",
     "output_type": "stream",
     "text": [
      "_________________________________________________________________\n",
      "Layer (type)                 Output Shape              Param #   \n",
      "=================================================================\n",
      "dense_2 (Dense)              (None, 6)                 18        \n",
      "_________________________________________________________________\n",
      "dense_3 (Dense)              (None, 6)                 42        \n",
      "_________________________________________________________________\n",
      "dense_4 (Dense)              (None, 2)                 14        \n",
      "=================================================================\n",
      "Total params: 74\n",
      "Trainable params: 74\n",
      "Non-trainable params: 0\n",
      "_________________________________________________________________\n"
     ]
    }
   ],
   "source": [
    "deep_model.summary()"
   ]
  },
  {
   "cell_type": "code",
   "execution_count": 16,
   "metadata": {},
   "outputs": [
    {
     "name": "stdout",
     "output_type": "stream",
     "text": [
      "Epoch 1/100\n",
      " - 1s - loss: 0.8994 - acc: 0.3200\n",
      "Epoch 2/100\n",
      " - 0s - loss: 0.8834 - acc: 0.3267\n",
      "Epoch 3/100\n",
      " - 0s - loss: 0.8683 - acc: 0.3267\n",
      "Epoch 4/100\n",
      " - 0s - loss: 0.8549 - acc: 0.3400\n",
      "Epoch 5/100\n",
      " - 0s - loss: 0.8411 - acc: 0.3400\n",
      "Epoch 6/100\n",
      " - 0s - loss: 0.8295 - acc: 0.3400\n",
      "Epoch 7/100\n",
      " - 0s - loss: 0.8172 - acc: 0.3533\n",
      "Epoch 8/100\n",
      " - 0s - loss: 0.8066 - acc: 0.3533\n",
      "Epoch 9/100\n",
      " - 0s - loss: 0.7965 - acc: 0.3733\n",
      "Epoch 10/100\n",
      " - 0s - loss: 0.7865 - acc: 0.3733\n",
      "Epoch 11/100\n",
      " - 0s - loss: 0.7769 - acc: 0.3800\n",
      "Epoch 12/100\n",
      " - 0s - loss: 0.7685 - acc: 0.3800\n",
      "Epoch 13/100\n",
      " - 0s - loss: 0.7601 - acc: 0.3933\n",
      "Epoch 14/100\n",
      " - 0s - loss: 0.7515 - acc: 0.4133\n",
      "Epoch 15/100\n",
      " - 0s - loss: 0.7444 - acc: 0.4267\n",
      "Epoch 16/100\n",
      " - 0s - loss: 0.7369 - acc: 0.4333\n",
      "Epoch 17/100\n",
      " - 0s - loss: 0.7297 - acc: 0.4467\n",
      "Epoch 18/100\n",
      " - 0s - loss: 0.7226 - acc: 0.4600\n",
      "Epoch 19/100\n",
      " - 0s - loss: 0.7155 - acc: 0.5267\n",
      "Epoch 20/100\n",
      " - 0s - loss: 0.7088 - acc: 0.6000\n",
      "Epoch 21/100\n",
      " - 0s - loss: 0.7021 - acc: 0.6333\n",
      "Epoch 22/100\n",
      " - 0s - loss: 0.6954 - acc: 0.6667\n",
      "Epoch 23/100\n",
      " - 0s - loss: 0.6885 - acc: 0.6733\n",
      "Epoch 24/100\n",
      " - 0s - loss: 0.6817 - acc: 0.7000\n",
      "Epoch 25/100\n",
      " - 0s - loss: 0.6745 - acc: 0.7133\n",
      "Epoch 26/100\n",
      " - 0s - loss: 0.6679 - acc: 0.7400\n",
      "Epoch 27/100\n",
      " - 0s - loss: 0.6603 - acc: 0.7667\n",
      "Epoch 28/100\n",
      " - 0s - loss: 0.6532 - acc: 0.7733\n",
      "Epoch 29/100\n",
      " - 0s - loss: 0.6455 - acc: 0.8067\n",
      "Epoch 30/100\n",
      " - 0s - loss: 0.6381 - acc: 0.8000\n",
      "Epoch 31/100\n",
      " - 0s - loss: 0.6296 - acc: 0.8267\n",
      "Epoch 32/100\n",
      " - 0s - loss: 0.6215 - acc: 0.8333\n",
      "Epoch 33/100\n",
      " - 0s - loss: 0.6128 - acc: 0.8600\n",
      "Epoch 34/100\n",
      " - 0s - loss: 0.6039 - acc: 0.8933\n",
      "Epoch 35/100\n",
      " - 0s - loss: 0.5944 - acc: 0.9000\n",
      "Epoch 36/100\n",
      " - 0s - loss: 0.5848 - acc: 0.9000\n",
      "Epoch 37/100\n",
      " - 0s - loss: 0.5750 - acc: 0.8933\n",
      "Epoch 38/100\n",
      " - 0s - loss: 0.5644 - acc: 0.8933\n",
      "Epoch 39/100\n",
      " - 0s - loss: 0.5540 - acc: 0.8933\n",
      "Epoch 40/100\n",
      " - 0s - loss: 0.5431 - acc: 0.8933\n",
      "Epoch 41/100\n",
      " - 0s - loss: 0.5320 - acc: 0.8933\n",
      "Epoch 42/100\n",
      " - 0s - loss: 0.5210 - acc: 0.9000\n",
      "Epoch 43/100\n",
      " - 0s - loss: 0.5092 - acc: 0.9000\n",
      "Epoch 44/100\n",
      " - 0s - loss: 0.4978 - acc: 0.9067\n",
      "Epoch 45/100\n",
      " - 0s - loss: 0.4869 - acc: 0.9067\n",
      "Epoch 46/100\n",
      " - 0s - loss: 0.4750 - acc: 0.9067\n",
      "Epoch 47/100\n",
      " - 0s - loss: 0.4640 - acc: 0.9067\n",
      "Epoch 48/100\n",
      " - 0s - loss: 0.4523 - acc: 0.9067\n",
      "Epoch 49/100\n",
      " - 0s - loss: 0.4416 - acc: 0.9067\n",
      "Epoch 50/100\n",
      " - 0s - loss: 0.4305 - acc: 0.9067\n",
      "Epoch 51/100\n",
      " - 0s - loss: 0.4196 - acc: 0.9067\n",
      "Epoch 52/100\n",
      " - 0s - loss: 0.4098 - acc: 0.9067\n",
      "Epoch 53/100\n",
      " - 0s - loss: 0.4000 - acc: 0.9067\n",
      "Epoch 54/100\n",
      " - 0s - loss: 0.3905 - acc: 0.9067\n",
      "Epoch 55/100\n",
      " - 0s - loss: 0.3817 - acc: 0.9067\n",
      "Epoch 56/100\n",
      " - 0s - loss: 0.3729 - acc: 0.9067\n",
      "Epoch 57/100\n",
      " - 0s - loss: 0.3647 - acc: 0.9067\n",
      "Epoch 58/100\n",
      " - 0s - loss: 0.3571 - acc: 0.9067\n",
      "Epoch 59/100\n",
      " - 0s - loss: 0.3499 - acc: 0.9067\n",
      "Epoch 60/100\n",
      " - 0s - loss: 0.3431 - acc: 0.9067\n",
      "Epoch 61/100\n",
      " - 0s - loss: 0.3368 - acc: 0.9067\n",
      "Epoch 62/100\n",
      " - 0s - loss: 0.3301 - acc: 0.9067\n",
      "Epoch 63/100\n",
      " - 0s - loss: 0.3250 - acc: 0.9067\n",
      "Epoch 64/100\n",
      " - 0s - loss: 0.3195 - acc: 0.9067\n",
      "Epoch 65/100\n",
      " - 0s - loss: 0.3143 - acc: 0.9067\n",
      "Epoch 66/100\n",
      " - 0s - loss: 0.3096 - acc: 0.9067\n",
      "Epoch 67/100\n",
      " - 0s - loss: 0.3050 - acc: 0.9067\n",
      "Epoch 68/100\n",
      " - 0s - loss: 0.3010 - acc: 0.9067\n",
      "Epoch 69/100\n",
      " - 0s - loss: 0.2968 - acc: 0.9067\n",
      "Epoch 70/100\n",
      " - 0s - loss: 0.2932 - acc: 0.9067\n",
      "Epoch 71/100\n",
      " - 0s - loss: 0.2898 - acc: 0.9067\n",
      "Epoch 72/100\n",
      " - 0s - loss: 0.2865 - acc: 0.9067\n",
      "Epoch 73/100\n",
      " - 0s - loss: 0.2833 - acc: 0.9067\n",
      "Epoch 74/100\n",
      " - 0s - loss: 0.2805 - acc: 0.9067\n",
      "Epoch 75/100\n",
      " - 0s - loss: 0.2774 - acc: 0.9067\n",
      "Epoch 76/100\n",
      " - 0s - loss: 0.2748 - acc: 0.9067\n",
      "Epoch 77/100\n",
      " - 0s - loss: 0.2721 - acc: 0.9067\n",
      "Epoch 78/100\n",
      " - 0s - loss: 0.2696 - acc: 0.9067\n",
      "Epoch 79/100\n",
      " - 0s - loss: 0.2676 - acc: 0.9067\n",
      "Epoch 80/100\n",
      " - 0s - loss: 0.2652 - acc: 0.9067\n",
      "Epoch 81/100\n",
      " - 0s - loss: 0.2631 - acc: 0.9067\n",
      "Epoch 82/100\n",
      " - 0s - loss: 0.2612 - acc: 0.9067\n",
      "Epoch 83/100\n",
      " - 0s - loss: 0.2593 - acc: 0.9067\n",
      "Epoch 84/100\n",
      " - 0s - loss: 0.2574 - acc: 0.9067\n",
      "Epoch 85/100\n",
      " - 0s - loss: 0.2557 - acc: 0.9067\n",
      "Epoch 86/100\n",
      " - 0s - loss: 0.2539 - acc: 0.9067\n",
      "Epoch 87/100\n",
      " - 0s - loss: 0.2523 - acc: 0.9067\n",
      "Epoch 88/100\n",
      " - 0s - loss: 0.2508 - acc: 0.9067\n",
      "Epoch 89/100\n",
      " - 0s - loss: 0.2494 - acc: 0.9000\n",
      "Epoch 90/100\n",
      " - 0s - loss: 0.2478 - acc: 0.9000\n",
      "Epoch 91/100\n",
      " - 0s - loss: 0.2466 - acc: 0.9000\n",
      "Epoch 92/100\n",
      " - 0s - loss: 0.2451 - acc: 0.9000\n",
      "Epoch 93/100\n",
      " - 0s - loss: 0.2440 - acc: 0.9000\n",
      "Epoch 94/100\n",
      " - 0s - loss: 0.2427 - acc: 0.9000\n",
      "Epoch 95/100\n",
      " - 0s - loss: 0.2412 - acc: 0.9000\n",
      "Epoch 96/100\n",
      " - 0s - loss: 0.2399 - acc: 0.9000\n",
      "Epoch 97/100\n",
      " - 0s - loss: 0.2387 - acc: 0.9000\n",
      "Epoch 98/100\n",
      " - 0s - loss: 0.2373 - acc: 0.9000\n",
      "Epoch 99/100\n",
      " - 0s - loss: 0.2361 - acc: 0.9000\n",
      "Epoch 100/100\n",
      " - 0s - loss: 0.2348 - acc: 0.9000\n"
     ]
    },
    {
     "data": {
      "text/plain": [
       "<tensorflow.python.keras.callbacks.History at 0x1a3b2f61d0>"
      ]
     },
     "execution_count": 16,
     "metadata": {},
     "output_type": "execute_result"
    }
   ],
   "source": [
    "deep_model.compile(optimizer='adam',\n",
    "                   loss='categorical_crossentropy',\n",
    "                   metrics=['accuracy'])\n",
    "\n",
    "deep_model.fit(\n",
    "    X_train_scaled,\n",
    "    y_train_categorical,\n",
    "    epochs=100,\n",
    "    shuffle=True,\n",
    "    verbose=2\n",
    ")"
   ]
  },
  {
   "cell_type": "markdown",
   "metadata": {},
   "source": [
    "# Compare the models below"
   ]
  },
  {
   "cell_type": "code",
   "execution_count": 17,
   "metadata": {},
   "outputs": [
    {
     "name": "stdout",
     "output_type": "stream",
     "text": [
      "Normal Neural Network - Loss: 0.3806242561340332, Accuracy: 0.8399999928474426\n"
     ]
    }
   ],
   "source": [
    "model_loss, model_accuracy = model.evaluate(\n",
    "    X_test_scaled, y_test_categorical, verbose=2)\n",
    "print(\n",
    "    f\"Normal Neural Network - Loss: {model_loss}, Accuracy: {model_accuracy}\")"
   ]
  },
  {
   "cell_type": "code",
   "execution_count": 18,
   "metadata": {},
   "outputs": [
    {
     "name": "stdout",
     "output_type": "stream",
     "text": [
      "Deep Neural Network - Loss: 0.3229337728023529, Accuracy: 0.8600000023841858\n"
     ]
    }
   ],
   "source": [
    "model_loss, model_accuracy = deep_model.evaluate(\n",
    "    X_test_scaled, y_test_categorical, verbose=2)\n",
    "print(f\"Deep Neural Network - Loss: {model_loss}, Accuracy: {model_accuracy}\")"
   ]
  }
 ],
 "metadata": {
  "anaconda-cloud": {},
  "kernelspec": {
   "display_name": "dev",
   "language": "python",
   "name": "dev"
  },
  "language_info": {
   "codemirror_mode": {
    "name": "ipython",
    "version": 3
   },
   "file_extension": ".py",
   "mimetype": "text/x-python",
   "name": "python",
   "nbconvert_exporter": "python",
   "pygments_lexer": "ipython3",
   "version": "3.6.5"
  },
  "varInspector": {
   "cols": {
    "lenName": 16,
    "lenType": 16,
    "lenVar": 40
   },
   "kernels_config": {
    "python": {
     "delete_cmd_postfix": "",
     "delete_cmd_prefix": "del ",
     "library": "var_list.py",
     "varRefreshCmd": "print(var_dic_list())"
    },
    "r": {
     "delete_cmd_postfix": ") ",
     "delete_cmd_prefix": "rm(",
     "library": "var_list.r",
     "varRefreshCmd": "cat(var_dic_list()) "
    }
   },
   "types_to_exclude": [
    "module",
    "function",
    "builtin_function_or_method",
    "instance",
    "_Feature"
   ],
   "window_display": false
  }
 },
 "nbformat": 4,
 "nbformat_minor": 2
}
