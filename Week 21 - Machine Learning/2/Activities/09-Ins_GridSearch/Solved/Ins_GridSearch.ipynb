{
 "cells": [
  {
   "cell_type": "code",
   "execution_count": 1,
   "metadata": {
    "collapsed": true
   },
   "outputs": [],
   "source": [
    "import numpy as np\n",
    "import matplotlib.pyplot as plt\n",
    "\n",
    "from matplotlib import style\n",
    "style.use(\"ggplot\")\n",
    "# from matplotlib import rcParams\n",
    "# rcParams['figure.figsize'] = 10, 8"
   ]
  },
  {
   "cell_type": "code",
   "execution_count": 2,
   "metadata": {},
   "outputs": [
    {
     "data": {
      "image/png": "[encoded data removed]",
      "text/plain": [
       "<matplotlib.figure.Figure at 0x10cce77f0>"
      ]
     },
     "metadata": {},
     "output_type": "display_data"
    }
   ],
   "source": [
    "from sklearn.datasets.samples_generator import make_blobs\n",
    "X, y = make_blobs(n_samples=100, centers=2, random_state=0, cluster_std=.95)\n",
    "plt.scatter(X[:, 0], X[:, 1], c=y, s=100, cmap=\"bwr\");\n",
    "plt.show()"
   ]
  },
  {
   "cell_type": "code",
   "execution_count": 3,
   "metadata": {
    "collapsed": true
   },
   "outputs": [],
   "source": [
    "# Split data into training and testing\n",
    "from sklearn.model_selection import train_test_split\n",
    "X_train, X_test, y_train, y_test = train_test_split(X, y, random_state=42)"
   ]
  },
  {
   "cell_type": "code",
   "execution_count": 12,
   "metadata": {},
   "outputs": [
    {
     "data": {
      "text/plain": [
       "SVC(C=1.0, cache_size=200, class_weight=None, coef0=0.0,\n",
       "  decision_function_shape=None, degree=3, gamma='auto', kernel='linear',\n",
       "  max_iter=-1, probability=False, random_state=None, shrinking=True,\n",
       "  tol=0.001, verbose=False)"
      ]
     },
     "execution_count": 12,
     "metadata": {},
     "output_type": "execute_result"
    }
   ],
   "source": [
    "# Create the SVC Model\n",
    "from sklearn.svm import SVC \n",
    "model = SVC(kernel='linear')\n",
    "model"
   ]
  },
  {
   "cell_type": "code",
   "execution_count": 5,
   "metadata": {},
   "outputs": [],
   "source": [
    "# Create the GridSearch estimator along with a parameter object containing the values to adjust\n",
    "from sklearn.model_selection import GridSearchCV\n",
    "param_grid = {'C': [1, 5, 10, 50],\n",
    "              'gamma': [0.0001, 0.0005, 0.001, 0.005]}\n",
    "grid = GridSearchCV(model, param_grid, verbose=3)"
   ]
  },
  {
   "cell_type": "code",
   "execution_count": 6,
   "metadata": {},
   "outputs": [
    {
     "name": "stdout",
     "output_type": "stream",
     "text": [
      "Fitting 3 folds for each of 16 candidates, totalling 48 fits\n",
      "[CV] C=1, gamma=0.0001 ...............................................\n",
      "[CV] ................ C=1, gamma=0.0001, score=0.884615, total=   0.0s\n",
      "[CV] C=1, gamma=0.0001 ...............................................\n",
      "[CV] ................ C=1, gamma=0.0001, score=0.840000, total=   0.0s\n",
      "[CV] C=1, gamma=0.0001 ...............................................\n",
      "[CV] ................ C=1, gamma=0.0001, score=0.958333, total=   0.0s\n",
      "[CV] C=1, gamma=0.0005 ...............................................\n",
      "[CV] ................ C=1, gamma=0.0005, score=0.884615, total=   0.0s\n",
      "[CV] C=1, gamma=0.0005 ...............................................\n",
      "[CV] ................ C=1, gamma=0.0005, score=0.840000, total=   0.0s\n",
      "[CV] C=1, gamma=0.0005 ...............................................\n",
      "[CV] ................ C=1, gamma=0.0005, score=0.958333, total=   0.0s\n",
      "[CV] C=1, gamma=0.001 ................................................\n",
      "[CV] ................. C=1, gamma=0.001, score=0.884615, total=   0.0s\n",
      "[CV] C=1, gamma=0.001 ................................................\n",
      "[CV] ................. C=1, gamma=0.001, score=0.840000, total=   0.0s\n",
      "[CV] C=1, gamma=0.001 ................................................\n",
      "[CV] ................. C=1, gamma=0.001, score=0.958333, total=   0.0s\n",
      "[CV] C=1, gamma=0.005 ................................................\n",
      "[CV] ................. C=1, gamma=0.005, score=0.884615, total=   0.0s\n",
      "[CV] C=1, gamma=0.005 ................................................\n",
      "[CV] ................. C=1, gamma=0.005, score=0.840000, total=   0.0s\n",
      "[CV] C=1, gamma=0.005 ................................................\n",
      "[CV] ................. C=1, gamma=0.005, score=0.958333, total=   0.0s\n",
      "[CV] C=5, gamma=0.0001 ...............................................\n",
      "[CV] ................ C=5, gamma=0.0001, score=0.923077, total=   0.0s\n",
      "[CV] C=5, gamma=0.0001 ...............................................\n",
      "[CV] ................ C=5, gamma=0.0001, score=0.840000, total=   0.0s\n",
      "[CV] C=5, gamma=0.0001 ...............................................\n",
      "[CV] ................ C=5, gamma=0.0001, score=0.958333, total=   0.0s\n",
      "[CV] C=5, gamma=0.0005 ...............................................\n",
      "[CV] ................ C=5, gamma=0.0005, score=0.923077, total=   0.0s\n",
      "[CV] C=5, gamma=0.0005 ...............................................\n",
      "[CV] ................ C=5, gamma=0.0005, score=0.840000, total=   0.0s\n",
      "[CV] C=5, gamma=0.0005 ...............................................\n",
      "[CV] ................ C=5, gamma=0.0005, score=0.958333, total=   0.0s\n",
      "[CV] C=5, gamma=0.001 ................................................\n",
      "[CV] ................. C=5, gamma=0.001, score=0.923077, total=   0.0s\n",
      "[CV] C=5, gamma=0.001 ................................................\n",
      "[CV] ................. C=5, gamma=0.001, score=0.840000, total=   0.0s\n",
      "[CV] C=5, gamma=0.001 ................................................\n",
      "[CV] ................. C=5, gamma=0.001, score=0.958333, total=   0.0s\n",
      "[CV] C=5, gamma=0.005 ................................................\n",
      "[CV] ................. C=5, gamma=0.005, score=0.923077, total=   0.0s\n",
      "[CV] C=5, gamma=0.005 ................................................\n",
      "[CV] ................. C=5, gamma=0.005, score=0.840000, total=   0.0s\n",
      "[CV] C=5, gamma=0.005 ................................................\n",
      "[CV] ................. C=5, gamma=0.005, score=0.958333, total=   0.0s\n",
      "[CV] C=10, gamma=0.0001 ..............................................\n",
      "[CV] ............... C=10, gamma=0.0001, score=0.923077, total=   0.0s\n",
      "[CV] C=10, gamma=0.0001 ..............................................\n",
      "[CV] ............... C=10, gamma=0.0001, score=0.840000, total=   0.0s\n",
      "[CV] C=10, gamma=0.0001 ..............................................\n",
      "[CV] ............... C=10, gamma=0.0001, score=0.958333, total=   0.0s\n",
      "[CV] C=10, gamma=0.0005 ..............................................\n",
      "[CV] ............... C=10, gamma=0.0005, score=0.923077, total=   0.0s\n",
      "[CV] C=10, gamma=0.0005 ..............................................\n",
      "[CV] ............... C=10, gamma=0.0005, score=0.840000, total=   0.0s\n",
      "[CV] C=10, gamma=0.0005 ..............................................\n",
      "[CV] ............... C=10, gamma=0.0005, score=0.958333, total=   0.0s\n",
      "[CV] C=10, gamma=0.001 ...............................................\n",
      "[CV] ................ C=10, gamma=0.001, score=0.923077, total=   0.0s\n",
      "[CV] C=10, gamma=0.001 ...............................................\n",
      "[CV] ................ C=10, gamma=0.001, score=0.840000, total=   0.0s\n",
      "[CV] C=10, gamma=0.001 ...............................................\n",
      "[CV] ................ C=10, gamma=0.001, score=0.958333, total=   0.0s\n",
      "[CV] C=10, gamma=0.005 ...............................................\n",
      "[CV] ................ C=10, gamma=0.005, score=0.923077, total=   0.0s\n",
      "[CV] C=10, gamma=0.005 ...............................................\n",
      "[CV] ................ C=10, gamma=0.005, score=0.840000, total=   0.0s\n",
      "[CV] C=10, gamma=0.005 ...............................................\n",
      "[CV] ................ C=10, gamma=0.005, score=0.958333, total=   0.0s\n",
      "[CV] C=50, gamma=0.0001 ..............................................\n",
      "[CV] ............... C=50, gamma=0.0001, score=0.884615, total=   0.0s\n",
      "[CV] C=50, gamma=0.0001 ..............................................\n",
      "[CV] ............... C=50, gamma=0.0001, score=0.840000, total=   0.0s\n",
      "[CV] C=50, gamma=0.0001 ..............................................\n",
      "[CV] ............... C=50, gamma=0.0001, score=0.958333, total=   0.0s\n",
      "[CV] C=50, gamma=0.0005 ..............................................\n",
      "[CV] ............... C=50, gamma=0.0005, score=0.884615, total=   0.0s\n",
      "[CV] C=50, gamma=0.0005 ..............................................\n",
      "[CV] ............... C=50, gamma=0.0005, score=0.840000, total=   0.0s\n",
      "[CV] C=50, gamma=0.0005 ..............................................\n",
      "[CV] ............... C=50, gamma=0.0005, score=0.958333, total=   0.0s\n",
      "[CV] C=50, gamma=0.001 ...............................................\n",
      "[CV] ................ C=50, gamma=0.001, score=0.884615, total=   0.0s\n",
      "[CV] C=50, gamma=0.001 ...............................................\n",
      "[CV] ................ C=50, gamma=0.001, score=0.840000, total=   0.0s\n",
      "[CV] C=50, gamma=0.001 ...............................................\n",
      "[CV] ................ C=50, gamma=0.001, score=0.958333, total=   0.0s\n",
      "[CV] C=50, gamma=0.005 ...............................................\n",
      "[CV] ................ C=50, gamma=0.005, score=0.884615, total=   0.0s\n",
      "[CV] C=50, gamma=0.005 ...............................................\n",
      "[CV] ................ C=50, gamma=0.005, score=0.840000, total=   0.0s\n",
      "[CV] C=50, gamma=0.005 ...............................................\n",
      "[CV] ................ C=50, gamma=0.005, score=0.958333, total=   0.0s\n"
     ]
    },
    {
     "name": "stderr",
     "output_type": "stream",
     "text": [
      "[Parallel(n_jobs=1)]: Done   1 out of   1 | elapsed:    0.0s remaining:    0.0s\n",
      "[Parallel(n_jobs=1)]: Done   2 out of   2 | elapsed:    0.0s remaining:    0.0s\n",
      "[Parallel(n_jobs=1)]: Done  48 out of  48 | elapsed:    0.1s finished\n"
     ]
    },
    {
     "data": {
      "text/plain": [
       "GridSearchCV(cv=None, error_score='raise',\n",
       "       estimator=SVC(C=1.0, cache_size=200, class_weight=None, coef0=0.0,\n",
       "  decision_function_shape=None, degree=3, gamma='auto', kernel='linear',\n",
       "  max_iter=-1, probability=False, random_state=None, shrinking=True,\n",
       "  tol=0.001, verbose=False),\n",
       "       fit_params={}, iid=True, n_jobs=1,\n",
       "       param_grid={'C': [1, 5, 10, 50], 'gamma': [0.0001, 0.0005, 0.001, 0.005]},\n",
       "       pre_dispatch='2*n_jobs', refit=True, return_train_score=True,\n",
       "       scoring=None, verbose=3)"
      ]
     },
     "execution_count": 6,
     "metadata": {},
     "output_type": "execute_result"
    }
   ],
   "source": [
    "# Fit the model using the grid search estimator. \n",
    "# This will take the SVC model and try each combination of parameters\n",
    "grid.fit(X_train, y_train)"
   ]
  },
  {
   "cell_type": "code",
   "execution_count": 7,
   "metadata": {},
   "outputs": [
    {
     "name": "stdout",
     "output_type": "stream",
     "text": [
      "{'C': 5, 'gamma': 0.0001}\n"
     ]
    }
   ],
   "source": [
    "# List the best parameters for this dataset\n",
    "print(grid.best_params_)"
   ]
  },
  {
   "cell_type": "code",
   "execution_count": 8,
   "metadata": {},
   "outputs": [
    {
     "name": "stdout",
     "output_type": "stream",
     "text": [
      "0.906666666667\n"
     ]
    }
   ],
   "source": [
    "# List the best score\n",
    "print(grid.best_score_)"
   ]
  },
  {
   "cell_type": "code",
   "execution_count": 9,
   "metadata": {},
   "outputs": [],
   "source": [
    "# Make predictions with the hypertuned model\n",
    "predictions = grid.predict(X_test)"
   ]
  },
  {
   "cell_type": "code",
   "execution_count": 10,
   "metadata": {},
   "outputs": [
    {
     "name": "stdout",
     "output_type": "stream",
     "text": [
      "             precision    recall  f1-score   support\n",
      "\n",
      "       blue       0.83      1.00      0.91        10\n",
      "        red       1.00      0.87      0.93        15\n",
      "\n",
      "avg / total       0.93      0.92      0.92        25\n",
      "\n"
     ]
    }
   ],
   "source": [
    "# Calculate classification report\n",
    "from sklearn.metrics import classification_report\n",
    "print(classification_report(y_test, predictions,\n",
    "                            target_names=[\"blue\", \"red\"]))"
   ]
  }
 ],
 "metadata": {
  "kernelspec": {
   "display_name": "Python 3",
   "language": "python",
   "name": "python3"
  },
  "language_info": {
   "codemirror_mode": {
    "name": "ipython",
    "version": 3
   },
   "file_extension": ".py",
   "mimetype": "text/x-python",
   "name": "python",
   "nbconvert_exporter": "python",
   "pygments_lexer": "ipython3",
   "version": "3.7.3"
  },
  "varInspector": {
   "cols": {
    "lenName": 16,
    "lenType": 16,
    "lenVar": 40
   },
   "kernels_config": {
    "python": {
     "delete_cmd_postfix": "",
     "delete_cmd_prefix": "del ",
     "library": "var_list.py",
     "varRefreshCmd": "print(var_dic_list())"
    },
    "r": {
     "delete_cmd_postfix": ") ",
     "delete_cmd_prefix": "rm(",
     "library": "var_list.r",
     "varRefreshCmd": "cat(var_dic_list()) "
    }
   },
   "types_to_exclude": [
    "module",
    "function",
    "builtin_function_or_method",
    "instance",
    "_Feature"
   ],
   "window_display": false
  }
 },
 "nbformat": 4,
 "nbformat_minor": 2
}
