{
 "cells": [
  {
   "cell_type": "markdown",
   "metadata": {},
   "source": [
    "# Python Reference Guide"
   ]
  },
  {
   "cell_type": "markdown",
   "metadata": {},
   "source": [
    "![Python Logo](Images/python_logo.png)\n",
    "\n",
    "---"
   ]
  },
  {
   "cell_type": "markdown",
   "metadata": {},
   "source": [
    "## Background"
   ]
  },
  {
   "cell_type": "markdown",
   "metadata": {},
   "source": [
    "Python is a powerful, portable, object-oriented programming language. Featuring an easy-to-learn syntax, this programming language (and its tools) is available on all major platforms. It can be used for almost everything in many different scales, including Google's search engine, YouTube, and it also powers the New York Stock Exchange (NYSE). \n",
    "\n",
    "Check out [this link](http://www.pythonforbeginners.com/learn-python/what-is-python/) for a deeper look into the language."
   ]
  },
  {
   "cell_type": "markdown",
   "metadata": {},
   "source": [
    "## Python Cheat Sheet"
   ]
  },
  {
   "cell_type": "markdown",
   "metadata": {},
   "source": [
    "The purpose of this sheet is to function as a quick-reference guide for many of the more common tools used within the language. "
   ]
  },
  {
   "cell_type": "markdown",
   "metadata": {},
   "source": [
    "### `if`, `elif`, and `else`"
   ]
  },
  {
   "cell_type": "markdown",
   "metadata": {},
   "source": [
    "An `if statement` is programming logic: a conditional that will execute a part of code if the condition is met.\n",
    "\n",
    "**Syntax Notes**: Directly following each conditional statement is a colon, followed again by a new indented line. The code will not run without this specific structure. It is Python convention to indent by four spaces."
   ]
  },
  {
   "cell_type": "code",
   "execution_count": 1,
   "metadata": {},
   "outputs": [
    {
     "name": "stdout",
     "output_type": "stream",
     "text": [
      "Greater than 25\n"
     ]
    }
   ],
   "source": [
    "# Save a variable\n",
    "n = 35\n",
    "\n",
    "# Write a conditional that will print a message if met\n",
    "if n > 25:\n",
    "    print(\"Greater than 25\")"
   ]
  },
  {
   "cell_type": "markdown",
   "metadata": {},
   "source": [
    "Now let's break this down.\n",
    "\n",
    "* First, a number of 35 is assigned to a variable named n `n`.\n",
    "\n",
    "* Next, we create an `if statement` stating that if `n` is greater than 25, print \"Greater than 25\" to the console.\n",
    "\n",
    "* Notice that since the conditional statement (35 is greater than 25) has been met, the print statement was generated."
   ]
  },
  {
   "cell_type": "markdown",
   "metadata": {},
   "source": [
    "When multiple conditions exist, an `if statement` can be partnered with `elif` (else if) and `else`."
   ]
  },
  {
   "cell_type": "code",
   "execution_count": 2,
   "metadata": {},
   "outputs": [
    {
     "name": "stdout",
     "output_type": "stream",
     "text": [
      "Less than 25\n"
     ]
    }
   ],
   "source": [
    "# Save a variable\n",
    "n = 15\n",
    "\n",
    "# Write three conditionals for the code to check\n",
    "if n > 25:\n",
    "    print(\"Greater than 25\")\n",
    "elif n >= 20:\n",
    "    print(\"Greater than or equal to 20\")\n",
    "else:\n",
    "    print(\"Less than 25\")"
   ]
  },
  {
   "cell_type": "markdown",
   "metadata": {},
   "source": [
    "Expanding upon the simple `if statement` earlier, now we have an `if statement` with two additional statements: `elif` and `else`. \n",
    "\n",
    "The code checks the variable against each statement before moving to the next, skipping the inner print statement. When the conditional is satisfied, the code outputs the inner print statement and ceases to run. "
   ]
  },
  {
   "cell_type": "markdown",
   "metadata": {},
   "source": [
    "- - - "
   ]
  },
  {
   "cell_type": "markdown",
   "metadata": {},
   "source": [
    "### `For loops`"
   ]
  },
  {
   "cell_type": "markdown",
   "metadata": {},
   "source": [
    "A `for loop` in Python is versatile, simple, and flexible. When a `for loop` is used, it cycles through a section of code a specified number of times."
   ]
  },
  {
   "cell_type": "code",
   "execution_count": 3,
   "metadata": {},
   "outputs": [
    {
     "name": "stdout",
     "output_type": "stream",
     "text": [
      "0\n",
      "1\n",
      "2\n",
      "3\n",
      "4\n"
     ]
    }
   ],
   "source": [
    "for n in range(5):\n",
    "    print(n)"
   ]
  },
  {
   "cell_type": "markdown",
   "metadata": {},
   "source": [
    "In the above example, `n` is a variable that will increment itself at the end of each loop. Next, the word `in` is a specific keyword within the `for loop` syntax; it specifies the starting end ending points of the loop, otherwise known as the `range`. \n",
    "\n",
    "Notice the printed output. Python, similar to many other programming languages, starts counting at `0`. It is also important to note that Python will stop counting before it reaches the end of the range. For example, `in range(5):` means that it will count up to, but not include, 5. "
   ]
  },
  {
   "cell_type": "markdown",
   "metadata": {},
   "source": [
    "- - - "
   ]
  },
  {
   "cell_type": "markdown",
   "metadata": {},
   "source": [
    "### `Lists`"
   ]
  },
  {
   "cell_type": "markdown",
   "metadata": {},
   "source": [
    "Lists are another tool used widely throughout Python, commonly used to hold data. They allow more than one value to be assigned to a `variable`. These values can be accessed and manipulated through various methods, making lists very flexible and powerful."
   ]
  },
  {
   "cell_type": "code",
   "execution_count": 4,
   "metadata": {},
   "outputs": [
    {
     "name": "stdout",
     "output_type": "stream",
     "text": [
      "['dog', 'cat', 'rabbit']\n"
     ]
    }
   ],
   "source": [
    "animals = [\"dog\", \"cat\", \"rabbit\"]\n",
    "\n",
    "print(animals)"
   ]
  },
  {
   "cell_type": "markdown",
   "metadata": {},
   "source": [
    "In the above example, the variable `animals` is assigned multiple values within `square brackets`; these brackets tell us that we are working with a list. \n",
    "\n",
    "The print statement returns all values within the list."
   ]
  },
  {
   "cell_type": "markdown",
   "metadata": {},
   "source": [
    "`List indexing` is a method to call particular values, or items, from the list. "
   ]
  },
  {
   "cell_type": "code",
   "execution_count": 5,
   "metadata": {},
   "outputs": [
    {
     "name": "stdout",
     "output_type": "stream",
     "text": [
      "rabbit\n"
     ]
    }
   ],
   "source": [
    "animals = [\"dog\", \"cat\", \"rabbit\"]\n",
    "\n",
    "print(animals[2])"
   ]
  },
  {
   "cell_type": "markdown",
   "metadata": {},
   "source": [
    "To print a single animal from the list, note that inside the print statement the variable is followed by a number within square brackets. \n",
    "\n",
    "Each value within the list is assigned an index number. By specifying an index number, we are able to choose a single value from the list. "
   ]
  },
  {
   "cell_type": "markdown",
   "metadata": {},
   "source": [
    "`.append()` is a method used to add a value to an existing list. Let's add another animal to our `animals` list."
   ]
  },
  {
   "cell_type": "code",
   "execution_count": 6,
   "metadata": {},
   "outputs": [
    {
     "name": "stdout",
     "output_type": "stream",
     "text": [
      "['dog', 'cat', 'rabbit', 'hamster']\n"
     ]
    }
   ],
   "source": [
    "animals.append(\"hamster\")\n",
    "print(animals)"
   ]
  },
  {
   "cell_type": "markdown",
   "metadata": {},
   "source": [
    "- - -"
   ]
  },
  {
   "cell_type": "markdown",
   "metadata": {},
   "source": [
    "### `Dictionaries`"
   ]
  },
  {
   "cell_type": "markdown",
   "metadata": {},
   "source": [
    "Dictionaries provide another way to hold data. Whereas a value in a list is accessed by its position, a value in a dictionary is accessed by its key. The ordering of values matters in lists, but it does not matter in dictionaries. \n",
    "\n",
    "Instead of using brackets to create it, curly braces are used. "
   ]
  },
  {
   "cell_type": "markdown",
   "metadata": {},
   "source": [
    "The `keys` of a dictionary are enclosed within single or double quotes, followed by a colon then the `key value`. Each `key` and `value` pair are separated by a comma, and all pairs reside within a set of curly braces."
   ]
  },
  {
   "cell_type": "code",
   "execution_count": 7,
   "metadata": {},
   "outputs": [
    {
     "name": "stdout",
     "output_type": "stream",
     "text": [
      "{'dove': 3, 'chickadee': 5, 'hawk': 1}\n"
     ]
    }
   ],
   "source": [
    "# Creating a dictionary\n",
    "birds_sighted = {'dove': 3, 'chickadee': 5, 'hawk': 1}\n",
    "\n",
    "# Printing the dictionary\n",
    "print(birds_sighted)"
   ]
  },
  {
   "cell_type": "code",
   "execution_count": 8,
   "metadata": {},
   "outputs": [
    {
     "name": "stdout",
     "output_type": "stream",
     "text": [
      "1\n"
     ]
    }
   ],
   "source": [
    "# Printing a single value using a dictionary key\n",
    "print(birds_sighted['hawk'])"
   ]
  },
  {
   "cell_type": "markdown",
   "metadata": {},
   "source": [
    "- - -"
   ]
  },
  {
   "cell_type": "markdown",
   "metadata": {},
   "source": [
    "### `Functions`"
   ]
  },
  {
   "cell_type": "markdown",
   "metadata": {},
   "source": [
    "Lists and dictionaries hold data. Functions do things with data. They are also extremely useful in saving code that will be used again later. This way, you won't need to re-write the same block of code repeatedly.\n",
    "\n",
    "A `function` is defined by using the keyword `def` before the function name, followed by a set of parenthesis and a colon.\n",
    "\n",
    "The print statement, on the next indented line, acknowledges that the function is being called."
   ]
  },
  {
   "cell_type": "code",
   "execution_count": 9,
   "metadata": {},
   "outputs": [],
   "source": [
    "def say_hello():\n",
    "    print(\"Hello!\")"
   ]
  },
  {
   "cell_type": "markdown",
   "metadata": {},
   "source": [
    "To call the `function`, type the `function` name followed by a set of parenthesis on a new line."
   ]
  },
  {
   "cell_type": "code",
   "execution_count": 10,
   "metadata": {},
   "outputs": [
    {
     "name": "stdout",
     "output_type": "stream",
     "text": [
      "Hello!\n"
     ]
    }
   ],
   "source": [
    "say_hello()"
   ]
  },
  {
   "cell_type": "markdown",
   "metadata": {},
   "source": [
    "A `function` can also can also act on data input by a user, called an argument."
   ]
  },
  {
   "cell_type": "code",
   "execution_count": 11,
   "metadata": {},
   "outputs": [],
   "source": [
    "name = \"Bob\"\n",
    "\n",
    "def say_hello(name):\n",
    "    print(f\"Hello, {name}!\")"
   ]
  },
  {
   "cell_type": "code",
   "execution_count": 12,
   "metadata": {},
   "outputs": [
    {
     "name": "stdout",
     "output_type": "stream",
     "text": [
      "Hello, Bob!\n"
     ]
    }
   ],
   "source": [
    "say_hello(name)"
   ]
  },
  {
   "cell_type": "markdown",
   "metadata": {},
   "source": [
    "- - -"
   ]
  },
  {
   "cell_type": "markdown",
   "metadata": {},
   "source": [
    "### `.csv Files`"
   ]
  },
  {
   "cell_type": "markdown",
   "metadata": {},
   "source": [
    "When working in Python, you will often find yourself importing data from different sources, such as .csv files. During class, you will be importing .csv files with `os.path.join()`.\n",
    "\n",
    "This method of reading in .csv files works on Windows and Mac operating systems, allowing you to access the saved data using Python code. "
   ]
  },
  {
   "cell_type": "markdown",
   "metadata": {},
   "source": [
    "**Reading a .csv file**"
   ]
  },
  {
   "cell_type": "code",
   "execution_count": 13,
   "metadata": {},
   "outputs": [],
   "source": [
    "# Import the necessary dependencies for os.path.join()\n",
    "import os\n",
    "import csv\n",
    "\n",
    "# Read in a .csv file\n",
    "csv_file = os.path.join(\"folder_name\", \"file.csv\")"
   ]
  },
  {
   "cell_type": "markdown",
   "metadata": {},
   "source": [
    "Notice that there are no back- or forwardslashes in the filepath. Using `os.path.join()` nullifies the hindrance of cross-platform bugs when reading in .csv files."
   ]
  },
  {
   "cell_type": "markdown",
   "metadata": {},
   "source": [
    "**Writing a .csv file**"
   ]
  },
  {
   "cell_type": "code",
   "execution_count": null,
   "metadata": {},
   "outputs": [],
   "source": [
    "# Import necessary dependencies\n",
    "import csv\n",
    "\n",
    "# Create the path for the filename\n",
    "data_output = os.path.join(\"folder_name\", \"data.csv\")\n",
    "\n",
    "# Write data to a .csv file\n",
    "with open(data_output, \"w\", newline=\"\") as csvfile:\n",
    "    writer = csv.writer(csvfile)\n",
    "    # To save specific data input as a row in the csv\n",
    "    writer.writerow([\"row1\", \"row2\"])"
   ]
  },
  {
   "cell_type": "markdown",
   "metadata": {},
   "source": [
    "To learn more about reading and writing .csv files, visit the [Python documentation](https://docs.python.org/3/library/csv.html) webpage."
   ]
  }
 ],
 "metadata": {
  "kernelspec": {
   "display_name": "Python 3",
   "language": "python",
   "name": "python3"
  },
  "language_info": {
   "codemirror_mode": {
    "name": "ipython",
    "version": 3
   },
   "file_extension": ".py",
   "mimetype": "text/x-python",
   "name": "python",
   "nbconvert_exporter": "python",
   "pygments_lexer": "ipython3",
   "version": "3.6.4"
  }
 },
 "nbformat": 4,
 "nbformat_minor": 2
}
