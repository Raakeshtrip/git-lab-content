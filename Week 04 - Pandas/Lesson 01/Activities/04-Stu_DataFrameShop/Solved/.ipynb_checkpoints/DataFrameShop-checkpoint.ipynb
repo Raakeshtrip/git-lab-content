{
 "cells": [
  {
   "cell_type": "code",
   "execution_count": 1,
   "metadata": {},
   "outputs": [],
   "source": [
    "# Import Dependencies\n",
    "%config IPCompleter.greedy=False\n",
    "import pandas as pd"
   ]
  },
  {
   "cell_type": "code",
   "execution_count": 2,
   "metadata": {},
   "outputs": [],
   "source": [
    "# Create a DataFrame of frames using a dictionary of lists\n",
    "frame_df = pd.DataFrame({\n",
    "    \"Frame\": [\"Ornate\", \"Classical\", \"Modern\", \"Wood\", \"Cardboard\"],\n",
    "    \"Price\": [15.00, 12.50, 10.00, 5.00, 1.00],\n",
    "    \"Sales\": [100, 200, 150, 300, \"N/A\"]\n",
    "})\n"
   ]
  },
  {
   "cell_type": "code",
   "execution_count": 8,
   "metadata": {},
   "outputs": [
    {
     "data": {
      "text/html": [
       "<div>\n",
       "<style scoped>\n",
       "    .dataframe tbody tr th:only-of-type {\n",
       "        vertical-align: middle;\n",
       "    }\n",
       "\n",
       "    .dataframe tbody tr th {\n",
       "        vertical-align: top;\n",
       "    }\n",
       "\n",
       "    .dataframe thead th {\n",
       "        text-align: right;\n",
       "    }\n",
       "</style>\n",
       "<table border=\"1\" class=\"dataframe\">\n",
       "  <thead>\n",
       "    <tr style=\"text-align: right;\">\n",
       "      <th></th>\n",
       "      <th>Painting</th>\n",
       "      <th>Popularity</th>\n",
       "      <th>Price</th>\n",
       "    </tr>\n",
       "  </thead>\n",
       "  <tbody>\n",
       "    <tr>\n",
       "      <th>0</th>\n",
       "      <td>Mona Lisa (Knockoff)</td>\n",
       "      <td>Very Popular</td>\n",
       "      <td>25</td>\n",
       "    </tr>\n",
       "    <tr>\n",
       "      <th>1</th>\n",
       "      <td>Van Gogh (Knockoff)</td>\n",
       "      <td>Popular</td>\n",
       "      <td>20</td>\n",
       "    </tr>\n",
       "    <tr>\n",
       "      <th>2</th>\n",
       "      <td>Starving Artist</td>\n",
       "      <td>Average</td>\n",
       "      <td>10</td>\n",
       "    </tr>\n",
       "    <tr>\n",
       "      <th>3</th>\n",
       "      <td>Toddler Drawing</td>\n",
       "      <td>Not Popular</td>\n",
       "      <td>1</td>\n",
       "    </tr>\n",
       "  </tbody>\n",
       "</table>\n",
       "</div>"
      ],
      "text/plain": [
       "               Painting    Popularity  Price\n",
       "0  Mona Lisa (Knockoff)  Very Popular     25\n",
       "1   Van Gogh (Knockoff)       Popular     20\n",
       "2       Starving Artist       Average     10\n",
       "3       Toddler Drawing   Not Popular      1"
      ]
     },
     "execution_count": 8,
     "metadata": {},
     "output_type": "execute_result"
    }
   ],
   "source": [
    "# Create a DataFrame of paintings using a list of dictionaries \n",
    "painting_df = pd.DataFrame([\n",
    "    {\"Painting\": \"Mona Lisa (Knockoff)\", \"Price\": 25,\n",
    "     \"Popularity\": \"Very Popular\"},\n",
    "    {\"Painting\": \"Van Gogh (Knockoff)\", \"Price\": 20, \"Popularity\": \"Popular\"},\n",
    "    {\"Painting\": \"Starving Artist\", \"Price\": 10, \"Popularity\": \"Average\"},\n",
    "    {\"Painting\": \"Toddler Drawing\", \"Price\": 1, \"Popularity\": \"Not Popular\"}\n",
    "])\n",
    "painting_df = pd.DataFrame()"
   ]
  },
  {
   "cell_type": "code",
   "execution_count": null,
   "metadata": {},
   "outputs": [],
   "source": []
  }
 ],
 "metadata": {
  "kernelspec": {
   "display_name": "Python 3",
   "language": "python",
   "name": "python3"
  },
  "language_info": {
   "codemirror_mode": {
    "name": "ipython",
    "version": 3
   },
   "file_extension": ".py",
   "mimetype": "text/x-python",
   "name": "python",
   "nbconvert_exporter": "python",
   "pygments_lexer": "ipython3",
   "version": "3.7.3"
  }
 },
 "nbformat": 4,
 "nbformat_minor": 2
}
