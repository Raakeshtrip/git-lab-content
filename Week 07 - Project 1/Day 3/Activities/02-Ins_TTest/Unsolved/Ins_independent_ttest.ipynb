{
 "cells": [
  {
   "cell_type": "code",
   "execution_count": 1,
   "metadata": {
    "collapsed": true
   },
   "outputs": [],
   "source": [
    "import warnings\n",
    "warnings.filterwarnings('ignore')"
   ]
  },
  {
   "cell_type": "code",
   "execution_count": 2,
   "metadata": {
    "collapsed": true
   },
   "outputs": [],
   "source": [
    "%matplotlib inline\n",
    "from matplotlib import pyplot as plt\n",
    "import numpy as np\n",
    "import scipy.stats as stats"
   ]
  },
  {
   "cell_type": "markdown",
   "metadata": {},
   "source": [
    "# Helper Functions to Generate and Plot Data"
   ]
  },
  {
   "cell_type": "code",
   "execution_count": 3,
   "metadata": {
    "collapsed": true
   },
   "outputs": [],
   "source": [
    "# Generate some fake data to test with\n",
    "def gendata(loc1=0, loc2=0):\n",
    "    sample1 = stats.norm.rvs(loc=loc1, size=50, random_state=0)\n",
    "    sample2 = stats.norm.rvs(loc=loc2, size=45, random_state=42)\n",
    "\n",
    "    # Scatter Plot of Data\n",
    "    plt.subplot(2, 1, 1)\n",
    "    plt.scatter(range(len(sample1)), sample1, label=\"sample1\")\n",
    "    plt.scatter(range(len(sample2)), sample2, label=\"sample2\")\n",
    "    plt.legend()\n",
    "\n",
    "    # Histogram Plot of Data\n",
    "    plt.subplot(2, 1, 2)\n",
    "    plt.hist(sample1, 10, density=True, alpha=0.7, label=\"sample1\")\n",
    "    plt.hist(sample2, 10, density=True, alpha=0.7, label=\"sample2\")\n",
    "    plt.axvline(sample1.mean(), color='k', linestyle='dashed', linewidth=1)\n",
    "    plt.axvline(sample2.mean(), color='k', linestyle='dashed', linewidth=1)\n",
    "    plt.legend()  \n",
    "    \n",
    "    return sample1, sample2"
   ]
  },
  {
   "cell_type": "markdown",
   "metadata": {},
   "source": [
    "# Independent (Two Sample) T-Tests\n",
    "\n",
    "Independent t-tests will compare the means of 2 independed samples.\n",
    "\n",
    "### Assumptions\n",
    "\n",
    "1. Data is normally distributed\n",
    "2. Data is independent\n",
    "3. Data is randomly sampled\n",
    "\n",
    "https://docs.scipy.org/doc/scipy/reference/generated/scipy.stats.ttest_ind.html"
   ]
  }
 ],
 "metadata": {
  "anaconda-cloud": {},
  "kernelspec": {
   "display_name": "Python 3",
   "language": "python",
   "name": "python3"
  },
  "language_info": {
   "codemirror_mode": {
    "name": "ipython",
    "version": 3
   },
   "file_extension": ".py",
   "mimetype": "text/x-python",
   "name": "python",
   "nbconvert_exporter": "python",
   "pygments_lexer": "ipython3",
   "version": "3.6.3"
  },
  "varInspector": {
   "cols": {
    "lenName": 16,
    "lenType": 16,
    "lenVar": 40
   },
   "kernels_config": {
    "python": {
     "delete_cmd_postfix": "",
     "delete_cmd_prefix": "del ",
     "library": "var_list.py",
     "varRefreshCmd": "print(var_dic_list())"
    },
    "r": {
     "delete_cmd_postfix": ") ",
     "delete_cmd_prefix": "rm(",
     "library": "var_list.r",
     "varRefreshCmd": "cat(var_dic_list()) "
    }
   },
   "types_to_exclude": [
    "module",
    "function",
    "builtin_function_or_method",
    "instance",
    "_Feature"
   ],
   "window_display": false
  }
 },
 "nbformat": 4,
 "nbformat_minor": 1
}
